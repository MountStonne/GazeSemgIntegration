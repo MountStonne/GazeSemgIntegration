{
 "cells": [
  {
   "cell_type": "code",
   "execution_count": 8,
   "metadata": {},
   "outputs": [],
   "source": [
    "from IPython.core.interactiveshell import InteractiveShell\n",
    "InteractiveShell.ast_node_interactivity = \"all\"\n",
    "import numpy as np\n",
    "import pandas as pd\n",
    "import matplotlib.pyplot as plt\n",
    "from tqdm.notebook import tqdm\n",
    "from sklearn.svm import LinearSVC,SVC\n",
    "from sklearn.neighbors import KNeighborsClassifier\n",
    "import lightgbm as ltb\n",
    "from sklearn.neural_network import MLPClassifier\n",
    "from copy import deepcopy\n",
    "import warnings\n",
    "\n",
    "\n",
    "from IPython.core.interactiveshell import InteractiveShell\n",
    "InteractiveShell.ast_node_interactivity = \"all\"\n",
    "\n",
    "warnings.filterwarnings('ignore')"
   ]
  },
  {
   "cell_type": "markdown",
   "metadata": {},
   "source": [
    "# Read train/test data (overlapping window size is 200ms, std)"
   ]
  },
  {
   "cell_type": "code",
   "execution_count": 9,
   "metadata": {},
   "outputs": [],
   "source": [
    "trainx = pd.read_csv('traintestdata/std_window_200ms/trainx_std.csv')\n",
    "trainy = pd.read_csv('traintestdata/std_window_200ms/trainy_std.csv')\n",
    "testx1 = pd.read_csv('traintestdata/std_window_200ms/testx1_std.csv')\n",
    "testy1 = pd.read_csv('traintestdata/std_window_200ms/testy1_std.csv')"
   ]
  },
  {
   "cell_type": "markdown",
   "metadata": {},
   "source": [
    "# Find transition data accuracy"
   ]
  },
  {
   "cell_type": "code",
   "execution_count": 15,
   "metadata": {},
   "outputs": [],
   "source": [
    "def find_diff_window_acc(window_size):\n",
    "    acc_list = []\n",
    "    for transition_size in tqdm((window_size)):\n",
    "        # find the ten start point\n",
    "        # ten_start_point is for the testing data set #2\n",
    "        counter = 0\n",
    "        label_number = [1,2,3,4,5,6,7,8,9,10]\n",
    "        checked_label = []\n",
    "        ten_start_point = []\n",
    "        for i in label_number:\n",
    "            for j in range(0, len(testy1)):\n",
    "                if testy1.iloc[j,0] == i:\n",
    "                    if i not in checked_label:\n",
    "                        counter += 1\n",
    "                        checked_label.append(i)\n",
    "                        ten_start_point.append(j)\n",
    "                if counter == 10:\n",
    "                    break\n",
    "\n",
    "        # find the ten new end point\n",
    "        # ten_end_point is for the testing data set #2\n",
    "        last = 1\n",
    "        ten_end_point = []\n",
    "        label_number = [1,2,3,4,5,6,7,8,9,10]\n",
    "        for j in label_number:\n",
    "            last = j\n",
    "            counter = 0\n",
    "            for i in range(ten_start_point[j-1], len(testy1)):\n",
    "                if i == len(testy1)-1:\n",
    "                    ten_end_point.append(i)\n",
    "                current = testy1.iloc[i,0]\n",
    "                if last == current:\n",
    "                    last = current\n",
    "                else:\n",
    "                    last = current\n",
    "                    counter += 1\n",
    "                if counter == 1:\n",
    "                    ten_end_point.append(i)\n",
    "                    break\n",
    "\n",
    "        testx2 = testx1.iloc[ten_start_point[0]:ten_start_point[0]+transition_size, :]\n",
    "        testx2 = testx2.append(testx1.iloc[ten_end_point[0]:ten_end_point[0]+transition_size, :])\n",
    "\n",
    "        for i in range(1,10):\n",
    "            testx2 = testx2.append(testx1.iloc[ten_start_point[i]:ten_start_point[i]+transition_size, :])\n",
    "            testx2 = testx2.append(testx1.iloc[ten_end_point[i]:ten_end_point[i]+transition_size, :])\n",
    "\n",
    "        testy2 = testy1.iloc[ten_start_point[0]:ten_start_point[0]+transition_size, :]\n",
    "        testy2 = testy2.append(testy1.iloc[ten_end_point[0]:ten_end_point[0]+transition_size, :])\n",
    "\n",
    "        for i in range(1,10):\n",
    "            testy2 = testy2.append(testy1.iloc[ten_start_point[i]:ten_start_point[i]+transition_size, :])\n",
    "            testy2 = testy2.append(testy1.iloc[ten_end_point[i]:ten_end_point[i]+transition_size, :])\n",
    "            \n",
    "        lightGBM_model = ltb.LGBMClassifier()\n",
    "        lightGBM_model.fit(trainx,trainy)\n",
    "\n",
    "        expected2 = testy2.values.flatten()\n",
    "        predicted2 = lightGBM_model.predict(testx2)\n",
    "\n",
    "        counter = 0\n",
    "        for i in range(0, len(expected2)):\n",
    "            if expected2[i] == predicted2[i]:\n",
    "                counter += 1\n",
    "\n",
    "        accuracy2 = counter/len(expected2)\n",
    "        acc_list.append(accuracy2)\n",
    "    return acc_list"
   ]
  },
  {
   "cell_type": "code",
   "execution_count": 17,
   "metadata": {},
   "outputs": [
    {
     "data": {
      "application/vnd.jupyter.widget-view+json": {
       "model_id": "670e23725c6f476081655f06f7adbd33",
       "version_major": 2,
       "version_minor": 0
      },
      "text/plain": [
       "HBox(children=(FloatProgress(value=0.0, max=6.0), HTML(value='')))"
      ]
     },
     "metadata": {},
     "output_type": "display_data"
    },
    {
     "name": "stdout",
     "output_type": "stream",
     "text": [
      "\n"
     ]
    }
   ],
   "source": [
    "window_size = [83, 166, 250, 332, 415, 500]\n",
    "acc = find_diff_window_acc(window_size)"
   ]
  },
  {
   "cell_type": "code",
   "execution_count": 21,
   "metadata": {},
   "outputs": [
    {
     "data": {
      "text/plain": [
       "[0.4042168674698795,\n",
       " 0.48463855421686747,\n",
       " 0.5122,\n",
       " 0.5484939759036145,\n",
       " 0.5754216867469879,\n",
       " 0.5819]"
      ]
     },
     "execution_count": 21,
     "metadata": {},
     "output_type": "execute_result"
    }
   ],
   "source": [
    "acc"
   ]
  },
  {
   "cell_type": "markdown",
   "metadata": {},
   "source": [
    "# Plot results"
   ]
  },
  {
   "cell_type": "code",
   "execution_count": 34,
   "metadata": {},
   "outputs": [
    {
     "data": {
      "image/png": "[encoded data removed]",
      "text/plain": [
       "<Figure size 1440x720 with 1 Axes>"
      ]
     },
     "metadata": {
      "needs_background": "light"
     },
     "output_type": "display_data"
    }
   ],
   "source": [
    "# set width of bar\n",
    "barWidth = 0.25\n",
    "fig,ax = plt.subplots(figsize =(20, 10))\n",
    "\n",
    "# set height of bar\n",
    "acc_percentage = []\n",
    "for i in acc:\n",
    "    acc_percentage.append(i *100)\n",
    "\n",
    "# Set position of bar on X axis\n",
    "bar1_index = np.arange(len(acc_percentage))\n",
    "\n",
    "# Make the plot\n",
    "bar1 = ax.bar(bar1_index, acc_percentage, color ='r', width = barWidth, edgecolor ='grey')\n",
    "for p in bar1:\n",
    "   height = p.get_height()\n",
    "   ax.annotate('{}'.format(height),\n",
    "      xy=(p.get_x() + p.get_width() / 2, height),\n",
    "      xytext=(0, 3), # 3 points vertical offset\n",
    "      textcoords=\"offset points\",\n",
    "      ha='center', va='bottom')\n",
    "\n",
    "# Adding Xticks\n",
    "ax.set_xlabel('Transition Zone Window Size', fontweight ='bold', fontsize = 15)\n",
    "ax.set_ylabel('Accuracy %', fontweight ='bold', fontsize = 15)\n",
    "ax.set_xticks(bar1_index)\n",
    "ax.set_xticklabels(['50ms', '100ms', '150ms', '200ms', '250ms', '300ms'])\n",
    "\n",
    "ax.set_ylim(0, 100)\n",
    "ax.set_title('Testing Accuracy for Variant Transition Window (data from subject s010)',size=30)\n",
    "# ax.legend()\n",
    "plt.show();"
   ]
  },
  {
   "cell_type": "code",
   "execution_count": null,
   "metadata": {},
   "outputs": [],
   "source": []
  }
 ],
 "metadata": {
  "kernelspec": {
   "display_name": "Python 3",
   "language": "python",
   "name": "python3"
  },
  "language_info": {
   "codemirror_mode": {
    "name": "ipython",
    "version": 3
   },
   "file_extension": ".py",
   "mimetype": "text/x-python",
   "name": "python",
   "nbconvert_exporter": "python",
   "pygments_lexer": "ipython3",
   "version": "3.8.3"
  }
 },
 "nbformat": 4,
 "nbformat_minor": 4
}
