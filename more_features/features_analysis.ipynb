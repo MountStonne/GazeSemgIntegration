{
 "cells": [
  {
   "cell_type": "code",
   "execution_count": 29,
   "metadata": {},
   "outputs": [],
   "source": [
    "from IPython.core.interactiveshell import InteractiveShell\n",
    "InteractiveShell.ast_node_interactivity = \"all\"\n",
    "import numpy as np\n",
    "import pandas as pd\n",
    "import matplotlib.pyplot as plt\n",
    "from tqdm.notebook import tqdm\n",
    "from sklearn.svm import LinearSVC,SVC\n",
    "from sklearn.neighbors import KNeighborsClassifier\n",
    "import lightgbm as ltb\n",
    "from sklearn.neural_network import MLPClassifier\n",
    "from copy import deepcopy\n",
    "import warnings\n",
    "import math\n",
    "\n",
    "\n",
    "from IPython.core.interactiveshell import InteractiveShell\n",
    "InteractiveShell.ast_node_interactivity = \"all\"\n",
    "\n",
    "warnings.filterwarnings('ignore')"
   ]
  },
  {
   "cell_type": "markdown",
   "metadata": {},
   "source": [
    "# Index variables"
   ]
  },
  {
   "cell_type": "code",
   "execution_count": 30,
   "metadata": {},
   "outputs": [],
   "source": [
    "subject_number = 1"
   ]
  },
  {
   "cell_type": "markdown",
   "metadata": {},
   "source": [
    "# Find where the static data end from data file 'SXXX_dynamic.csv'"
   ]
  },
  {
   "cell_type": "code",
   "execution_count": 31,
   "metadata": {},
   "outputs": [
    {
     "data": {
      "application/vnd.jupyter.widget-view+json": {
       "model_id": "d8a71c0f2b8e44e09ad003eaccbd265e",
       "version_major": 2,
       "version_minor": 0
      },
      "text/plain": [
       "HBox(children=(FloatProgress(value=0.0, max=1.0), HTML(value='')))"
      ]
     },
     "metadata": {},
     "output_type": "display_data"
    },
    {
     "name": "stdout",
     "output_type": "stream",
     "text": [
      "\n"
     ]
    }
   ],
   "source": [
    "static_end = []\n",
    "# fix 12 to 41\n",
    "for i in tqdm(range(10,10+subject_number)):\n",
    "    current_dynamic = pd.read_csv('data_all_intact/S0' + str(i) + '_dynamic.csv', header=None)\n",
    "\n",
    "    for j in range(len(current_dynamic)-1, -1, -1):\n",
    "        if current_dynamic.iloc[j,0] == 0:\n",
    "            static_end.append(j)\n",
    "            break\n",
    "    "
   ]
  },
  {
   "cell_type": "code",
   "execution_count": 32,
   "metadata": {},
   "outputs": [
    {
     "data": {
      "text/plain": [
       "[5413137]"
      ]
     },
     "execution_count": 32,
     "metadata": {},
     "output_type": "execute_result"
    }
   ],
   "source": [
    "static_end"
   ]
  },
  {
   "cell_type": "markdown",
   "metadata": {},
   "source": [
    "# Analysis performance for different features"
   ]
  },
  {
   "cell_type": "code",
   "execution_count": 33,
   "metadata": {},
   "outputs": [],
   "source": [
    "# save accuracy in array 'acc_features'\n",
    "# save features name in array 'name_features'\n",
    "acc_features = []\n",
    "name_features = []"
   ]
  },
  {
   "cell_type": "markdown",
   "metadata": {},
   "source": [
    "### STD--Standard deviation"
   ]
  },
  {
   "cell_type": "code",
   "execution_count": null,
   "metadata": {},
   "outputs": [
    {
     "data": {
      "application/vnd.jupyter.widget-view+json": {
       "model_id": "be807a54de104be383ac994586b5e943",
       "version_major": 2,
       "version_minor": 0
      },
      "text/plain": [
       "HBox(children=(FloatProgress(value=0.0, max=1.0), HTML(value='')))"
      ]
     },
     "metadata": {},
     "output_type": "display_data"
    },
    {
     "data": {
      "application/vnd.jupyter.widget-view+json": {
       "model_id": "c8659bf1eb8442dabc99855ec8b975b8",
       "version_major": 2,
       "version_minor": 0
      },
      "text/plain": [
       "HBox(children=(FloatProgress(value=0.0, max=1623939.0), HTML(value='')))"
      ]
     },
     "metadata": {},
     "output_type": "display_data"
    }
   ],
   "source": [
    "# index variable\n",
    "name = 'STD'\n",
    "\n",
    "# start\n",
    "for i in tqdm(range(10,10+subject_number)):\n",
    "    # read csv files\n",
    "    current_emg = pd.read_csv('data_all_intact/S0' + str(i) + '_emg.csv', header=None)\n",
    "    current_grasp = pd.read_csv('data_all_intact/S0' + str(i) + '_grasp.csv', header=None)\n",
    "    current_grasprepetition = pd.read_csv('data_all_intact/S0' + str(i) + '_grasprepetition.csv', header=None)\n",
    "    \n",
    "    current_static_emg = current_emg.iloc[0:static_end[i-10]]\n",
    "    current_static_grasp = current_grasp.iloc[0:static_end[i-10]]\n",
    "    current_static_grasprepetition = current_grasprepetition.iloc[0:static_end[i-10]]\n",
    "    \n",
    "    # find raw train/test data\n",
    "    train_index = []\n",
    "    test_index = []\n",
    "    for j in range(len(current_static_grasprepetition)):\n",
    "        if current_static_grasprepetition.iloc[j,0] in [1,2,3,4,5,6,7,8,9]:\n",
    "            train_index.append(j)\n",
    "        if current_static_grasprepetition.iloc[j,0] in [10,11,12]:\n",
    "            test_index.append(j)\n",
    "    \n",
    "    trainx_raw = current_static_emg.iloc[train_index].reset_index(drop=True)\n",
    "    trainy_raw = current_static_grasp.iloc[train_index].reset_index(drop=True)\n",
    "\n",
    "    testx_raw = current_static_emg.iloc[test_index].reset_index(drop=True)\n",
    "    testy_raw = current_static_grasp.iloc[test_index].reset_index(drop=True)\n",
    "    \n",
    "    # add overlapping window to train/test data\n",
    "    ## 385 means the overlapping window is 200ms\n",
    "    ## train data\n",
    "    trainx = deepcopy(trainx_raw)\n",
    "    trainy = deepcopy(trainy_raw)\n",
    "    \n",
    "    for a in tqdm(range(385,len(trainx_raw))):\n",
    "        for b in range(0,12):\n",
    "            trainx.iloc[a,b] = trainx_raw.iloc[a-385:a+1,b].std()\n",
    "\n",
    "    trainx = trainx.iloc[385:len(trainx),:]\n",
    "    trainy = trainy.iloc[385:len(trainy),:]\n",
    "    \n",
    "    ## test data\n",
    "    testx = deepcopy(testx_raw)\n",
    "    testy = deepcopy(testy_raw)\n",
    "\n",
    "    for a in tqdm(range(385,len(testx_raw))):\n",
    "        for b in range(0,12):\n",
    "            testx.iloc[a,b] = testx_raw.iloc[a-385:a+1,b].std()\n",
    "\n",
    "    testx = testx.iloc[385:len(testx),:]\n",
    "    testy = testy.iloc[385:len(testy),:]\n",
    "    \n",
    "    # train/test model\n",
    "    lightGBM_model = ltb.LGBMClassifier()\n",
    "    lightGBM_model.fit(trainx,trainy)\n",
    "    expected1 = testy.values.flatten()\n",
    "    predicted1 = lightGBM_model.predict(testx)\n",
    "    counter = 0\n",
    "    for i in range(0, len(expected1)):\n",
    "        if expected1[i] == predicted1[i]:\n",
    "            counter += 1\n",
    "\n",
    "    accuracy1 = counter/len(expected1)\n",
    "\n",
    "acc_features.append(accuracy1)\n",
    "name_features.append(name)"
   ]
  },
  {
   "cell_type": "markdown",
   "metadata": {},
   "source": [
    "### RMS--Root Mean Square"
   ]
  },
  {
   "cell_type": "code",
   "execution_count": null,
   "metadata": {},
   "outputs": [],
   "source": [
    "def rms(self):\n",
    "    current =0\n",
    "    square =0\n",
    "    for i in range(0, len(self)):\n",
    "        current = self.iloc[i]\n",
    "        square += current ** 2\n",
    "    mean = square/len(self)\n",
    "    root = math.sqrt(mean)\n",
    "    return root"
   ]
  },
  {
   "cell_type": "code",
   "execution_count": null,
   "metadata": {},
   "outputs": [],
   "source": [
    "# index variable\n",
    "name = 'RMS'\n",
    "\n",
    "# start\n",
    "for i in tqdm(range(10,10+subject_number)):\n",
    "    # read csv files\n",
    "    current_emg = pd.read_csv('data_all_intact/S0' + str(i) + '_emg.csv', header=None)\n",
    "    current_grasp = pd.read_csv('data_all_intact/S0' + str(i) + '_grasp.csv', header=None)\n",
    "    current_grasprepetition = pd.read_csv('data_all_intact/S0' + str(i) + '_grasprepetition.csv', header=None)\n",
    "    \n",
    "    current_static_emg = current_emg.iloc[0:static_end[i-10]]\n",
    "    current_static_grasp = current_grasp.iloc[0:static_end[i-10]]\n",
    "    current_static_grasprepetition = current_grasprepetition.iloc[0:static_end[i-10]]\n",
    "    \n",
    "    # find raw train/test data\n",
    "    train_index = []\n",
    "    test_index = []\n",
    "    for j in range(len(current_static_grasprepetition)):\n",
    "        if current_static_grasprepetition.iloc[j,0] in [1,2,3,4,5,6,7,8,9]:\n",
    "            train_index.append(j)\n",
    "        if current_static_grasprepetition.iloc[j,0] in [10,11,12]:\n",
    "            test_index.append(j)\n",
    "    \n",
    "    trainx_raw = current_static_emg.iloc[train_index].reset_index(drop=True)\n",
    "    trainy_raw = current_static_grasp.iloc[train_index].reset_index(drop=True)\n",
    "\n",
    "    testx_raw = current_static_emg.iloc[test_index].reset_index(drop=True)\n",
    "    testy_raw = current_static_grasp.iloc[test_index].reset_index(drop=True)\n",
    "    \n",
    "    # add overlapping window to train/test data\n",
    "    ## 385 means the overlapping window is 200ms\n",
    "    ## train data\n",
    "    trainx = deepcopy(trainx_raw)\n",
    "    trainy = deepcopy(trainy_raw)\n",
    "    \n",
    "    for a in tqdm(range(385,len(trainx_raw))):\n",
    "        for b in range(0,12):\n",
    "            trainx.iloc[a,b] = rms(trainx_raw.iloc[a-385:a+1,b])\n",
    "\n",
    "    trainx = trainx.iloc[385:len(trainx),:]\n",
    "    trainy = trainy.iloc[385:len(trainy),:]\n",
    "    \n",
    "    ## test data\n",
    "    testx = deepcopy(testx_raw)\n",
    "    testy = deepcopy(testy_raw)\n",
    "\n",
    "    for a in tqdm(range(385,len(testx_raw))):\n",
    "        for b in range(0,12):\n",
    "            testx.iloc[a,b] = rms(testx_raw.iloc[a-385:a+1,b])\n",
    "\n",
    "    testx = testx.iloc[385:len(testx),:]\n",
    "    testy = testy.iloc[385:len(testy),:]\n",
    "    \n",
    "    # train/test model\n",
    "    lightGBM_model = ltb.LGBMClassifier()\n",
    "    lightGBM_model.fit(trainx,trainy)\n",
    "    expected1 = testy.values.flatten()\n",
    "    predicted1 = lightGBM_model.predict(testx)\n",
    "    counter = 0\n",
    "    for i in range(0, len(expected1)):\n",
    "        if expected1[i] == predicted1[i]:\n",
    "            counter += 1\n",
    "\n",
    "    accuracy1 = counter/len(expected1)\n",
    "\n",
    "acc_features.append(accuracy1)\n",
    "name_features.append(name)"
   ]
  },
  {
   "cell_type": "code",
   "execution_count": null,
   "metadata": {},
   "outputs": [],
   "source": []
  },
  {
   "cell_type": "code",
   "execution_count": null,
   "metadata": {},
   "outputs": [],
   "source": []
  },
  {
   "cell_type": "code",
   "execution_count": null,
   "metadata": {},
   "outputs": [],
   "source": []
  },
  {
   "cell_type": "code",
   "execution_count": null,
   "metadata": {},
   "outputs": [],
   "source": []
  },
  {
   "cell_type": "code",
   "execution_count": null,
   "metadata": {},
   "outputs": [],
   "source": []
  },
  {
   "cell_type": "code",
   "execution_count": null,
   "metadata": {},
   "outputs": [],
   "source": [
    "acc_features\n",
    "name_features"
   ]
  },
  {
   "cell_type": "code",
   "execution_count": null,
   "metadata": {},
   "outputs": [],
   "source": []
  },
  {
   "cell_type": "code",
   "execution_count": null,
   "metadata": {},
   "outputs": [],
   "source": []
  },
  {
   "cell_type": "code",
   "execution_count": null,
   "metadata": {},
   "outputs": [],
   "source": []
  },
  {
   "cell_type": "code",
   "execution_count": null,
   "metadata": {},
   "outputs": [],
   "source": []
  },
  {
   "cell_type": "code",
   "execution_count": null,
   "metadata": {},
   "outputs": [],
   "source": []
  },
  {
   "cell_type": "code",
   "execution_count": null,
   "metadata": {},
   "outputs": [],
   "source": []
  },
  {
   "cell_type": "code",
   "execution_count": null,
   "metadata": {},
   "outputs": [],
   "source": []
  },
  {
   "cell_type": "code",
   "execution_count": null,
   "metadata": {},
   "outputs": [],
   "source": []
  },
  {
   "cell_type": "code",
   "execution_count": null,
   "metadata": {},
   "outputs": [],
   "source": []
  },
  {
   "cell_type": "code",
   "execution_count": null,
   "metadata": {},
   "outputs": [],
   "source": []
  },
  {
   "cell_type": "code",
   "execution_count": null,
   "metadata": {},
   "outputs": [],
   "source": []
  },
  {
   "cell_type": "code",
   "execution_count": null,
   "metadata": {},
   "outputs": [],
   "source": []
  },
  {
   "cell_type": "code",
   "execution_count": null,
   "metadata": {},
   "outputs": [],
   "source": []
  },
  {
   "cell_type": "code",
   "execution_count": null,
   "metadata": {},
   "outputs": [],
   "source": []
  },
  {
   "cell_type": "code",
   "execution_count": null,
   "metadata": {},
   "outputs": [],
   "source": []
  },
  {
   "cell_type": "code",
   "execution_count": null,
   "metadata": {},
   "outputs": [],
   "source": []
  },
  {
   "cell_type": "code",
   "execution_count": null,
   "metadata": {},
   "outputs": [],
   "source": []
  }
 ],
 "metadata": {
  "kernelspec": {
   "display_name": "Python 3",
   "language": "python",
   "name": "python3"
  },
  "language_info": {
   "codemirror_mode": {
    "name": "ipython",
    "version": 3
   },
   "file_extension": ".py",
   "mimetype": "text/x-python",
   "name": "python",
   "nbconvert_exporter": "python",
   "pygments_lexer": "ipython3",
   "version": "3.8.3"
  }
 },
 "nbformat": 4,
 "nbformat_minor": 4
}
