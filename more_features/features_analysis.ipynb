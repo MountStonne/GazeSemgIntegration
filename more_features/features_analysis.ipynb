{
 "cells": [
  {
   "cell_type": "code",
   "execution_count": 5,
   "metadata": {
    "colab": {
     "base_uri": "https://localhost:8080/"
    },
    "executionInfo": {
     "elapsed": 17003,
     "status": "ok",
     "timestamp": 1621535519144,
     "user": {
      "displayName": "Shuo Wang",
      "photoUrl": "",
      "userId": "03427284339152934817"
     },
     "user_tz": 150
    },
    "id": "wIZizX7dC1h1",
    "outputId": "64015d85-5f8f-4249-c6a5-565570994e8a"
   },
   "outputs": [],
   "source": [
    "# from google.colab import drive\n",
    "# drive.mount('/content/drive')\n",
    "# %cd /content/drive/My Drive/Colab Notebooks/Research/GazeSemgIntegration/more_features"
   ]
  },
  {
   "cell_type": "code",
   "execution_count": 6,
   "metadata": {
    "executionInfo": {
     "elapsed": 137,
     "status": "ok",
     "timestamp": 1621535523862,
     "user": {
      "displayName": "Shuo Wang",
      "photoUrl": "",
      "userId": "03427284339152934817"
     },
     "user_tz": 150
    },
    "id": "Ns2I3EZ2BjV5"
   },
   "outputs": [],
   "source": [
    "from IPython.core.interactiveshell import InteractiveShell\n",
    "InteractiveShell.ast_node_interactivity = \"all\"\n",
    "import numpy as np\n",
    "import pandas as pd\n",
    "import matplotlib.pyplot as plt\n",
    "from tqdm.notebook import tqdm\n",
    "from sklearn.svm import LinearSVC,SVC\n",
    "from sklearn.neighbors import KNeighborsClassifier\n",
    "import lightgbm as ltb\n",
    "from sklearn.neural_network import MLPClassifier\n",
    "from copy import deepcopy\n",
    "import warnings\n",
    "import math\n",
    "\n",
    "\n",
    "from IPython.core.interactiveshell import InteractiveShell\n",
    "InteractiveShell.ast_node_interactivity = \"all\"\n",
    "\n",
    "warnings.filterwarnings('ignore')"
   ]
  },
  {
   "cell_type": "markdown",
   "metadata": {
    "id": "qg1oNh4wBjV8"
   },
   "source": [
    "# Index variables"
   ]
  },
  {
   "cell_type": "code",
   "execution_count": 2,
   "metadata": {
    "executionInfo": {
     "elapsed": 3,
     "status": "ok",
     "timestamp": 1621535525151,
     "user": {
      "displayName": "Shuo Wang",
      "photoUrl": "",
      "userId": "03427284339152934817"
     },
     "user_tz": 150
    },
    "id": "z7HblvNOBjV8"
   },
   "outputs": [],
   "source": [
    "subject_number = 1"
   ]
  },
  {
   "cell_type": "markdown",
   "metadata": {
    "id": "dJH7JxyuBjV9"
   },
   "source": [
    "# Find where the static data end from data file 'SXXX_dynamic.csv'"
   ]
  },
  {
   "cell_type": "code",
   "execution_count": 3,
   "metadata": {
    "colab": {
     "base_uri": "https://localhost:8080/",
     "height": 66,
     "referenced_widgets": [
      "e6dd2c554f9f459b9598debd2017da9a",
      "42af13c010224c7cb29c1a6488e4cb65",
      "13bd59b48dd64ee180ab851bf31a5523",
      "cabaf65d93c74f3cac9d8f94c4377118",
      "538effeeca6d4fd88e172312f5271135",
      "1f1612bd79fc45ca876561a1d14c92d9",
      "b9749094dff647f88295bfd8247e466f",
      "88dacc464e654a6a9cb2162d2825541e"
     ]
    },
    "executionInfo": {
     "elapsed": 57238,
     "status": "ok",
     "timestamp": 1621535584328,
     "user": {
      "displayName": "Shuo Wang",
      "photoUrl": "",
      "userId": "03427284339152934817"
     },
     "user_tz": 150
    },
    "id": "lZjufSmjBjV9",
    "outputId": "1a92481a-5bf5-4479-b8fd-df45db6afb48"
   },
   "outputs": [
    {
     "data": {
      "application/vnd.jupyter.widget-view+json": {
       "model_id": "a0c9302410c744e5a947b9914636c513",
       "version_major": 2,
       "version_minor": 0
      },
      "text/plain": [
       "  0%|          | 0/1 [00:00<?, ?it/s]"
      ]
     },
     "metadata": {},
     "output_type": "display_data"
    }
   ],
   "source": [
    "static_end = []\n",
    "\n",
    "for i in tqdm(range(10,10+subject_number)):\n",
    "    current_dynamic = pd.read_csv('data_all_intact/S0' + str(i) + '_dynamic.csv', header=None)\n",
    "\n",
    "    for j in range(len(current_dynamic)-1, -1, -1):\n",
    "        if current_dynamic.iloc[j,0] == 0:\n",
    "            static_end.append(j)\n",
    "            break\n",
    "    "
   ]
  },
  {
   "cell_type": "code",
   "execution_count": 4,
   "metadata": {
    "colab": {
     "base_uri": "https://localhost:8080/"
    },
    "executionInfo": {
     "elapsed": 7,
     "status": "ok",
     "timestamp": 1621535584329,
     "user": {
      "displayName": "Shuo Wang",
      "photoUrl": "",
      "userId": "03427284339152934817"
     },
     "user_tz": 150
    },
    "id": "Hsl17G63BjV-",
    "outputId": "66c58f50-4e90-4011-ca1e-19182db5a877"
   },
   "outputs": [
    {
     "data": {
      "text/plain": [
       "[5413137]"
      ]
     },
     "execution_count": 4,
     "metadata": {},
     "output_type": "execute_result"
    }
   ],
   "source": [
    "static_end"
   ]
  },
  {
   "cell_type": "markdown",
   "metadata": {
    "id": "F9L8pCh0BjV_"
   },
   "source": [
    "# Analysis performance for different features"
   ]
  },
  {
   "cell_type": "code",
   "execution_count": 5,
   "metadata": {
    "executionInfo": {
     "elapsed": 142,
     "status": "ok",
     "timestamp": 1621535672199,
     "user": {
      "displayName": "Shuo Wang",
      "photoUrl": "",
      "userId": "03427284339152934817"
     },
     "user_tz": 150
    },
    "id": "zODHyb_HBjV_"
   },
   "outputs": [],
   "source": [
    "# save accuracy in array 'acc_features'\n",
    "# save features name in array 'name_features'\n",
    "acc_features = []\n",
    "name_features = []"
   ]
  },
  {
   "cell_type": "markdown",
   "metadata": {
    "id": "o-k1bLqTBjWA"
   },
   "source": [
    "## STD--Standard deviation"
   ]
  },
  {
   "cell_type": "code",
   "execution_count": 14,
   "metadata": {
    "colab": {
     "base_uri": "https://localhost:8080/",
     "height": 267,
     "referenced_widgets": [
      "05c83c2958af442a9177be9c5f24b10f",
      "b76e1f70088643caa0c7eba38c3ed939",
      "ceb7dc9bea004ac38a0227972698012c",
      "1bdfcb60beb841db9c60a077939dbb0b",
      "f18ac9ace3a3466eaa1a587538d74958",
      "29d544ef7d4d46c88f4ac78fc8f302ab",
      "8ddba0e8e1d44d60990f023157758de1",
      "a7a8b5e6e9d14848ae67c7b47b12872a",
      "a9327fd9f7804778af077b28a1358078",
      "0485ffee939849e1bd72b244333071c1",
      "acfd798bb6f041b3ae1b971500b0dcce",
      "f7f27742ed7a4b3d827a9c30b514b325",
      "84829638b9f04007a480517faf5e457f",
      "072b5bde920d43b595d599dc6a537ea6",
      "bc413f5bb0fe4d5ab4d599a07afe9d32",
      "d1b6d39a786c4a05848428bc0177aec6",
      "18ab4903d1af4581bf608b3a2b46fcdb",
      "cd69f64ee25f47ddb1a4b8a8cdb36bff",
      "efb22a44ffb14e04949df84574b731c5",
      "d59cb59e2fed460bab3f13f01e198696",
      "77071fd30a4a4f97942931d75af0e90c",
      "8b4d39bc01d541218f4f27d08fde8f7b",
      "455b531e102746a991583a300289af98",
      "dd251a61915b493087a3c04355b5d3bc"
     ]
    },
    "executionInfo": {
     "elapsed": 7758225,
     "status": "ok",
     "timestamp": 1621543451983,
     "user": {
      "displayName": "Shuo Wang",
      "photoUrl": "",
      "userId": "03427284339152934817"
     },
     "user_tz": 150
    },
    "id": "vyI2lJs4BjWA",
    "outputId": "57b214f7-2a4e-43c9-aa7a-baf8242ec621"
   },
   "outputs": [
    {
     "data": {
      "application/vnd.google.colaboratory.intrinsic+json": {
       "type": "string"
      },
      "text/plain": [
       "'change name, features'"
      ]
     },
     "execution_count": 14,
     "metadata": {
      "tags": []
     },
     "output_type": "execute_result"
    },
    {
     "data": {
      "application/vnd.jupyter.widget-view+json": {
       "model_id": "05c83c2958af442a9177be9c5f24b10f",
       "version_major": 2,
       "version_minor": 0
      },
      "text/plain": [
       "HBox(children=(FloatProgress(value=0.0, max=1.0), HTML(value='')))"
      ]
     },
     "metadata": {
      "tags": []
     },
     "output_type": "display_data"
    },
    {
     "data": {
      "application/vnd.jupyter.widget-view+json": {
       "model_id": "a9327fd9f7804778af077b28a1358078",
       "version_major": 2,
       "version_minor": 0
      },
      "text/plain": [
       "HBox(children=(FloatProgress(value=0.0, max=1623939.0), HTML(value='')))"
      ]
     },
     "metadata": {
      "tags": []
     },
     "output_type": "display_data"
    },
    {
     "name": "stdout",
     "output_type": "stream",
     "text": [
      "\n"
     ]
    },
    {
     "data": {
      "application/vnd.jupyter.widget-view+json": {
       "model_id": "18ab4903d1af4581bf608b3a2b46fcdb",
       "version_major": 2,
       "version_minor": 0
      },
      "text/plain": [
       "HBox(children=(FloatProgress(value=0.0, max=520592.0), HTML(value='')))"
      ]
     },
     "metadata": {
      "tags": []
     },
     "output_type": "display_data"
    },
    {
     "name": "stdout",
     "output_type": "stream",
     "text": [
      "\n"
     ]
    },
    {
     "data": {
      "text/plain": [
       "LGBMClassifier(boosting_type='gbdt', class_weight=None, colsample_bytree=1.0,\n",
       "               importance_type='split', learning_rate=0.1, max_depth=-1,\n",
       "               min_child_samples=20, min_child_weight=0.001, min_split_gain=0.0,\n",
       "               n_estimators=100, n_jobs=-1, num_leaves=31, objective=None,\n",
       "               random_state=None, reg_alpha=0.0, reg_lambda=0.0, silent=True,\n",
       "               subsample=1.0, subsample_for_bin=200000, subsample_freq=0)"
      ]
     },
     "execution_count": 14,
     "metadata": {
      "tags": []
     },
     "output_type": "execute_result"
    },
    {
     "name": "stdout",
     "output_type": "stream",
     "text": [
      "\n"
     ]
    }
   ],
   "source": [
    "# index variable\n",
    "'''change name, features'''\n",
    "name = 'STD'\n",
    "\n",
    "# start\n",
    "for i in tqdm(range(10,10+subject_number)):\n",
    "    # read csv files\n",
    "    current_emg = pd.read_csv('data_all_intact/S0' + str(i) + '_emg.csv', header=None)\n",
    "    current_grasp = pd.read_csv('data_all_intact/S0' + str(i) + '_grasp.csv', header=None)\n",
    "    current_grasprepetition = pd.read_csv('data_all_intact/S0' + str(i) + '_grasprepetition.csv', header=None)\n",
    "    \n",
    "    current_static_emg = current_emg.iloc[0:static_end[i-10]]\n",
    "    current_static_grasp = current_grasp.iloc[0:static_end[i-10]]\n",
    "    current_static_grasprepetition = current_grasprepetition.iloc[0:static_end[i-10]]\n",
    "    \n",
    "    # find raw train/test data\n",
    "    train_index = []\n",
    "    test_index = []\n",
    "    for j in range(len(current_static_grasprepetition)):\n",
    "        if current_static_grasprepetition.iloc[j,0] in [1,2,3,4,5,6,7,8,9]:\n",
    "            train_index.append(j)\n",
    "        if current_static_grasprepetition.iloc[j,0] in [10,11,12]:\n",
    "            test_index.append(j)\n",
    "    \n",
    "    trainx_raw = current_static_emg.iloc[train_index].reset_index(drop=True)\n",
    "    trainy_raw = current_static_grasp.iloc[train_index].reset_index(drop=True)\n",
    "\n",
    "    testx_raw = current_static_emg.iloc[test_index].reset_index(drop=True)\n",
    "    testy_raw = current_static_grasp.iloc[test_index].reset_index(drop=True)\n",
    "    \n",
    "    # add overlapping window to train/test data\n",
    "    ## 385 means the overlapping window is 200ms\n",
    "    ## train data\n",
    "    trainx = deepcopy(trainx_raw)\n",
    "    trainy = deepcopy(trainy_raw)\n",
    "    \n",
    "    for a in tqdm(range(385,len(trainx_raw))):\n",
    "        for b in range(0,12):\n",
    "            trainx.iloc[a,b] = trainx_raw.iloc[a-385:a+1,b].std()\n",
    "\n",
    "    trainx = trainx.iloc[385:len(trainx),:]\n",
    "    trainy = trainy.iloc[385:len(trainy),:]\n",
    "    \n",
    "    ## test data\n",
    "    testx = deepcopy(testx_raw)\n",
    "    testy = deepcopy(testy_raw)\n",
    "\n",
    "    for a in tqdm(range(385,len(testx_raw))):\n",
    "        for b in range(0,12):\n",
    "            testx.iloc[a,b] = testx_raw.iloc[a-385:a+1,b].std()\n",
    "\n",
    "    testx = testx.iloc[385:len(testx),:]\n",
    "    testy = testy.iloc[385:len(testy),:]\n",
    "    \n",
    "    # train/test model\n",
    "    lightGBM_model = ltb.LGBMClassifier()\n",
    "    lightGBM_model.fit(trainx,trainy)\n",
    "    expected1 = testy.values.flatten()\n",
    "    predicted1 = lightGBM_model.predict(testx)\n",
    "    counter = 0\n",
    "    for i in range(0, len(expected1)):\n",
    "        if expected1[i] == predicted1[i]:\n",
    "            counter += 1\n",
    "\n",
    "    accuracy1 = counter/len(expected1)\n",
    "\n",
    "acc_features.append(accuracy1)\n",
    "name_features.append(name)"
   ]
  },
  {
   "cell_type": "code",
   "execution_count": 17,
   "metadata": {
    "executionInfo": {
     "elapsed": 171,
     "status": "ok",
     "timestamp": 1621545347757,
     "user": {
      "displayName": "Shuo Wang",
      "photoUrl": "",
      "userId": "03427284339152934817"
     },
     "user_tz": 150
    },
    "id": "OlSplUyLDju1"
   },
   "outputs": [],
   "source": [
    "# trainx.to_csv('featured_data/'+name+'/trainx.csv')\n",
    "# trainy.to_csv('featured_data/'+name+'/trainy.csv')\n",
    "# testx.to_csv('featured_data/'+name+'/testx.csv')\n",
    "# testy.to_csv('featured_data/'+name+'/testy.csv')"
   ]
  },
  {
   "cell_type": "markdown",
   "metadata": {
    "id": "ypg8s0AfBjWB"
   },
   "source": [
    "## RMS--Root Mean Square"
   ]
  },
  {
   "cell_type": "code",
   "execution_count": 18,
   "metadata": {
    "executionInfo": {
     "elapsed": 140,
     "status": "ok",
     "timestamp": 1621545350096,
     "user": {
      "displayName": "Shuo Wang",
      "photoUrl": "",
      "userId": "03427284339152934817"
     },
     "user_tz": 150
    },
    "id": "Jt2cF4utBjWB"
   },
   "outputs": [],
   "source": [
    "def rms(self):\n",
    "    current =0\n",
    "    square =0\n",
    "    for i in range(0, len(self)):\n",
    "        current = self.iloc[i]\n",
    "        square += current ** 2\n",
    "    mean = square/len(self)\n",
    "    root = math.sqrt(mean)\n",
    "    return root"
   ]
  },
  {
   "cell_type": "code",
   "execution_count": null,
   "metadata": {
    "colab": {
     "base_uri": "https://localhost:8080/",
     "height": 99,
     "referenced_widgets": [
      "66ae9300193e40c2a696eaa9c2e53b77",
      "f0b617d94ec14df286677aa28da97502",
      "2d5539f8070942009d529ebc642050a1",
      "9cde1aeab1474d8fb52571b46ac900da",
      "75f5c629c93445779c3ea1ded8758c9a",
      "a0149a66849b44a5830c17a47d7ddfd5",
      "e6053863efb84af09cf837a879a87ac0",
      "939146d8de6447df855372e1f34feb30",
      "3221bd9b704d4256acc157764564ad02",
      "9f5b21c281b54c9da067d857d9035c5e",
      "fb90016820a8497a9e459b2d1d6048d4",
      "c2c02befe1404e81bfe8527a547b6159",
      "29d96997fb584381a0154d9df788613d",
      "1e42e7302881425388c296141b91b36c",
      "a0641603f7fc4f8f9edf151f00b4b517",
      "8e0b2d39b20a4cb5a71eb0e224a4365f"
     ]
    },
    "id": "kW3nEuMiBjWC",
    "outputId": "0c15b12b-350f-43fd-bd86-3d4aa9fdc266"
   },
   "outputs": [
    {
     "data": {
      "application/vnd.google.colaboratory.intrinsic+json": {
       "type": "string"
      },
      "text/plain": [
       "'change name, features'"
      ]
     },
     "execution_count": 19,
     "metadata": {
      "tags": []
     },
     "output_type": "execute_result"
    },
    {
     "data": {
      "application/vnd.jupyter.widget-view+json": {
       "model_id": "66ae9300193e40c2a696eaa9c2e53b77",
       "version_major": 2,
       "version_minor": 0
      },
      "text/plain": [
       "HBox(children=(FloatProgress(value=0.0, max=1.0), HTML(value='')))"
      ]
     },
     "metadata": {
      "tags": []
     },
     "output_type": "display_data"
    },
    {
     "data": {
      "application/vnd.jupyter.widget-view+json": {
       "model_id": "3221bd9b704d4256acc157764564ad02",
       "version_major": 2,
       "version_minor": 0
      },
      "text/plain": [
       "HBox(children=(FloatProgress(value=0.0, max=1623939.0), HTML(value='')))"
      ]
     },
     "metadata": {
      "tags": []
     },
     "output_type": "display_data"
    }
   ],
   "source": [
    "# index variable\n",
    "'''change name, features'''\n",
    "\n",
    "name = 'RMS'\n",
    "\n",
    "# start\n",
    "for i in tqdm(range(10,10+subject_number)):\n",
    "    # read csv files\n",
    "    current_emg = pd.read_csv('data_all_intact/S0' + str(i) + '_emg.csv', header=None)\n",
    "    current_grasp = pd.read_csv('data_all_intact/S0' + str(i) + '_grasp.csv', header=None)\n",
    "    current_grasprepetition = pd.read_csv('data_all_intact/S0' + str(i) + '_grasprepetition.csv', header=None)\n",
    "    \n",
    "    current_static_emg = current_emg.iloc[0:static_end[i-10]]\n",
    "    current_static_grasp = current_grasp.iloc[0:static_end[i-10]]\n",
    "    current_static_grasprepetition = current_grasprepetition.iloc[0:static_end[i-10]]\n",
    "    \n",
    "    # find raw train/test data\n",
    "    train_index = []\n",
    "    test_index = []\n",
    "    for j in range(len(current_static_grasprepetition)):\n",
    "        if current_static_grasprepetition.iloc[j,0] in [1,2,3,4,5,6,7,8,9]:\n",
    "            train_index.append(j)\n",
    "        if current_static_grasprepetition.iloc[j,0] in [10,11,12]:\n",
    "            test_index.append(j)\n",
    "    \n",
    "    trainx_raw = current_static_emg.iloc[train_index].reset_index(drop=True)\n",
    "    trainy_raw = current_static_grasp.iloc[train_index].reset_index(drop=True)\n",
    "\n",
    "    testx_raw = current_static_emg.iloc[test_index].reset_index(drop=True)\n",
    "    testy_raw = current_static_grasp.iloc[test_index].reset_index(drop=True)\n",
    "    \n",
    "    # add overlapping window to train/test data\n",
    "    ## 385 means the overlapping window is 200ms\n",
    "    ## train data\n",
    "    trainx = deepcopy(trainx_raw)\n",
    "    trainy = deepcopy(trainy_raw)\n",
    "    \n",
    "    for a in tqdm(range(385,len(trainx_raw))):\n",
    "        for b in range(0,12):\n",
    "            trainx.iloc[a,b] = rms(trainx_raw.iloc[a-385:a+1,b])\n",
    "\n",
    "    trainx = trainx.iloc[385:len(trainx),:]\n",
    "    trainy = trainy.iloc[385:len(trainy),:]\n",
    "    \n",
    "    ## test data\n",
    "    testx = deepcopy(testx_raw)\n",
    "    testy = deepcopy(testy_raw)\n",
    "\n",
    "    for a in tqdm(range(385,len(testx_raw))):\n",
    "        for b in range(0,12):\n",
    "            testx.iloc[a,b] = rms(testx_raw.iloc[a-385:a+1,b])\n",
    "\n",
    "    testx = testx.iloc[385:len(testx),:]\n",
    "    testy = testy.iloc[385:len(testy),:]\n",
    "    \n",
    "    # train/test model\n",
    "    lightGBM_model = ltb.LGBMClassifier()\n",
    "    lightGBM_model.fit(trainx,trainy)\n",
    "    expected1 = testy.values.flatten()\n",
    "    predicted1 = lightGBM_model.predict(testx)\n",
    "    counter = 0\n",
    "    for i in range(0, len(expected1)):\n",
    "        if expected1[i] == predicted1[i]:\n",
    "            counter += 1\n",
    "\n",
    "    accuracy1 = counter/len(expected1)\n",
    "\n",
    "acc_features.append(accuracy1)\n",
    "name_features.append(name)"
   ]
  },
  {
   "cell_type": "code",
   "execution_count": null,
   "metadata": {
    "id": "3qzamw5mBjWD"
   },
   "outputs": [],
   "source": [
    "# trainx.to_csv('featured_data/'+name+'/trainx.csv')\n",
    "# trainy.to_csv('featured_data/'+name+'/trainy.csv')\n",
    "# testx.to_csv('featured_data/'+name+'/testx.csv')\n",
    "# testy.to_csv('featured_data/'+name+'/testy.csv')"
   ]
  },
  {
   "cell_type": "markdown",
   "metadata": {
    "id": "AKwYnNYWBjWD"
   },
   "source": [
    "## IEMG--Integrated EMG"
   ]
  },
  {
   "cell_type": "code",
   "execution_count": 6,
   "metadata": {
    "id": "co8kNZ3VBjWE"
   },
   "outputs": [],
   "source": [
    "def iemg(self):\n",
    "    current =0\n",
    "    absolute =0\n",
    "    for i in range(0, len(self)):\n",
    "        current = self.iloc[i]\n",
    "        absolute += np.abs(current)\n",
    "    return absolute"
   ]
  },
  {
   "cell_type": "code",
   "execution_count": null,
   "metadata": {
    "id": "5rinyuvvBjWE"
   },
   "outputs": [
    {
     "data": {
      "text/plain": [
       "'change name, features'"
      ]
     },
     "execution_count": 8,
     "metadata": {},
     "output_type": "execute_result"
    },
    {
     "data": {
      "application/vnd.jupyter.widget-view+json": {
       "model_id": "0a24ee2a4ce04f3e945aaa02e5fade24",
       "version_major": 2,
       "version_minor": 0
      },
      "text/plain": [
       "HBox(children=(FloatProgress(value=0.0, max=1.0), HTML(value='')))"
      ]
     },
     "metadata": {},
     "output_type": "display_data"
    },
    {
     "data": {
      "application/vnd.jupyter.widget-view+json": {
       "model_id": "b10372170e4543a1bff09d2a73b03e9d",
       "version_major": 2,
       "version_minor": 0
      },
      "text/plain": [
       "HBox(children=(FloatProgress(value=0.0, max=1623939.0), HTML(value='')))"
      ]
     },
     "metadata": {},
     "output_type": "display_data"
    }
   ],
   "source": [
    "# index variable\n",
    "'''change name, features'''\n",
    "\n",
    "name = 'IEMG'\n",
    "\n",
    "# start\n",
    "for i in tqdm(range(10,10+subject_number)):\n",
    "    # read csv files\n",
    "    current_emg = pd.read_csv('data_all_intact/S0' + str(i) + '_emg.csv', header=None)\n",
    "    current_grasp = pd.read_csv('data_all_intact/S0' + str(i) + '_grasp.csv', header=None)\n",
    "    current_grasprepetition = pd.read_csv('data_all_intact/S0' + str(i) + '_grasprepetition.csv', header=None)\n",
    "    \n",
    "    current_static_emg = current_emg.iloc[0:static_end[i-10]]\n",
    "    current_static_grasp = current_grasp.iloc[0:static_end[i-10]]\n",
    "    current_static_grasprepetition = current_grasprepetition.iloc[0:static_end[i-10]]\n",
    "    \n",
    "    # find raw train/test data\n",
    "    train_index = []\n",
    "    test_index = []\n",
    "    for j in range(len(current_static_grasprepetition)):\n",
    "        if current_static_grasprepetition.iloc[j,0] in [1,2,3,4,5,6,7,8,9]:\n",
    "            train_index.append(j)\n",
    "        if current_static_grasprepetition.iloc[j,0] in [10,11,12]:\n",
    "            test_index.append(j)\n",
    "    \n",
    "    trainx_raw = current_static_emg.iloc[train_index].reset_index(drop=True)\n",
    "    trainy_raw = current_static_grasp.iloc[train_index].reset_index(drop=True)\n",
    "\n",
    "    testx_raw = current_static_emg.iloc[test_index].reset_index(drop=True)\n",
    "    testy_raw = current_static_grasp.iloc[test_index].reset_index(drop=True)\n",
    "    \n",
    "    # add overlapping window to train/test data\n",
    "    ## 385 means the overlapping window is 200ms\n",
    "    ## train data\n",
    "    trainx = deepcopy(trainx_raw)\n",
    "    trainy = deepcopy(trainy_raw)\n",
    "    \n",
    "    for a in tqdm(range(385,len(trainx_raw))):\n",
    "        for b in range(0,12):\n",
    "            trainx.iloc[a,b] = iemg(trainx_raw.iloc[a-385:a+1,b])\n",
    "\n",
    "    trainx = trainx.iloc[385:len(trainx),:]\n",
    "    trainy = trainy.iloc[385:len(trainy),:]\n",
    "    \n",
    "    ## test data\n",
    "    testx = deepcopy(testx_raw)\n",
    "    testy = deepcopy(testy_raw)\n",
    "\n",
    "    for a in tqdm(range(385,len(testx_raw))):\n",
    "        for b in range(0,12):\n",
    "            testx.iloc[a,b] = iemg(testx_raw.iloc[a-385:a+1,b])\n",
    "\n",
    "    testx = testx.iloc[385:len(testx),:]\n",
    "    testy = testy.iloc[385:len(testy),:]\n",
    "    \n",
    "    # train/test model\n",
    "    lightGBM_model = ltb.LGBMClassifier()\n",
    "    lightGBM_model.fit(trainx,trainy)\n",
    "    expected1 = testy.values.flatten()\n",
    "    predicted1 = lightGBM_model.predict(testx)\n",
    "    counter = 0\n",
    "    for i in range(0, len(expected1)):\n",
    "        if expected1[i] == predicted1[i]:\n",
    "            counter += 1\n",
    "\n",
    "    accuracy1 = counter/len(expected1)\n",
    "\n",
    "acc_features.append(accuracy1)\n",
    "name_features.append(name)\n"
   ]
  },
  {
   "cell_type": "code",
   "execution_count": null,
   "metadata": {
    "id": "hWQ08rb0BjWF"
   },
   "outputs": [],
   "source": [
    "# trainx.to_csv('featured_data/'+name+'/trainx.csv')\n",
    "# trainy.to_csv('featured_data/'+name+'/trainy.csv')\n",
    "# testx.to_csv('featured_data/'+name+'/testx.csv')\n",
    "# testy.to_csv('featured_data/'+name+'/testy.csv')"
   ]
  },
  {
   "cell_type": "code",
   "execution_count": null,
   "metadata": {
    "id": "7FPuV4HoBjWF"
   },
   "outputs": [],
   "source": []
  },
  {
   "cell_type": "code",
   "execution_count": null,
   "metadata": {
    "id": "Ik3PujagBjWF"
   },
   "outputs": [],
   "source": []
  },
  {
   "cell_type": "code",
   "execution_count": null,
   "metadata": {
    "id": "oPtYJPsQBjWG"
   },
   "outputs": [],
   "source": [
    "print(acc_features,name_features)"
   ]
  },
  {
   "cell_type": "code",
   "execution_count": null,
   "metadata": {
    "id": "hwF75jW-BjWG"
   },
   "outputs": [],
   "source": [
    "acc_features\n",
    "name_features"
   ]
  },
  {
   "cell_type": "code",
   "execution_count": null,
   "metadata": {
    "id": "CL_GxNCkBjWG"
   },
   "outputs": [],
   "source": []
  },
  {
   "cell_type": "code",
   "execution_count": null,
   "metadata": {
    "id": "8LUFD9yxBjWG"
   },
   "outputs": [],
   "source": []
  },
  {
   "cell_type": "code",
   "execution_count": null,
   "metadata": {
    "id": "Zu-tD9P-BjWG"
   },
   "outputs": [],
   "source": []
  },
  {
   "cell_type": "code",
   "execution_count": null,
   "metadata": {
    "id": "zCiZM21YBjWH"
   },
   "outputs": [],
   "source": []
  },
  {
   "cell_type": "code",
   "execution_count": null,
   "metadata": {
    "id": "l-5WAaJ6BjWH"
   },
   "outputs": [],
   "source": []
  },
  {
   "cell_type": "code",
   "execution_count": null,
   "metadata": {
    "id": "MjRc51oLBjWH"
   },
   "outputs": [],
   "source": []
  },
  {
   "cell_type": "code",
   "execution_count": null,
   "metadata": {
    "id": "B0gtrn0mBjWH"
   },
   "outputs": [],
   "source": []
  },
  {
   "cell_type": "code",
   "execution_count": null,
   "metadata": {
    "id": "bXYmIijVBjWH"
   },
   "outputs": [],
   "source": []
  },
  {
   "cell_type": "code",
   "execution_count": null,
   "metadata": {
    "id": "e0UfIEJvBjWH"
   },
   "outputs": [],
   "source": []
  },
  {
   "cell_type": "code",
   "execution_count": null,
   "metadata": {
    "id": "ZpW4cbsVBjWI"
   },
   "outputs": [],
   "source": []
  },
  {
   "cell_type": "code",
   "execution_count": null,
   "metadata": {
    "id": "hC81YAPnBjWI"
   },
   "outputs": [],
   "source": []
  },
  {
   "cell_type": "code",
   "execution_count": null,
   "metadata": {
    "id": "dSZdUtbNBjWI"
   },
   "outputs": [],
   "source": []
  },
  {
   "cell_type": "code",
   "execution_count": null,
   "metadata": {
    "id": "M65nfuXVBjWI"
   },
   "outputs": [],
   "source": []
  },
  {
   "cell_type": "code",
   "execution_count": null,
   "metadata": {
    "id": "swa2d-fSBjWI"
   },
   "outputs": [],
   "source": []
  },
  {
   "cell_type": "code",
   "execution_count": null,
   "metadata": {
    "id": "C3uGZwF2BjWI"
   },
   "outputs": [],
   "source": []
  },
  {
   "cell_type": "code",
   "execution_count": null,
   "metadata": {
    "id": "0xpVSyd_BjWJ"
   },
   "outputs": [],
   "source": []
  },
  {
   "cell_type": "code",
   "execution_count": 1,
   "metadata": {
    "executionInfo": {
     "elapsed": 3,
     "status": "ok",
     "timestamp": 1621535141335,
     "user": {
      "displayName": "Shuo Wang",
      "photoUrl": "",
      "userId": "03427284339152934817"
     },
     "user_tz": 150
    },
    "id": "QpXxk3KFBjWJ"
   },
   "outputs": [],
   "source": [
    "# final test commit from Colab"
   ]
  },
  {
   "cell_type": "code",
   "execution_count": null,
   "metadata": {
    "id": "S-bZPfFwBqAi"
   },
   "outputs": [],
   "source": []
  }
 ],
 "metadata": {
  "colab": {
   "collapsed_sections": [],
   "name": "features_analysis.ipynb",
   "provenance": [],
   "toc_visible": true
  },
  "kernelspec": {
   "display_name": "Python 3",
   "language": "python",
   "name": "python3"
  },
  "language_info": {
   "codemirror_mode": {
    "name": "ipython",
    "version": 3
   },
   "file_extension": ".py",
   "mimetype": "text/x-python",
   "name": "python",
   "nbconvert_exporter": "python",
   "pygments_lexer": "ipython3",
   "version": "3.8.2"
  },
  "widgets": {
   "application/vnd.jupyter.widget-state+json": {
    "0485ffee939849e1bd72b244333071c1": {
     "model_module": "@jupyter-widgets/base",
     "model_name": "LayoutModel",
     "state": {
      "_model_module": "@jupyter-widgets/base",
      "_model_module_version": "1.2.0",
      "_model_name": "LayoutModel",
      "_view_count": null,
      "_view_module": "@jupyter-widgets/base",
      "_view_module_version": "1.2.0",
      "_view_name": "LayoutView",
      "align_content": null,
      "align_items": null,
      "align_self": null,
      "border": null,
      "bottom": null,
      "display": null,
      "flex": null,
      "flex_flow": null,
      "grid_area": null,
      "grid_auto_columns": null,
      "grid_auto_flow": null,
      "grid_auto_rows": null,
      "grid_column": null,
      "grid_gap": null,
      "grid_row": null,
      "grid_template_areas": null,
      "grid_template_columns": null,
      "grid_template_rows": null,
      "height": null,
      "justify_content": null,
      "justify_items": null,
      "left": null,
      "margin": null,
      "max_height": null,
      "max_width": null,
      "min_height": null,
      "min_width": null,
      "object_fit": null,
      "object_position": null,
      "order": null,
      "overflow": null,
      "overflow_x": null,
      "overflow_y": null,
      "padding": null,
      "right": null,
      "top": null,
      "visibility": null,
      "width": null
     }
    },
    "05c83c2958af442a9177be9c5f24b10f": {
     "model_module": "@jupyter-widgets/controls",
     "model_name": "HBoxModel",
     "state": {
      "_dom_classes": [],
      "_model_module": "@jupyter-widgets/controls",
      "_model_module_version": "1.5.0",
      "_model_name": "HBoxModel",
      "_view_count": null,
      "_view_module": "@jupyter-widgets/controls",
      "_view_module_version": "1.5.0",
      "_view_name": "HBoxView",
      "box_style": "",
      "children": [
       "IPY_MODEL_ceb7dc9bea004ac38a0227972698012c",
       "IPY_MODEL_1bdfcb60beb841db9c60a077939dbb0b"
      ],
      "layout": "IPY_MODEL_b76e1f70088643caa0c7eba38c3ed939"
     }
    },
    "072b5bde920d43b595d599dc6a537ea6": {
     "model_module": "@jupyter-widgets/base",
     "model_name": "LayoutModel",
     "state": {
      "_model_module": "@jupyter-widgets/base",
      "_model_module_version": "1.2.0",
      "_model_name": "LayoutModel",
      "_view_count": null,
      "_view_module": "@jupyter-widgets/base",
      "_view_module_version": "1.2.0",
      "_view_name": "LayoutView",
      "align_content": null,
      "align_items": null,
      "align_self": null,
      "border": null,
      "bottom": null,
      "display": null,
      "flex": null,
      "flex_flow": null,
      "grid_area": null,
      "grid_auto_columns": null,
      "grid_auto_flow": null,
      "grid_auto_rows": null,
      "grid_column": null,
      "grid_gap": null,
      "grid_row": null,
      "grid_template_areas": null,
      "grid_template_columns": null,
      "grid_template_rows": null,
      "height": null,
      "justify_content": null,
      "justify_items": null,
      "left": null,
      "margin": null,
      "max_height": null,
      "max_width": null,
      "min_height": null,
      "min_width": null,
      "object_fit": null,
      "object_position": null,
      "order": null,
      "overflow": null,
      "overflow_x": null,
      "overflow_y": null,
      "padding": null,
      "right": null,
      "top": null,
      "visibility": null,
      "width": null
     }
    },
    "13bd59b48dd64ee180ab851bf31a5523": {
     "model_module": "@jupyter-widgets/controls",
     "model_name": "FloatProgressModel",
     "state": {
      "_dom_classes": [],
      "_model_module": "@jupyter-widgets/controls",
      "_model_module_version": "1.5.0",
      "_model_name": "FloatProgressModel",
      "_view_count": null,
      "_view_module": "@jupyter-widgets/controls",
      "_view_module_version": "1.5.0",
      "_view_name": "ProgressView",
      "bar_style": "success",
      "description": "100%",
      "description_tooltip": null,
      "layout": "IPY_MODEL_1f1612bd79fc45ca876561a1d14c92d9",
      "max": 1,
      "min": 0,
      "orientation": "horizontal",
      "style": "IPY_MODEL_538effeeca6d4fd88e172312f5271135",
      "value": 1
     }
    },
    "18ab4903d1af4581bf608b3a2b46fcdb": {
     "model_module": "@jupyter-widgets/controls",
     "model_name": "HBoxModel",
     "state": {
      "_dom_classes": [],
      "_model_module": "@jupyter-widgets/controls",
      "_model_module_version": "1.5.0",
      "_model_name": "HBoxModel",
      "_view_count": null,
      "_view_module": "@jupyter-widgets/controls",
      "_view_module_version": "1.5.0",
      "_view_name": "HBoxView",
      "box_style": "",
      "children": [
       "IPY_MODEL_efb22a44ffb14e04949df84574b731c5",
       "IPY_MODEL_d59cb59e2fed460bab3f13f01e198696"
      ],
      "layout": "IPY_MODEL_cd69f64ee25f47ddb1a4b8a8cdb36bff"
     }
    },
    "1bdfcb60beb841db9c60a077939dbb0b": {
     "model_module": "@jupyter-widgets/controls",
     "model_name": "HTMLModel",
     "state": {
      "_dom_classes": [],
      "_model_module": "@jupyter-widgets/controls",
      "_model_module_version": "1.5.0",
      "_model_name": "HTMLModel",
      "_view_count": null,
      "_view_module": "@jupyter-widgets/controls",
      "_view_module_version": "1.5.0",
      "_view_name": "HTMLView",
      "description": "",
      "description_tooltip": null,
      "layout": "IPY_MODEL_a7a8b5e6e9d14848ae67c7b47b12872a",
      "placeholder": "​",
      "style": "IPY_MODEL_8ddba0e8e1d44d60990f023157758de1",
      "value": " 1/1 [2:10:34&lt;00:00, 7834.73s/it]"
     }
    },
    "1e42e7302881425388c296141b91b36c": {
     "model_module": "@jupyter-widgets/base",
     "model_name": "LayoutModel",
     "state": {
      "_model_module": "@jupyter-widgets/base",
      "_model_module_version": "1.2.0",
      "_model_name": "LayoutModel",
      "_view_count": null,
      "_view_module": "@jupyter-widgets/base",
      "_view_module_version": "1.2.0",
      "_view_name": "LayoutView",
      "align_content": null,
      "align_items": null,
      "align_self": null,
      "border": null,
      "bottom": null,
      "display": null,
      "flex": null,
      "flex_flow": null,
      "grid_area": null,
      "grid_auto_columns": null,
      "grid_auto_flow": null,
      "grid_auto_rows": null,
      "grid_column": null,
      "grid_gap": null,
      "grid_row": null,
      "grid_template_areas": null,
      "grid_template_columns": null,
      "grid_template_rows": null,
      "height": null,
      "justify_content": null,
      "justify_items": null,
      "left": null,
      "margin": null,
      "max_height": null,
      "max_width": null,
      "min_height": null,
      "min_width": null,
      "object_fit": null,
      "object_position": null,
      "order": null,
      "overflow": null,
      "overflow_x": null,
      "overflow_y": null,
      "padding": null,
      "right": null,
      "top": null,
      "visibility": null,
      "width": null
     }
    },
    "1f1612bd79fc45ca876561a1d14c92d9": {
     "model_module": "@jupyter-widgets/base",
     "model_name": "LayoutModel",
     "state": {
      "_model_module": "@jupyter-widgets/base",
      "_model_module_version": "1.2.0",
      "_model_name": "LayoutModel",
      "_view_count": null,
      "_view_module": "@jupyter-widgets/base",
      "_view_module_version": "1.2.0",
      "_view_name": "LayoutView",
      "align_content": null,
      "align_items": null,
      "align_self": null,
      "border": null,
      "bottom": null,
      "display": null,
      "flex": null,
      "flex_flow": null,
      "grid_area": null,
      "grid_auto_columns": null,
      "grid_auto_flow": null,
      "grid_auto_rows": null,
      "grid_column": null,
      "grid_gap": null,
      "grid_row": null,
      "grid_template_areas": null,
      "grid_template_columns": null,
      "grid_template_rows": null,
      "height": null,
      "justify_content": null,
      "justify_items": null,
      "left": null,
      "margin": null,
      "max_height": null,
      "max_width": null,
      "min_height": null,
      "min_width": null,
      "object_fit": null,
      "object_position": null,
      "order": null,
      "overflow": null,
      "overflow_x": null,
      "overflow_y": null,
      "padding": null,
      "right": null,
      "top": null,
      "visibility": null,
      "width": null
     }
    },
    "29d544ef7d4d46c88f4ac78fc8f302ab": {
     "model_module": "@jupyter-widgets/base",
     "model_name": "LayoutModel",
     "state": {
      "_model_module": "@jupyter-widgets/base",
      "_model_module_version": "1.2.0",
      "_model_name": "LayoutModel",
      "_view_count": null,
      "_view_module": "@jupyter-widgets/base",
      "_view_module_version": "1.2.0",
      "_view_name": "LayoutView",
      "align_content": null,
      "align_items": null,
      "align_self": null,
      "border": null,
      "bottom": null,
      "display": null,
      "flex": null,
      "flex_flow": null,
      "grid_area": null,
      "grid_auto_columns": null,
      "grid_auto_flow": null,
      "grid_auto_rows": null,
      "grid_column": null,
      "grid_gap": null,
      "grid_row": null,
      "grid_template_areas": null,
      "grid_template_columns": null,
      "grid_template_rows": null,
      "height": null,
      "justify_content": null,
      "justify_items": null,
      "left": null,
      "margin": null,
      "max_height": null,
      "max_width": null,
      "min_height": null,
      "min_width": null,
      "object_fit": null,
      "object_position": null,
      "order": null,
      "overflow": null,
      "overflow_x": null,
      "overflow_y": null,
      "padding": null,
      "right": null,
      "top": null,
      "visibility": null,
      "width": null
     }
    },
    "29d96997fb584381a0154d9df788613d": {
     "model_module": "@jupyter-widgets/controls",
     "model_name": "ProgressStyleModel",
     "state": {
      "_model_module": "@jupyter-widgets/controls",
      "_model_module_version": "1.5.0",
      "_model_name": "ProgressStyleModel",
      "_view_count": null,
      "_view_module": "@jupyter-widgets/base",
      "_view_module_version": "1.2.0",
      "_view_name": "StyleView",
      "bar_color": null,
      "description_width": "initial"
     }
    },
    "2d5539f8070942009d529ebc642050a1": {
     "model_module": "@jupyter-widgets/controls",
     "model_name": "FloatProgressModel",
     "state": {
      "_dom_classes": [],
      "_model_module": "@jupyter-widgets/controls",
      "_model_module_version": "1.5.0",
      "_model_name": "FloatProgressModel",
      "_view_count": null,
      "_view_module": "@jupyter-widgets/controls",
      "_view_module_version": "1.5.0",
      "_view_name": "ProgressView",
      "bar_style": "",
      "description": "  0%",
      "description_tooltip": null,
      "layout": "IPY_MODEL_a0149a66849b44a5830c17a47d7ddfd5",
      "max": 1,
      "min": 0,
      "orientation": "horizontal",
      "style": "IPY_MODEL_75f5c629c93445779c3ea1ded8758c9a",
      "value": 0
     }
    },
    "3221bd9b704d4256acc157764564ad02": {
     "model_module": "@jupyter-widgets/controls",
     "model_name": "HBoxModel",
     "state": {
      "_dom_classes": [],
      "_model_module": "@jupyter-widgets/controls",
      "_model_module_version": "1.5.0",
      "_model_name": "HBoxModel",
      "_view_count": null,
      "_view_module": "@jupyter-widgets/controls",
      "_view_module_version": "1.5.0",
      "_view_name": "HBoxView",
      "box_style": "",
      "children": [
       "IPY_MODEL_fb90016820a8497a9e459b2d1d6048d4",
       "IPY_MODEL_c2c02befe1404e81bfe8527a547b6159"
      ],
      "layout": "IPY_MODEL_9f5b21c281b54c9da067d857d9035c5e"
     }
    },
    "42af13c010224c7cb29c1a6488e4cb65": {
     "model_module": "@jupyter-widgets/base",
     "model_name": "LayoutModel",
     "state": {
      "_model_module": "@jupyter-widgets/base",
      "_model_module_version": "1.2.0",
      "_model_name": "LayoutModel",
      "_view_count": null,
      "_view_module": "@jupyter-widgets/base",
      "_view_module_version": "1.2.0",
      "_view_name": "LayoutView",
      "align_content": null,
      "align_items": null,
      "align_self": null,
      "border": null,
      "bottom": null,
      "display": null,
      "flex": null,
      "flex_flow": null,
      "grid_area": null,
      "grid_auto_columns": null,
      "grid_auto_flow": null,
      "grid_auto_rows": null,
      "grid_column": null,
      "grid_gap": null,
      "grid_row": null,
      "grid_template_areas": null,
      "grid_template_columns": null,
      "grid_template_rows": null,
      "height": null,
      "justify_content": null,
      "justify_items": null,
      "left": null,
      "margin": null,
      "max_height": null,
      "max_width": null,
      "min_height": null,
      "min_width": null,
      "object_fit": null,
      "object_position": null,
      "order": null,
      "overflow": null,
      "overflow_x": null,
      "overflow_y": null,
      "padding": null,
      "right": null,
      "top": null,
      "visibility": null,
      "width": null
     }
    },
    "455b531e102746a991583a300289af98": {
     "model_module": "@jupyter-widgets/controls",
     "model_name": "DescriptionStyleModel",
     "state": {
      "_model_module": "@jupyter-widgets/controls",
      "_model_module_version": "1.5.0",
      "_model_name": "DescriptionStyleModel",
      "_view_count": null,
      "_view_module": "@jupyter-widgets/base",
      "_view_module_version": "1.2.0",
      "_view_name": "StyleView",
      "description_width": ""
     }
    },
    "538effeeca6d4fd88e172312f5271135": {
     "model_module": "@jupyter-widgets/controls",
     "model_name": "ProgressStyleModel",
     "state": {
      "_model_module": "@jupyter-widgets/controls",
      "_model_module_version": "1.5.0",
      "_model_name": "ProgressStyleModel",
      "_view_count": null,
      "_view_module": "@jupyter-widgets/base",
      "_view_module_version": "1.2.0",
      "_view_name": "StyleView",
      "bar_color": null,
      "description_width": "initial"
     }
    },
    "66ae9300193e40c2a696eaa9c2e53b77": {
     "model_module": "@jupyter-widgets/controls",
     "model_name": "HBoxModel",
     "state": {
      "_dom_classes": [],
      "_model_module": "@jupyter-widgets/controls",
      "_model_module_version": "1.5.0",
      "_model_name": "HBoxModel",
      "_view_count": null,
      "_view_module": "@jupyter-widgets/controls",
      "_view_module_version": "1.5.0",
      "_view_name": "HBoxView",
      "box_style": "",
      "children": [
       "IPY_MODEL_2d5539f8070942009d529ebc642050a1",
       "IPY_MODEL_9cde1aeab1474d8fb52571b46ac900da"
      ],
      "layout": "IPY_MODEL_f0b617d94ec14df286677aa28da97502"
     }
    },
    "75f5c629c93445779c3ea1ded8758c9a": {
     "model_module": "@jupyter-widgets/controls",
     "model_name": "ProgressStyleModel",
     "state": {
      "_model_module": "@jupyter-widgets/controls",
      "_model_module_version": "1.5.0",
      "_model_name": "ProgressStyleModel",
      "_view_count": null,
      "_view_module": "@jupyter-widgets/base",
      "_view_module_version": "1.2.0",
      "_view_name": "StyleView",
      "bar_color": null,
      "description_width": "initial"
     }
    },
    "77071fd30a4a4f97942931d75af0e90c": {
     "model_module": "@jupyter-widgets/controls",
     "model_name": "ProgressStyleModel",
     "state": {
      "_model_module": "@jupyter-widgets/controls",
      "_model_module_version": "1.5.0",
      "_model_name": "ProgressStyleModel",
      "_view_count": null,
      "_view_module": "@jupyter-widgets/base",
      "_view_module_version": "1.2.0",
      "_view_name": "StyleView",
      "bar_color": null,
      "description_width": "initial"
     }
    },
    "84829638b9f04007a480517faf5e457f": {
     "model_module": "@jupyter-widgets/controls",
     "model_name": "ProgressStyleModel",
     "state": {
      "_model_module": "@jupyter-widgets/controls",
      "_model_module_version": "1.5.0",
      "_model_name": "ProgressStyleModel",
      "_view_count": null,
      "_view_module": "@jupyter-widgets/base",
      "_view_module_version": "1.2.0",
      "_view_name": "StyleView",
      "bar_color": null,
      "description_width": "initial"
     }
    },
    "88dacc464e654a6a9cb2162d2825541e": {
     "model_module": "@jupyter-widgets/base",
     "model_name": "LayoutModel",
     "state": {
      "_model_module": "@jupyter-widgets/base",
      "_model_module_version": "1.2.0",
      "_model_name": "LayoutModel",
      "_view_count": null,
      "_view_module": "@jupyter-widgets/base",
      "_view_module_version": "1.2.0",
      "_view_name": "LayoutView",
      "align_content": null,
      "align_items": null,
      "align_self": null,
      "border": null,
      "bottom": null,
      "display": null,
      "flex": null,
      "flex_flow": null,
      "grid_area": null,
      "grid_auto_columns": null,
      "grid_auto_flow": null,
      "grid_auto_rows": null,
      "grid_column": null,
      "grid_gap": null,
      "grid_row": null,
      "grid_template_areas": null,
      "grid_template_columns": null,
      "grid_template_rows": null,
      "height": null,
      "justify_content": null,
      "justify_items": null,
      "left": null,
      "margin": null,
      "max_height": null,
      "max_width": null,
      "min_height": null,
      "min_width": null,
      "object_fit": null,
      "object_position": null,
      "order": null,
      "overflow": null,
      "overflow_x": null,
      "overflow_y": null,
      "padding": null,
      "right": null,
      "top": null,
      "visibility": null,
      "width": null
     }
    },
    "8b4d39bc01d541218f4f27d08fde8f7b": {
     "model_module": "@jupyter-widgets/base",
     "model_name": "LayoutModel",
     "state": {
      "_model_module": "@jupyter-widgets/base",
      "_model_module_version": "1.2.0",
      "_model_name": "LayoutModel",
      "_view_count": null,
      "_view_module": "@jupyter-widgets/base",
      "_view_module_version": "1.2.0",
      "_view_name": "LayoutView",
      "align_content": null,
      "align_items": null,
      "align_self": null,
      "border": null,
      "bottom": null,
      "display": null,
      "flex": null,
      "flex_flow": null,
      "grid_area": null,
      "grid_auto_columns": null,
      "grid_auto_flow": null,
      "grid_auto_rows": null,
      "grid_column": null,
      "grid_gap": null,
      "grid_row": null,
      "grid_template_areas": null,
      "grid_template_columns": null,
      "grid_template_rows": null,
      "height": null,
      "justify_content": null,
      "justify_items": null,
      "left": null,
      "margin": null,
      "max_height": null,
      "max_width": null,
      "min_height": null,
      "min_width": null,
      "object_fit": null,
      "object_position": null,
      "order": null,
      "overflow": null,
      "overflow_x": null,
      "overflow_y": null,
      "padding": null,
      "right": null,
      "top": null,
      "visibility": null,
      "width": null
     }
    },
    "8ddba0e8e1d44d60990f023157758de1": {
     "model_module": "@jupyter-widgets/controls",
     "model_name": "DescriptionStyleModel",
     "state": {
      "_model_module": "@jupyter-widgets/controls",
      "_model_module_version": "1.5.0",
      "_model_name": "DescriptionStyleModel",
      "_view_count": null,
      "_view_module": "@jupyter-widgets/base",
      "_view_module_version": "1.2.0",
      "_view_name": "StyleView",
      "description_width": ""
     }
    },
    "8e0b2d39b20a4cb5a71eb0e224a4365f": {
     "model_module": "@jupyter-widgets/base",
     "model_name": "LayoutModel",
     "state": {
      "_model_module": "@jupyter-widgets/base",
      "_model_module_version": "1.2.0",
      "_model_name": "LayoutModel",
      "_view_count": null,
      "_view_module": "@jupyter-widgets/base",
      "_view_module_version": "1.2.0",
      "_view_name": "LayoutView",
      "align_content": null,
      "align_items": null,
      "align_self": null,
      "border": null,
      "bottom": null,
      "display": null,
      "flex": null,
      "flex_flow": null,
      "grid_area": null,
      "grid_auto_columns": null,
      "grid_auto_flow": null,
      "grid_auto_rows": null,
      "grid_column": null,
      "grid_gap": null,
      "grid_row": null,
      "grid_template_areas": null,
      "grid_template_columns": null,
      "grid_template_rows": null,
      "height": null,
      "justify_content": null,
      "justify_items": null,
      "left": null,
      "margin": null,
      "max_height": null,
      "max_width": null,
      "min_height": null,
      "min_width": null,
      "object_fit": null,
      "object_position": null,
      "order": null,
      "overflow": null,
      "overflow_x": null,
      "overflow_y": null,
      "padding": null,
      "right": null,
      "top": null,
      "visibility": null,
      "width": null
     }
    },
    "939146d8de6447df855372e1f34feb30": {
     "model_module": "@jupyter-widgets/base",
     "model_name": "LayoutModel",
     "state": {
      "_model_module": "@jupyter-widgets/base",
      "_model_module_version": "1.2.0",
      "_model_name": "LayoutModel",
      "_view_count": null,
      "_view_module": "@jupyter-widgets/base",
      "_view_module_version": "1.2.0",
      "_view_name": "LayoutView",
      "align_content": null,
      "align_items": null,
      "align_self": null,
      "border": null,
      "bottom": null,
      "display": null,
      "flex": null,
      "flex_flow": null,
      "grid_area": null,
      "grid_auto_columns": null,
      "grid_auto_flow": null,
      "grid_auto_rows": null,
      "grid_column": null,
      "grid_gap": null,
      "grid_row": null,
      "grid_template_areas": null,
      "grid_template_columns": null,
      "grid_template_rows": null,
      "height": null,
      "justify_content": null,
      "justify_items": null,
      "left": null,
      "margin": null,
      "max_height": null,
      "max_width": null,
      "min_height": null,
      "min_width": null,
      "object_fit": null,
      "object_position": null,
      "order": null,
      "overflow": null,
      "overflow_x": null,
      "overflow_y": null,
      "padding": null,
      "right": null,
      "top": null,
      "visibility": null,
      "width": null
     }
    },
    "9cde1aeab1474d8fb52571b46ac900da": {
     "model_module": "@jupyter-widgets/controls",
     "model_name": "HTMLModel",
     "state": {
      "_dom_classes": [],
      "_model_module": "@jupyter-widgets/controls",
      "_model_module_version": "1.5.0",
      "_model_name": "HTMLModel",
      "_view_count": null,
      "_view_module": "@jupyter-widgets/controls",
      "_view_module_version": "1.5.0",
      "_view_name": "HTMLView",
      "description": "",
      "description_tooltip": null,
      "layout": "IPY_MODEL_939146d8de6447df855372e1f34feb30",
      "placeholder": "​",
      "style": "IPY_MODEL_e6053863efb84af09cf837a879a87ac0",
      "value": " 0/1 [00:00&lt;?, ?it/s]"
     }
    },
    "9f5b21c281b54c9da067d857d9035c5e": {
     "model_module": "@jupyter-widgets/base",
     "model_name": "LayoutModel",
     "state": {
      "_model_module": "@jupyter-widgets/base",
      "_model_module_version": "1.2.0",
      "_model_name": "LayoutModel",
      "_view_count": null,
      "_view_module": "@jupyter-widgets/base",
      "_view_module_version": "1.2.0",
      "_view_name": "LayoutView",
      "align_content": null,
      "align_items": null,
      "align_self": null,
      "border": null,
      "bottom": null,
      "display": null,
      "flex": null,
      "flex_flow": null,
      "grid_area": null,
      "grid_auto_columns": null,
      "grid_auto_flow": null,
      "grid_auto_rows": null,
      "grid_column": null,
      "grid_gap": null,
      "grid_row": null,
      "grid_template_areas": null,
      "grid_template_columns": null,
      "grid_template_rows": null,
      "height": null,
      "justify_content": null,
      "justify_items": null,
      "left": null,
      "margin": null,
      "max_height": null,
      "max_width": null,
      "min_height": null,
      "min_width": null,
      "object_fit": null,
      "object_position": null,
      "order": null,
      "overflow": null,
      "overflow_x": null,
      "overflow_y": null,
      "padding": null,
      "right": null,
      "top": null,
      "visibility": null,
      "width": null
     }
    },
    "a0149a66849b44a5830c17a47d7ddfd5": {
     "model_module": "@jupyter-widgets/base",
     "model_name": "LayoutModel",
     "state": {
      "_model_module": "@jupyter-widgets/base",
      "_model_module_version": "1.2.0",
      "_model_name": "LayoutModel",
      "_view_count": null,
      "_view_module": "@jupyter-widgets/base",
      "_view_module_version": "1.2.0",
      "_view_name": "LayoutView",
      "align_content": null,
      "align_items": null,
      "align_self": null,
      "border": null,
      "bottom": null,
      "display": null,
      "flex": null,
      "flex_flow": null,
      "grid_area": null,
      "grid_auto_columns": null,
      "grid_auto_flow": null,
      "grid_auto_rows": null,
      "grid_column": null,
      "grid_gap": null,
      "grid_row": null,
      "grid_template_areas": null,
      "grid_template_columns": null,
      "grid_template_rows": null,
      "height": null,
      "justify_content": null,
      "justify_items": null,
      "left": null,
      "margin": null,
      "max_height": null,
      "max_width": null,
      "min_height": null,
      "min_width": null,
      "object_fit": null,
      "object_position": null,
      "order": null,
      "overflow": null,
      "overflow_x": null,
      "overflow_y": null,
      "padding": null,
      "right": null,
      "top": null,
      "visibility": null,
      "width": null
     }
    },
    "a0641603f7fc4f8f9edf151f00b4b517": {
     "model_module": "@jupyter-widgets/controls",
     "model_name": "DescriptionStyleModel",
     "state": {
      "_model_module": "@jupyter-widgets/controls",
      "_model_module_version": "1.5.0",
      "_model_name": "DescriptionStyleModel",
      "_view_count": null,
      "_view_module": "@jupyter-widgets/base",
      "_view_module_version": "1.2.0",
      "_view_name": "StyleView",
      "description_width": ""
     }
    },
    "a7a8b5e6e9d14848ae67c7b47b12872a": {
     "model_module": "@jupyter-widgets/base",
     "model_name": "LayoutModel",
     "state": {
      "_model_module": "@jupyter-widgets/base",
      "_model_module_version": "1.2.0",
      "_model_name": "LayoutModel",
      "_view_count": null,
      "_view_module": "@jupyter-widgets/base",
      "_view_module_version": "1.2.0",
      "_view_name": "LayoutView",
      "align_content": null,
      "align_items": null,
      "align_self": null,
      "border": null,
      "bottom": null,
      "display": null,
      "flex": null,
      "flex_flow": null,
      "grid_area": null,
      "grid_auto_columns": null,
      "grid_auto_flow": null,
      "grid_auto_rows": null,
      "grid_column": null,
      "grid_gap": null,
      "grid_row": null,
      "grid_template_areas": null,
      "grid_template_columns": null,
      "grid_template_rows": null,
      "height": null,
      "justify_content": null,
      "justify_items": null,
      "left": null,
      "margin": null,
      "max_height": null,
      "max_width": null,
      "min_height": null,
      "min_width": null,
      "object_fit": null,
      "object_position": null,
      "order": null,
      "overflow": null,
      "overflow_x": null,
      "overflow_y": null,
      "padding": null,
      "right": null,
      "top": null,
      "visibility": null,
      "width": null
     }
    },
    "a9327fd9f7804778af077b28a1358078": {
     "model_module": "@jupyter-widgets/controls",
     "model_name": "HBoxModel",
     "state": {
      "_dom_classes": [],
      "_model_module": "@jupyter-widgets/controls",
      "_model_module_version": "1.5.0",
      "_model_name": "HBoxModel",
      "_view_count": null,
      "_view_module": "@jupyter-widgets/controls",
      "_view_module_version": "1.5.0",
      "_view_name": "HBoxView",
      "box_style": "",
      "children": [
       "IPY_MODEL_acfd798bb6f041b3ae1b971500b0dcce",
       "IPY_MODEL_f7f27742ed7a4b3d827a9c30b514b325"
      ],
      "layout": "IPY_MODEL_0485ffee939849e1bd72b244333071c1"
     }
    },
    "acfd798bb6f041b3ae1b971500b0dcce": {
     "model_module": "@jupyter-widgets/controls",
     "model_name": "FloatProgressModel",
     "state": {
      "_dom_classes": [],
      "_model_module": "@jupyter-widgets/controls",
      "_model_module_version": "1.5.0",
      "_model_name": "FloatProgressModel",
      "_view_count": null,
      "_view_module": "@jupyter-widgets/controls",
      "_view_module_version": "1.5.0",
      "_view_name": "ProgressView",
      "bar_style": "success",
      "description": "100%",
      "description_tooltip": null,
      "layout": "IPY_MODEL_072b5bde920d43b595d599dc6a537ea6",
      "max": 1623939,
      "min": 0,
      "orientation": "horizontal",
      "style": "IPY_MODEL_84829638b9f04007a480517faf5e457f",
      "value": 1623939
     }
    },
    "b76e1f70088643caa0c7eba38c3ed939": {
     "model_module": "@jupyter-widgets/base",
     "model_name": "LayoutModel",
     "state": {
      "_model_module": "@jupyter-widgets/base",
      "_model_module_version": "1.2.0",
      "_model_name": "LayoutModel",
      "_view_count": null,
      "_view_module": "@jupyter-widgets/base",
      "_view_module_version": "1.2.0",
      "_view_name": "LayoutView",
      "align_content": null,
      "align_items": null,
      "align_self": null,
      "border": null,
      "bottom": null,
      "display": null,
      "flex": null,
      "flex_flow": null,
      "grid_area": null,
      "grid_auto_columns": null,
      "grid_auto_flow": null,
      "grid_auto_rows": null,
      "grid_column": null,
      "grid_gap": null,
      "grid_row": null,
      "grid_template_areas": null,
      "grid_template_columns": null,
      "grid_template_rows": null,
      "height": null,
      "justify_content": null,
      "justify_items": null,
      "left": null,
      "margin": null,
      "max_height": null,
      "max_width": null,
      "min_height": null,
      "min_width": null,
      "object_fit": null,
      "object_position": null,
      "order": null,
      "overflow": null,
      "overflow_x": null,
      "overflow_y": null,
      "padding": null,
      "right": null,
      "top": null,
      "visibility": null,
      "width": null
     }
    },
    "b9749094dff647f88295bfd8247e466f": {
     "model_module": "@jupyter-widgets/controls",
     "model_name": "DescriptionStyleModel",
     "state": {
      "_model_module": "@jupyter-widgets/controls",
      "_model_module_version": "1.5.0",
      "_model_name": "DescriptionStyleModel",
      "_view_count": null,
      "_view_module": "@jupyter-widgets/base",
      "_view_module_version": "1.2.0",
      "_view_name": "StyleView",
      "description_width": ""
     }
    },
    "bc413f5bb0fe4d5ab4d599a07afe9d32": {
     "model_module": "@jupyter-widgets/controls",
     "model_name": "DescriptionStyleModel",
     "state": {
      "_model_module": "@jupyter-widgets/controls",
      "_model_module_version": "1.5.0",
      "_model_name": "DescriptionStyleModel",
      "_view_count": null,
      "_view_module": "@jupyter-widgets/base",
      "_view_module_version": "1.2.0",
      "_view_name": "StyleView",
      "description_width": ""
     }
    },
    "c2c02befe1404e81bfe8527a547b6159": {
     "model_module": "@jupyter-widgets/controls",
     "model_name": "HTMLModel",
     "state": {
      "_dom_classes": [],
      "_model_module": "@jupyter-widgets/controls",
      "_model_module_version": "1.5.0",
      "_model_name": "HTMLModel",
      "_view_count": null,
      "_view_module": "@jupyter-widgets/controls",
      "_view_module_version": "1.5.0",
      "_view_name": "HTMLView",
      "description": "",
      "description_tooltip": null,
      "layout": "IPY_MODEL_8e0b2d39b20a4cb5a71eb0e224a4365f",
      "placeholder": "​",
      "style": "IPY_MODEL_a0641603f7fc4f8f9edf151f00b4b517",
      "value": " 137/1623939 [00:05&lt;16:55:02, 26.66it/s]"
     }
    },
    "cabaf65d93c74f3cac9d8f94c4377118": {
     "model_module": "@jupyter-widgets/controls",
     "model_name": "HTMLModel",
     "state": {
      "_dom_classes": [],
      "_model_module": "@jupyter-widgets/controls",
      "_model_module_version": "1.5.0",
      "_model_name": "HTMLModel",
      "_view_count": null,
      "_view_module": "@jupyter-widgets/controls",
      "_view_module_version": "1.5.0",
      "_view_name": "HTMLView",
      "description": "",
      "description_tooltip": null,
      "layout": "IPY_MODEL_88dacc464e654a6a9cb2162d2825541e",
      "placeholder": "​",
      "style": "IPY_MODEL_b9749094dff647f88295bfd8247e466f",
      "value": " 1/1 [10:53&lt;00:00, 653.36s/it]"
     }
    },
    "cd69f64ee25f47ddb1a4b8a8cdb36bff": {
     "model_module": "@jupyter-widgets/base",
     "model_name": "LayoutModel",
     "state": {
      "_model_module": "@jupyter-widgets/base",
      "_model_module_version": "1.2.0",
      "_model_name": "LayoutModel",
      "_view_count": null,
      "_view_module": "@jupyter-widgets/base",
      "_view_module_version": "1.2.0",
      "_view_name": "LayoutView",
      "align_content": null,
      "align_items": null,
      "align_self": null,
      "border": null,
      "bottom": null,
      "display": null,
      "flex": null,
      "flex_flow": null,
      "grid_area": null,
      "grid_auto_columns": null,
      "grid_auto_flow": null,
      "grid_auto_rows": null,
      "grid_column": null,
      "grid_gap": null,
      "grid_row": null,
      "grid_template_areas": null,
      "grid_template_columns": null,
      "grid_template_rows": null,
      "height": null,
      "justify_content": null,
      "justify_items": null,
      "left": null,
      "margin": null,
      "max_height": null,
      "max_width": null,
      "min_height": null,
      "min_width": null,
      "object_fit": null,
      "object_position": null,
      "order": null,
      "overflow": null,
      "overflow_x": null,
      "overflow_y": null,
      "padding": null,
      "right": null,
      "top": null,
      "visibility": null,
      "width": null
     }
    },
    "ceb7dc9bea004ac38a0227972698012c": {
     "model_module": "@jupyter-widgets/controls",
     "model_name": "FloatProgressModel",
     "state": {
      "_dom_classes": [],
      "_model_module": "@jupyter-widgets/controls",
      "_model_module_version": "1.5.0",
      "_model_name": "FloatProgressModel",
      "_view_count": null,
      "_view_module": "@jupyter-widgets/controls",
      "_view_module_version": "1.5.0",
      "_view_name": "ProgressView",
      "bar_style": "success",
      "description": "100%",
      "description_tooltip": null,
      "layout": "IPY_MODEL_29d544ef7d4d46c88f4ac78fc8f302ab",
      "max": 1,
      "min": 0,
      "orientation": "horizontal",
      "style": "IPY_MODEL_f18ac9ace3a3466eaa1a587538d74958",
      "value": 1
     }
    },
    "d1b6d39a786c4a05848428bc0177aec6": {
     "model_module": "@jupyter-widgets/base",
     "model_name": "LayoutModel",
     "state": {
      "_model_module": "@jupyter-widgets/base",
      "_model_module_version": "1.2.0",
      "_model_name": "LayoutModel",
      "_view_count": null,
      "_view_module": "@jupyter-widgets/base",
      "_view_module_version": "1.2.0",
      "_view_name": "LayoutView",
      "align_content": null,
      "align_items": null,
      "align_self": null,
      "border": null,
      "bottom": null,
      "display": null,
      "flex": null,
      "flex_flow": null,
      "grid_area": null,
      "grid_auto_columns": null,
      "grid_auto_flow": null,
      "grid_auto_rows": null,
      "grid_column": null,
      "grid_gap": null,
      "grid_row": null,
      "grid_template_areas": null,
      "grid_template_columns": null,
      "grid_template_rows": null,
      "height": null,
      "justify_content": null,
      "justify_items": null,
      "left": null,
      "margin": null,
      "max_height": null,
      "max_width": null,
      "min_height": null,
      "min_width": null,
      "object_fit": null,
      "object_position": null,
      "order": null,
      "overflow": null,
      "overflow_x": null,
      "overflow_y": null,
      "padding": null,
      "right": null,
      "top": null,
      "visibility": null,
      "width": null
     }
    },
    "d59cb59e2fed460bab3f13f01e198696": {
     "model_module": "@jupyter-widgets/controls",
     "model_name": "HTMLModel",
     "state": {
      "_dom_classes": [],
      "_model_module": "@jupyter-widgets/controls",
      "_model_module_version": "1.5.0",
      "_model_name": "HTMLModel",
      "_view_count": null,
      "_view_module": "@jupyter-widgets/controls",
      "_view_module_version": "1.5.0",
      "_view_name": "HTMLView",
      "description": "",
      "description_tooltip": null,
      "layout": "IPY_MODEL_dd251a61915b493087a3c04355b5d3bc",
      "placeholder": "​",
      "style": "IPY_MODEL_455b531e102746a991583a300289af98",
      "value": " 520592/520592 [33:43&lt;00:00, 257.21it/s]"
     }
    },
    "dd251a61915b493087a3c04355b5d3bc": {
     "model_module": "@jupyter-widgets/base",
     "model_name": "LayoutModel",
     "state": {
      "_model_module": "@jupyter-widgets/base",
      "_model_module_version": "1.2.0",
      "_model_name": "LayoutModel",
      "_view_count": null,
      "_view_module": "@jupyter-widgets/base",
      "_view_module_version": "1.2.0",
      "_view_name": "LayoutView",
      "align_content": null,
      "align_items": null,
      "align_self": null,
      "border": null,
      "bottom": null,
      "display": null,
      "flex": null,
      "flex_flow": null,
      "grid_area": null,
      "grid_auto_columns": null,
      "grid_auto_flow": null,
      "grid_auto_rows": null,
      "grid_column": null,
      "grid_gap": null,
      "grid_row": null,
      "grid_template_areas": null,
      "grid_template_columns": null,
      "grid_template_rows": null,
      "height": null,
      "justify_content": null,
      "justify_items": null,
      "left": null,
      "margin": null,
      "max_height": null,
      "max_width": null,
      "min_height": null,
      "min_width": null,
      "object_fit": null,
      "object_position": null,
      "order": null,
      "overflow": null,
      "overflow_x": null,
      "overflow_y": null,
      "padding": null,
      "right": null,
      "top": null,
      "visibility": null,
      "width": null
     }
    },
    "e6053863efb84af09cf837a879a87ac0": {
     "model_module": "@jupyter-widgets/controls",
     "model_name": "DescriptionStyleModel",
     "state": {
      "_model_module": "@jupyter-widgets/controls",
      "_model_module_version": "1.5.0",
      "_model_name": "DescriptionStyleModel",
      "_view_count": null,
      "_view_module": "@jupyter-widgets/base",
      "_view_module_version": "1.2.0",
      "_view_name": "StyleView",
      "description_width": ""
     }
    },
    "e6dd2c554f9f459b9598debd2017da9a": {
     "model_module": "@jupyter-widgets/controls",
     "model_name": "HBoxModel",
     "state": {
      "_dom_classes": [],
      "_model_module": "@jupyter-widgets/controls",
      "_model_module_version": "1.5.0",
      "_model_name": "HBoxModel",
      "_view_count": null,
      "_view_module": "@jupyter-widgets/controls",
      "_view_module_version": "1.5.0",
      "_view_name": "HBoxView",
      "box_style": "",
      "children": [
       "IPY_MODEL_13bd59b48dd64ee180ab851bf31a5523",
       "IPY_MODEL_cabaf65d93c74f3cac9d8f94c4377118"
      ],
      "layout": "IPY_MODEL_42af13c010224c7cb29c1a6488e4cb65"
     }
    },
    "efb22a44ffb14e04949df84574b731c5": {
     "model_module": "@jupyter-widgets/controls",
     "model_name": "FloatProgressModel",
     "state": {
      "_dom_classes": [],
      "_model_module": "@jupyter-widgets/controls",
      "_model_module_version": "1.5.0",
      "_model_name": "FloatProgressModel",
      "_view_count": null,
      "_view_module": "@jupyter-widgets/controls",
      "_view_module_version": "1.5.0",
      "_view_name": "ProgressView",
      "bar_style": "success",
      "description": "100%",
      "description_tooltip": null,
      "layout": "IPY_MODEL_8b4d39bc01d541218f4f27d08fde8f7b",
      "max": 520592,
      "min": 0,
      "orientation": "horizontal",
      "style": "IPY_MODEL_77071fd30a4a4f97942931d75af0e90c",
      "value": 520592
     }
    },
    "f0b617d94ec14df286677aa28da97502": {
     "model_module": "@jupyter-widgets/base",
     "model_name": "LayoutModel",
     "state": {
      "_model_module": "@jupyter-widgets/base",
      "_model_module_version": "1.2.0",
      "_model_name": "LayoutModel",
      "_view_count": null,
      "_view_module": "@jupyter-widgets/base",
      "_view_module_version": "1.2.0",
      "_view_name": "LayoutView",
      "align_content": null,
      "align_items": null,
      "align_self": null,
      "border": null,
      "bottom": null,
      "display": null,
      "flex": null,
      "flex_flow": null,
      "grid_area": null,
      "grid_auto_columns": null,
      "grid_auto_flow": null,
      "grid_auto_rows": null,
      "grid_column": null,
      "grid_gap": null,
      "grid_row": null,
      "grid_template_areas": null,
      "grid_template_columns": null,
      "grid_template_rows": null,
      "height": null,
      "justify_content": null,
      "justify_items": null,
      "left": null,
      "margin": null,
      "max_height": null,
      "max_width": null,
      "min_height": null,
      "min_width": null,
      "object_fit": null,
      "object_position": null,
      "order": null,
      "overflow": null,
      "overflow_x": null,
      "overflow_y": null,
      "padding": null,
      "right": null,
      "top": null,
      "visibility": null,
      "width": null
     }
    },
    "f18ac9ace3a3466eaa1a587538d74958": {
     "model_module": "@jupyter-widgets/controls",
     "model_name": "ProgressStyleModel",
     "state": {
      "_model_module": "@jupyter-widgets/controls",
      "_model_module_version": "1.5.0",
      "_model_name": "ProgressStyleModel",
      "_view_count": null,
      "_view_module": "@jupyter-widgets/base",
      "_view_module_version": "1.2.0",
      "_view_name": "StyleView",
      "bar_color": null,
      "description_width": "initial"
     }
    },
    "f7f27742ed7a4b3d827a9c30b514b325": {
     "model_module": "@jupyter-widgets/controls",
     "model_name": "HTMLModel",
     "state": {
      "_dom_classes": [],
      "_model_module": "@jupyter-widgets/controls",
      "_model_module_version": "1.5.0",
      "_model_name": "HTMLModel",
      "_view_count": null,
      "_view_module": "@jupyter-widgets/controls",
      "_view_module_version": "1.5.0",
      "_view_name": "HTMLView",
      "description": "",
      "description_tooltip": null,
      "layout": "IPY_MODEL_d1b6d39a786c4a05848428bc0177aec6",
      "placeholder": "​",
      "style": "IPY_MODEL_bc413f5bb0fe4d5ab4d599a07afe9d32",
      "value": " 1623939/1623939 [2:05:32&lt;00:00, 215.59it/s]"
     }
    },
    "fb90016820a8497a9e459b2d1d6048d4": {
     "model_module": "@jupyter-widgets/controls",
     "model_name": "FloatProgressModel",
     "state": {
      "_dom_classes": [],
      "_model_module": "@jupyter-widgets/controls",
      "_model_module_version": "1.5.0",
      "_model_name": "FloatProgressModel",
      "_view_count": null,
      "_view_module": "@jupyter-widgets/controls",
      "_view_module_version": "1.5.0",
      "_view_name": "ProgressView",
      "bar_style": "",
      "description": "  0%",
      "description_tooltip": null,
      "layout": "IPY_MODEL_1e42e7302881425388c296141b91b36c",
      "max": 1623939,
      "min": 0,
      "orientation": "horizontal",
      "style": "IPY_MODEL_29d96997fb584381a0154d9df788613d",
      "value": 137
     }
    }
   }
  }
 },
 "nbformat": 4,
 "nbformat_minor": 1
}
