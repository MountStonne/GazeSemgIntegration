{
 "cells": [
  {
   "cell_type": "code",
   "execution_count": 2,
   "id": "7d8b225e",
   "metadata": {},
   "outputs": [],
   "source": [
    "from IPython.core.interactiveshell import InteractiveShell\n",
    "InteractiveShell.ast_node_interactivity = \"all\"\n",
    "import numpy as np\n",
    "import pandas as pd\n",
    "import matplotlib.pyplot as plt\n",
    "from tqdm.notebook import tqdm\n",
    "import lightgbm as ltb\n",
    "import warnings\n",
    "\n",
    "from IPython.core.interactiveshell import InteractiveShell\n",
    "InteractiveShell.ast_node_interactivity = \"all\"\n",
    "\n",
    "warnings.filterwarnings('ignore')"
   ]
  },
  {
   "cell_type": "code",
   "execution_count": 3,
   "id": "656f261a",
   "metadata": {},
   "outputs": [],
   "source": [
    "acc_features = []\n",
    "name_features = []"
   ]
  },
  {
   "cell_type": "markdown",
   "id": "acc6185a",
   "metadata": {},
   "source": [
    "# STD"
   ]
  },
  {
   "cell_type": "code",
   "execution_count": 4,
   "id": "fb765f00",
   "metadata": {},
   "outputs": [
    {
     "data": {
      "text/plain": [
       "LGBMClassifier()"
      ]
     },
     "execution_count": 4,
     "metadata": {},
     "output_type": "execute_result"
    }
   ],
   "source": [
    "name = 'STD'\n",
    "\n",
    "trainx = pd.read_csv('featured_data/'+name+'_trainx.csv')\n",
    "trainx = trainx.set_index('Unnamed: 0')\n",
    "trainx = trainx.reset_index(drop=True)\n",
    "\n",
    "trainy = pd.read_csv('featured_data/'+name+'_trainy.csv')\n",
    "trainy = trainy.set_index('Unnamed: 0')\n",
    "trainy = trainy.reset_index(drop=True)\n",
    "\n",
    "testx = pd.read_csv('featured_data/'+name+'_testx.csv')\n",
    "testx = testx.set_index('Unnamed: 0')\n",
    "testx = testx.reset_index(drop=True)\n",
    "\n",
    "testy = pd.read_csv('featured_data/'+name+'_testy.csv')\n",
    "testy = testy.set_index('Unnamed: 0')\n",
    "testy = testy.reset_index(drop=True)\n",
    "\n",
    "# train/test model\n",
    "lightGBM_model = ltb.LGBMClassifier()\n",
    "lightGBM_model.fit(trainx,trainy)\n",
    "expected1 = testy.values.flatten()\n",
    "predicted1 = lightGBM_model.predict(testx)\n",
    "counter = 0\n",
    "for i in range(0, len(expected1)):\n",
    "    if expected1[i] == predicted1[i]:\n",
    "        counter += 1\n",
    "\n",
    "accuracy = counter/len(expected1)\n",
    "\n",
    "acc_features.append(accuracy)\n",
    "name_features.append(name)"
   ]
  },
  {
   "cell_type": "markdown",
   "id": "d69a21f4",
   "metadata": {},
   "source": [
    "# RMS"
   ]
  },
  {
   "cell_type": "code",
   "execution_count": 5,
   "id": "ab27187d",
   "metadata": {},
   "outputs": [
    {
     "data": {
      "text/plain": [
       "LGBMClassifier()"
      ]
     },
     "execution_count": 5,
     "metadata": {},
     "output_type": "execute_result"
    }
   ],
   "source": [
    "name = 'RMS'\n",
    "\n",
    "trainx = pd.read_csv('featured_data/'+name+'_trainx.csv')\n",
    "trainx = trainx.set_index('Unnamed: 0')\n",
    "trainx = trainx.reset_index(drop=True)\n",
    "\n",
    "trainy = pd.read_csv('featured_data/'+name+'_trainy.csv')\n",
    "trainy = trainy.set_index('Unnamed: 0')\n",
    "trainy = trainy.reset_index(drop=True)\n",
    "\n",
    "testx = pd.read_csv('featured_data/'+name+'_testx.csv')\n",
    "testx = testx.set_index('Unnamed: 0')\n",
    "testx = testx.reset_index(drop=True)\n",
    "\n",
    "testy = pd.read_csv('featured_data/'+name+'_testy.csv')\n",
    "testy = testy.set_index('Unnamed: 0')\n",
    "testy = testy.reset_index(drop=True)\n",
    "\n",
    "# train/test model\n",
    "lightGBM_model = ltb.LGBMClassifier()\n",
    "lightGBM_model.fit(trainx,trainy)\n",
    "expected1 = testy.values.flatten()\n",
    "predicted1 = lightGBM_model.predict(testx)\n",
    "counter = 0\n",
    "for i in range(0, len(expected1)):\n",
    "    if expected1[i] == predicted1[i]:\n",
    "        counter += 1\n",
    "\n",
    "accuracy = counter/len(expected1)\n",
    "\n",
    "acc_features.append(accuracy)\n",
    "name_features.append(name)"
   ]
  },
  {
   "cell_type": "markdown",
   "id": "03878561",
   "metadata": {},
   "source": [
    "# IEMG"
   ]
  },
  {
   "cell_type": "code",
   "execution_count": 6,
   "id": "027c0282",
   "metadata": {},
   "outputs": [
    {
     "data": {
      "text/plain": [
       "LGBMClassifier()"
      ]
     },
     "execution_count": 6,
     "metadata": {},
     "output_type": "execute_result"
    }
   ],
   "source": [
    "name = 'IEMG'\n",
    "\n",
    "trainx = pd.read_csv('featured_data/'+name+'_trainx.csv')\n",
    "trainx = trainx.set_index('Unnamed: 0')\n",
    "trainx = trainx.reset_index(drop=True)\n",
    "\n",
    "trainy = pd.read_csv('featured_data/'+name+'_trainy.csv')\n",
    "trainy = trainy.set_index('Unnamed: 0')\n",
    "trainy = trainy.reset_index(drop=True)\n",
    "\n",
    "testx = pd.read_csv('featured_data/'+name+'_testx.csv')\n",
    "testx = testx.set_index('Unnamed: 0')\n",
    "testx = testx.reset_index(drop=True)\n",
    "\n",
    "testy = pd.read_csv('featured_data/'+name+'_testy.csv')\n",
    "testy = testy.set_index('Unnamed: 0')\n",
    "testy = testy.reset_index(drop=True)\n",
    "\n",
    "# train/test model\n",
    "lightGBM_model = ltb.LGBMClassifier()\n",
    "lightGBM_model.fit(trainx,trainy)\n",
    "expected1 = testy.values.flatten()\n",
    "predicted1 = lightGBM_model.predict(testx)\n",
    "counter = 0\n",
    "for i in range(0, len(expected1)):\n",
    "    if expected1[i] == predicted1[i]:\n",
    "        counter += 1\n",
    "\n",
    "accuracy = counter/len(expected1)\n",
    "\n",
    "acc_features.append(accuracy)\n",
    "name_features.append(name)"
   ]
  },
  {
   "cell_type": "code",
   "execution_count": 7,
   "id": "1b0220d5",
   "metadata": {},
   "outputs": [
    {
     "data": {
      "text/plain": [
       "[0.7971136705904047, 0.7997356855272459, 0.7866813166548852]"
      ]
     },
     "execution_count": 7,
     "metadata": {},
     "output_type": "execute_result"
    },
    {
     "data": {
      "text/plain": [
       "['STD', 'RMS', 'IEMG']"
      ]
     },
     "execution_count": 7,
     "metadata": {},
     "output_type": "execute_result"
    }
   ],
   "source": [
    "acc_features\n",
    "name_features"
   ]
  },
  {
   "cell_type": "markdown",
   "id": "e536ed5b",
   "metadata": {},
   "source": [
    "# MAV"
   ]
  },
  {
   "cell_type": "code",
   "execution_count": 8,
   "id": "e8e92bc3",
   "metadata": {},
   "outputs": [
    {
     "data": {
      "text/plain": [
       "LGBMClassifier()"
      ]
     },
     "execution_count": 8,
     "metadata": {},
     "output_type": "execute_result"
    }
   ],
   "source": [
    "name = 'MAV'\n",
    "\n",
    "trainx = pd.read_csv('featured_data/'+name+'_trainx.csv')\n",
    "trainx = trainx.set_index('Unnamed: 0')\n",
    "trainx = trainx.reset_index(drop=True)\n",
    "\n",
    "trainy = pd.read_csv('featured_data/'+name+'_trainy.csv')\n",
    "trainy = trainy.set_index('Unnamed: 0')\n",
    "trainy = trainy.reset_index(drop=True)\n",
    "\n",
    "testx = pd.read_csv('featured_data/'+name+'_testx.csv')\n",
    "testx = testx.set_index('Unnamed: 0')\n",
    "testx = testx.reset_index(drop=True)\n",
    "\n",
    "testy = pd.read_csv('featured_data/'+name+'_testy.csv')\n",
    "testy = testy.set_index('Unnamed: 0')\n",
    "testy = testy.reset_index(drop=True)\n",
    "\n",
    "# train/test model\n",
    "lightGBM_model = ltb.LGBMClassifier()\n",
    "lightGBM_model.fit(trainx,trainy)\n",
    "expected1 = testy.values.flatten()\n",
    "predicted1 = lightGBM_model.predict(testx)\n",
    "counter = 0\n",
    "for i in range(0, len(expected1)):\n",
    "    if expected1[i] == predicted1[i]:\n",
    "        counter += 1\n",
    "\n",
    "accuracy = counter/len(expected1)\n",
    "\n",
    "acc_features.append(accuracy)\n",
    "name_features.append(name)"
   ]
  },
  {
   "cell_type": "code",
   "execution_count": 9,
   "id": "24255322",
   "metadata": {},
   "outputs": [
    {
     "data": {
      "text/plain": [
       "[0.7971136705904047,\n",
       " 0.7997356855272459,\n",
       " 0.7866813166548852,\n",
       " 0.7866813166548852]"
      ]
     },
     "execution_count": 9,
     "metadata": {},
     "output_type": "execute_result"
    },
    {
     "data": {
      "text/plain": [
       "['STD', 'RMS', 'IEMG', 'MAV']"
      ]
     },
     "execution_count": 9,
     "metadata": {},
     "output_type": "execute_result"
    }
   ],
   "source": [
    "acc_features\n",
    "name_features"
   ]
  },
  {
   "cell_type": "markdown",
   "id": "31e95eb4",
   "metadata": {},
   "source": [
    "# Plot"
   ]
  },
  {
   "cell_type": "code",
   "execution_count": 14,
   "id": "c9de659d",
   "metadata": {},
   "outputs": [
    {
     "data": {
      "text/plain": [
       "Text(0, 3, '0.7971136705904047')"
      ]
     },
     "execution_count": 14,
     "metadata": {},
     "output_type": "execute_result"
    },
    {
     "data": {
      "text/plain": [
       "Text(0, 3, '0.7997356855272459')"
      ]
     },
     "execution_count": 14,
     "metadata": {},
     "output_type": "execute_result"
    },
    {
     "data": {
      "text/plain": [
       "Text(0, 3, '0.7866813166548852')"
      ]
     },
     "execution_count": 14,
     "metadata": {},
     "output_type": "execute_result"
    },
    {
     "data": {
      "text/plain": [
       "Text(0, 3, '0.7866813166548852')"
      ]
     },
     "execution_count": 14,
     "metadata": {},
     "output_type": "execute_result"
    },
    {
     "data": {
      "text/plain": [
       "Text(0.5, 0, 'features')"
      ]
     },
     "execution_count": 14,
     "metadata": {},
     "output_type": "execute_result"
    },
    {
     "data": {
      "text/plain": [
       "Text(0, 0.5, 'Accuracy %')"
      ]
     },
     "execution_count": 14,
     "metadata": {},
     "output_type": "execute_result"
    },
    {
     "data": {
      "text/plain": [
       "[<matplotlib.axis.XTick at 0x7f3a4ff69610>,\n",
       " <matplotlib.axis.XTick at 0x7f3a4ff695e0>,\n",
       " <matplotlib.axis.XTick at 0x7f3a4ff72160>,\n",
       " <matplotlib.axis.XTick at 0x7f3a4ff97e20>]"
      ]
     },
     "execution_count": 14,
     "metadata": {},
     "output_type": "execute_result"
    },
    {
     "data": {
      "text/plain": [
       "[Text(0, 0, 'STD'), Text(1, 0, 'RMS'), Text(2, 0, 'IEMG'), Text(3, 0, 'MAV')]"
      ]
     },
     "execution_count": 14,
     "metadata": {},
     "output_type": "execute_result"
    },
    {
     "data": {
      "text/plain": [
       "(0.0, 1.0)"
      ]
     },
     "execution_count": 14,
     "metadata": {},
     "output_type": "execute_result"
    },
    {
     "data": {
      "text/plain": [
       "Text(0.5, 1.0, 'Single Feature Performance (data from subject s011 with window=200ms)')"
      ]
     },
     "execution_count": 14,
     "metadata": {},
     "output_type": "execute_result"
    },
    {
     "name": "stderr",
     "output_type": "stream",
     "text": [
      "No handles with labels found to put in legend.\n"
     ]
    },
    {
     "data": {
      "text/plain": [
       "<matplotlib.legend.Legend at 0x7f3a4ffbfe20>"
      ]
     },
     "execution_count": 14,
     "metadata": {},
     "output_type": "execute_result"
    },
    {
     "data": {
      "image/png": "[encoded data removed]",
      "text/plain": [
       "<Figure size 1080x540 with 1 Axes>"
      ]
     },
     "metadata": {
      "needs_background": "light"
     },
     "output_type": "display_data"
    }
   ],
   "source": [
    "# set width of bar\n",
    "barWidth = 0.25\n",
    "fig,ax = plt.subplots(figsize =(15, 7.5))\n",
    "\n",
    "# Set position of bar on X axis\n",
    "br1 = np.arange(len(acc_features))\n",
    "\n",
    "# Make the plot\n",
    "acc = ax.bar(br1, acc_features, color ='g', width = barWidth, edgecolor ='grey')\n",
    "for p in acc:\n",
    "   height = p.get_height()\n",
    "   ax.annotate('{}'.format(height),\n",
    "      xy=(p.get_x() + p.get_width() / 2, height),\n",
    "      xytext=(0, 3), # 3 points vertical offset\n",
    "      textcoords=\"offset points\",\n",
    "      ha='center', va='bottom')\n",
    "\n",
    "# Adding Xticks\n",
    "ax.set_xlabel('features', fontweight ='bold', fontsize = 15)\n",
    "ax.set_ylabel('Accuracy %', fontweight ='bold', fontsize = 15)\n",
    "ax.set_xticks(br1)\n",
    "ax.set_xticklabels(name_features)\n",
    "\n",
    "ax.set_ylim(0, 1)\n",
    "ax.set_title('Single Feature Performance (data from subject s011 with window=200ms)',size=30)\n",
    "ax.legend()\n",
    "plt.show()"
   ]
  },
  {
   "cell_type": "code",
   "execution_count": null,
   "id": "283218d3",
   "metadata": {},
   "outputs": [],
   "source": []
  },
  {
   "cell_type": "code",
   "execution_count": null,
   "id": "dd8e9158",
   "metadata": {},
   "outputs": [],
   "source": []
  },
  {
   "cell_type": "code",
   "execution_count": null,
   "id": "d63126e2",
   "metadata": {},
   "outputs": [],
   "source": []
  },
  {
   "cell_type": "code",
   "execution_count": null,
   "id": "877960e3",
   "metadata": {},
   "outputs": [],
   "source": []
  },
  {
   "cell_type": "code",
   "execution_count": null,
   "id": "6389d57e",
   "metadata": {},
   "outputs": [],
   "source": []
  },
  {
   "cell_type": "code",
   "execution_count": null,
   "id": "71000e1e",
   "metadata": {},
   "outputs": [],
   "source": []
  },
  {
   "cell_type": "code",
   "execution_count": null,
   "id": "2e1cc716",
   "metadata": {},
   "outputs": [],
   "source": []
  },
  {
   "cell_type": "code",
   "execution_count": null,
   "id": "bfca9f63",
   "metadata": {},
   "outputs": [],
   "source": []
  },
  {
   "cell_type": "code",
   "execution_count": null,
   "id": "a49518db",
   "metadata": {},
   "outputs": [],
   "source": []
  },
  {
   "cell_type": "code",
   "execution_count": null,
   "id": "c5e8bf00",
   "metadata": {},
   "outputs": [],
   "source": []
  },
  {
   "cell_type": "code",
   "execution_count": null,
   "id": "7340afe4",
   "metadata": {},
   "outputs": [],
   "source": []
  }
 ],
 "metadata": {
  "kernelspec": {
   "display_name": "Python 3",
   "language": "python",
   "name": "python3"
  },
  "language_info": {
   "codemirror_mode": {
    "name": "ipython",
    "version": 3
   },
   "file_extension": ".py",
   "mimetype": "text/x-python",
   "name": "python",
   "nbconvert_exporter": "python",
   "pygments_lexer": "ipython3",
   "version": "3.8.2"
  }
 },
 "nbformat": 4,
 "nbformat_minor": 5
}
