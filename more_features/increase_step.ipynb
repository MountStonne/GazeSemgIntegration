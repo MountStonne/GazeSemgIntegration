{
 "cells": [
  {
   "cell_type": "code",
<<<<<<< HEAD
   "execution_count": 2,
   "id": "684e9663",
=======
   "execution_count": 1,
>>>>>>> 02ad7ea071c2acbdf46189a0b80252acb9415673
   "metadata": {},
   "outputs": [],
   "source": [
    "from IPython.core.interactiveshell import InteractiveShell\n",
    "InteractiveShell.ast_node_interactivity = \"all\"\n",
    "import numpy as np\n",
    "import pandas as pd\n",
    "import matplotlib.pyplot as plt\n",
    "from tqdm.notebook import tqdm\n",
    "from sklearn.svm import LinearSVC,SVC\n",
    "from sklearn.neighbors import KNeighborsClassifier\n",
    "import lightgbm as ltb\n",
    "from sklearn.neural_network import MLPClassifier\n",
    "from copy import deepcopy\n",
    "import warnings\n",
    "import math\n",
    "\n",
    "\n",
    "from IPython.core.interactiveshell import InteractiveShell\n",
    "InteractiveShell.ast_node_interactivity = \"all\"\n",
    "\n",
    "warnings.filterwarnings('ignore')"
   ]
  },
  {
   "cell_type": "markdown",
<<<<<<< HEAD
   "id": "f04ad082",
=======
>>>>>>> 02ad7ea071c2acbdf46189a0b80252acb9415673
   "metadata": {},
   "source": [
    "# Index variables"
   ]
  },
  {
   "cell_type": "code",
<<<<<<< HEAD
   "execution_count": 3,
   "id": "791ab411",
=======
   "execution_count": 2,
>>>>>>> 02ad7ea071c2acbdf46189a0b80252acb9415673
   "metadata": {},
   "outputs": [],
   "source": [
    "subject_number = 1"
   ]
  },
  {
   "cell_type": "markdown",
<<<<<<< HEAD
   "id": "d3cd4a32",
=======
>>>>>>> 02ad7ea071c2acbdf46189a0b80252acb9415673
   "metadata": {},
   "source": [
    "# Find where the static data end from data file 'SXXX_dynamic.csv'"
   ]
  },
  {
   "cell_type": "code",
<<<<<<< HEAD
   "execution_count": 4,
   "id": "ec786a3d",
=======
   "execution_count": 3,
>>>>>>> 02ad7ea071c2acbdf46189a0b80252acb9415673
   "metadata": {},
   "outputs": [
    {
     "data": {
      "application/vnd.jupyter.widget-view+json": {
       "model_id": "abf4c2d7eba94b7d8b6ac3b14b0846c9",
       "version_major": 2,
       "version_minor": 0
      },
      "text/plain": [
       "HBox(children=(FloatProgress(value=0.0, max=1.0), HTML(value='')))"
      ]
     },
     "metadata": {},
     "output_type": "display_data"
    },
    {
     "name": "stdout",
     "output_type": "stream",
     "text": [
      "\n"
     ]
    }
   ],
   "source": [
    "static_end = []\n",
    "\n",
    "for i in tqdm(range(10,10+subject_number)):\n",
    "    current_dynamic = pd.read_csv('data_all_intact/S0' + str(i) + '_dynamic.csv', header=None)\n",
    "\n",
    "    for j in range(len(current_dynamic)-1, -1, -1):\n",
    "        if current_dynamic.iloc[j,0] == 0:\n",
    "            static_end.append(j)\n",
    "            break\n",
    "    "
   ]
  },
  {
   "cell_type": "code",
<<<<<<< HEAD
   "execution_count": 5,
   "id": "92443674",
=======
   "execution_count": 4,
>>>>>>> 02ad7ea071c2acbdf46189a0b80252acb9415673
   "metadata": {},
   "outputs": [
    {
     "data": {
      "text/plain": [
       "[5413137]"
      ]
     },
     "execution_count": 4,
     "metadata": {},
     "output_type": "execute_result"
    }
   ],
   "source": [
    "static_end"
   ]
  },
  {
   "cell_type": "markdown",
<<<<<<< HEAD
   "id": "97852740",
=======
>>>>>>> 02ad7ea071c2acbdf46189a0b80252acb9415673
   "metadata": {},
   "source": [
    "# Analysis performance for different features"
   ]
  },
  {
   "cell_type": "code",
<<<<<<< HEAD
   "execution_count": 6,
   "id": "fbf0c408",
=======
   "execution_count": 5,
>>>>>>> 02ad7ea071c2acbdf46189a0b80252acb9415673
   "metadata": {},
   "outputs": [],
   "source": [
    "# save accuracy in array 'acc_features'\n",
    "# save features name in array 'name_features'\n",
    "acc_features = []\n",
    "name_features = []"
   ]
  },
  {
   "cell_type": "code",
<<<<<<< HEAD
   "execution_count": 7,
   "id": "d0a705bf",
=======
   "execution_count": 6,
>>>>>>> 02ad7ea071c2acbdf46189a0b80252acb9415673
   "metadata": {},
   "outputs": [],
   "source": [
    "# STD, RMS, IEMG, MAV, WL, LOG, SSI, SKW, KURT, AAC, DASDV"
   ]
  },
  {
   "cell_type": "markdown",
<<<<<<< HEAD
   "id": "5c5072de",
=======
>>>>>>> 02ad7ea071c2acbdf46189a0b80252acb9415673
   "metadata": {},
   "source": [
    "## STD--Standard deviation"
   ]
  },
  {
   "cell_type": "code",
<<<<<<< HEAD
   "execution_count": 21,
   "id": "04949af8",
=======
   "execution_count": null,
>>>>>>> 02ad7ea071c2acbdf46189a0b80252acb9415673
   "metadata": {},
   "outputs": [
    {
     "data": {
      "text/plain": [
       "'change name, features'"
      ]
     },
     "execution_count": 8,
     "metadata": {},
     "output_type": "execute_result"
    },
    {
     "data": {
      "application/vnd.jupyter.widget-view+json": {
       "model_id": "3f36db025420494683627eee1279e78a",
       "version_major": 2,
       "version_minor": 0
      },
      "text/plain": [
       "HBox(children=(FloatProgress(value=0.0, max=1.0), HTML(value='')))"
      ]
     },
     "metadata": {},
     "output_type": "display_data"
    },
    {
     "data": {
      "application/vnd.jupyter.widget-view+json": {
       "model_id": "fec7002274aa49efab2c30e47df3215c",
       "version_major": 2,
       "version_minor": 0
      },
      "text/plain": [
       "HBox(children=(FloatProgress(value=0.0, max=5413137.0), HTML(value='')))"
      ]
     },
     "metadata": {},
     "output_type": "display_data"
    }
   ],
   "source": [
    "# index variable\n",
    "'''change name, features'''\n",
    "name = 'STD'\n",
    "\n",
    "# start\n",
    "for i in tqdm(range(10,10+subject_number)):\n",
    "    # read csv files\n",
    "    current_emg = pd.read_csv('data_all_intact/S0' + str(i) + '_emg.csv', header=None)\n",
    "    current_grasp = pd.read_csv('data_all_intact/S0' + str(i) + '_grasp.csv', header=None)\n",
    "    current_grasprepetition = pd.read_csv('data_all_intact/S0' + str(i) + '_grasprepetition.csv', header=None)\n",
    "    \n",
    "    current_static_emg = current_emg.iloc[0:static_end[i-10]]\n",
    "    current_static_grasp = current_grasp.iloc[0:static_end[i-10]]\n",
    "    current_static_grasprepetition = current_grasprepetition.iloc[0:static_end[i-10]]\n",
    "    \n",
    "    # find raw train/test data\n",
    "    train_index = []\n",
    "    test_index = []\n",
    "    for j in tqdm(range(len(current_static_grasprepetition))):\n",
    "        if current_static_grasprepetition.iloc[j,0] in [1,2,3,4,5,6,7,8,9]:\n",
    "            train_index.append(j)\n",
    "        if current_static_grasprepetition.iloc[j,0] in [10,11,12]:\n",
    "            test_index.append(j)\n",
    "    \n",
    "    trainx_raw = current_static_emg.iloc[train_index].reset_index(drop=True)\n",
    "    trainy_raw = current_static_grasp.iloc[train_index].reset_index(drop=True)\n",
    "\n",
    "    testx_raw = current_static_emg.iloc[test_index].reset_index(drop=True)\n",
    "    testy_raw = current_static_grasp.iloc[test_index].reset_index(drop=True)\n",
    "    \n",
    "    # add overlapping window to train/test data\n",
    "    ## 385 means the overlapping window is 200ms\n",
    "    ## train data\n",
    "\n",
    "    trainx = []\n",
    "    trainy = []\n",
    "    \n",
    "    for a in tqdm(range(385,len(trainx_raw), 96)):\n",
    "        current_row = []\n",
    "        for b in range(0,12):\n",
    "            current_row.append(trainx_raw.iloc[a-385:a+1, b].std())\n",
    "        trainx.append(current_row)\n",
    "        trainy.append(trainy_raw.iloc[a, 0])\n",
    "\n",
    "    ## test data\n",
    "    testx = []\n",
    "    testy = []\n",
    "\n",
    "    for a in tqdm(range(385,len(testx_raw),96)):\n",
    "        current_row = []\n",
    "        for b in range(0,12):\n",
    "            current_row.append(testx_raw.iloc[a-385:a+1,b].std())\n",
    "        testx.append(current_row)\n",
    "        testy.append(trainy_raw.iloc[a, 0])"
   ]
  },
  {
   "cell_type": "code",
   "execution_count": null,
<<<<<<< HEAD
   "id": "48efa6bf",
=======
>>>>>>> 02ad7ea071c2acbdf46189a0b80252acb9415673
   "metadata": {},
   "outputs": [],
   "source": [
    "print(acc_features,name_features)\n",
    "trainx.to_csv('featured_data/step=50ms/'+name+'_trainx.csv')\n",
    "trainy.to_csv('featured_data/step=50ms/'+name+'_trainy.csv')\n",
    "testx.to_csv('featured_data/step=50ms/'+name+'_testx.csv')\n",
    "testy.to_csv('featured_data/step=50ms/'+name+'_testy.csv')"
   ]
  },
  {
   "cell_type": "code",
   "execution_count": null,
<<<<<<< HEAD
   "id": "9948fb90",
=======
>>>>>>> 02ad7ea071c2acbdf46189a0b80252acb9415673
   "metadata": {},
   "outputs": [],
   "source": []
  },
  {
   "cell_type": "code",
   "execution_count": null,
<<<<<<< HEAD
   "id": "c69396ec",
=======
>>>>>>> 02ad7ea071c2acbdf46189a0b80252acb9415673
   "metadata": {},
   "outputs": [],
   "source": []
  },
  {
   "cell_type": "code",
   "execution_count": null,
<<<<<<< HEAD
   "id": "a292598e",
=======
>>>>>>> 02ad7ea071c2acbdf46189a0b80252acb9415673
   "metadata": {},
   "outputs": [],
   "source": []
  },
  {
   "cell_type": "code",
   "execution_count": null,
<<<<<<< HEAD
   "id": "873d225b",
=======
>>>>>>> 02ad7ea071c2acbdf46189a0b80252acb9415673
   "metadata": {},
   "outputs": [],
   "source": []
  },
  {
   "cell_type": "code",
   "execution_count": null,
<<<<<<< HEAD
   "id": "cf952c32",
=======
>>>>>>> 02ad7ea071c2acbdf46189a0b80252acb9415673
   "metadata": {},
   "outputs": [],
   "source": []
  },
  {
   "cell_type": "code",
   "execution_count": null,
<<<<<<< HEAD
   "id": "83e1e7d7",
=======
>>>>>>> 02ad7ea071c2acbdf46189a0b80252acb9415673
   "metadata": {},
   "outputs": [],
   "source": []
  },
  {
   "cell_type": "code",
   "execution_count": null,
<<<<<<< HEAD
   "id": "a0b0e906",
=======
>>>>>>> 02ad7ea071c2acbdf46189a0b80252acb9415673
   "metadata": {},
   "outputs": [],
   "source": []
  },
  {
   "cell_type": "code",
   "execution_count": null,
<<<<<<< HEAD
   "id": "c6007c63",
=======
>>>>>>> 02ad7ea071c2acbdf46189a0b80252acb9415673
   "metadata": {},
   "outputs": [],
   "source": []
  },
  {
   "cell_type": "code",
   "execution_count": null,
<<<<<<< HEAD
   "id": "5a2589da",
=======
>>>>>>> 02ad7ea071c2acbdf46189a0b80252acb9415673
   "metadata": {},
   "outputs": [],
   "source": []
  },
  {
   "cell_type": "code",
   "execution_count": null,
<<<<<<< HEAD
   "id": "2fd9add6",
=======
>>>>>>> 02ad7ea071c2acbdf46189a0b80252acb9415673
   "metadata": {},
   "outputs": [],
   "source": []
  },
  {
   "cell_type": "code",
   "execution_count": null,
<<<<<<< HEAD
   "id": "e6c6c086",
=======
>>>>>>> 02ad7ea071c2acbdf46189a0b80252acb9415673
   "metadata": {},
   "outputs": [],
   "source": []
  }
 ],
 "metadata": {
  "kernelspec": {
   "display_name": "Python 3",
   "language": "python",
   "name": "python3"
  },
  "language_info": {
   "codemirror_mode": {
    "name": "ipython",
    "version": 3
   },
   "file_extension": ".py",
   "mimetype": "text/x-python",
   "name": "python",
   "nbconvert_exporter": "python",
   "pygments_lexer": "ipython3",
   "version": "3.8.3"
  }
 },
 "nbformat": 4,
 "nbformat_minor": 5
}
