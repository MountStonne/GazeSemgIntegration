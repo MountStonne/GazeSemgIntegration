{
 "cells": [
  {
   "cell_type": "code",
   "execution_count": null,
   "id": "8a838b56",
   "metadata": {},
   "outputs": [],
   "source": [
    "from IPython.core.interactiveshell import InteractiveShell\n",
    "InteractiveShell.ast_node_interactivity = \"all\"\n",
    "import numpy as np\n",
    "import pandas as pd\n",
    "import matplotlib.pyplot as plt\n",
    "from tqdm.notebook import tqdm\n",
    "from sklearn.svm import LinearSVC,SVC\n",
    "from sklearn.neighbors import KNeighborsClassifier\n",
    "import lightgbm as ltb\n",
    "from sklearn.neural_network import MLPClassifier\n",
    "from copy import deepcopy\n",
    "import warnings\n",
    "import math\n",
    "\n",
    "\n",
    "from IPython.core.interactiveshell import InteractiveShell\n",
    "InteractiveShell.ast_node_interactivity = \"all\"\n",
    "\n",
    "warnings.filterwarnings('ignore')"
   ]
  },
  {
   "cell_type": "markdown",
   "id": "61e36107",
   "metadata": {},
   "source": [
    "# Index variables"
   ]
  },
  {
   "cell_type": "code",
   "execution_count": null,
   "id": "abf4456d",
   "metadata": {},
   "outputs": [],
   "source": [
    "subject_number = 1"
   ]
  },
  {
   "cell_type": "markdown",
   "id": "c1b886f1",
   "metadata": {},
   "source": [
    "# Find where the static data end from data file 'SXXX_dynamic.csv'"
   ]
  },
  {
   "cell_type": "code",
   "execution_count": null,
   "id": "bda892d9",
   "metadata": {},
   "outputs": [],
   "source": [
    "static_end = []\n",
    "\n",
    "for i in tqdm(range(10,10+subject_number)):\n",
    "    current_dynamic = pd.read_csv('data_all_intact/S0' + str(i) + '_dynamic.csv', header=None)\n",
    "\n",
    "    for j in range(len(current_dynamic)-1, -1, -1):\n",
    "        if current_dynamic.iloc[j,0] == 0:\n",
    "            static_end.append(j)\n",
    "            break\n",
    "    "
   ]
  },
  {
   "cell_type": "code",
   "execution_count": null,
   "id": "8f5b3cee",
   "metadata": {},
   "outputs": [],
   "source": [
    "static_end"
   ]
  },
  {
   "cell_type": "markdown",
   "id": "fba030ae",
   "metadata": {},
   "source": [
    "# Analysis performance for different features"
   ]
  },
  {
   "cell_type": "code",
   "execution_count": null,
   "id": "05b36eeb",
   "metadata": {},
   "outputs": [],
   "source": [
    "# save accuracy in array 'acc_features'\n",
    "# save features name in array 'name_features'\n",
    "acc_features = []\n",
    "name_features = []"
   ]
  },
  {
   "cell_type": "code",
   "execution_count": null,
   "id": "ef90f739",
   "metadata": {},
   "outputs": [],
   "source": [
    "# STD, RMS, IEMG, MAV, WL, LOG, SSI, SKW, KURT, AAC, DASDV"
   ]
  },
  {
   "cell_type": "markdown",
   "id": "34fc0d6a",
   "metadata": {},
   "source": [
    "## STD--Standard deviation"
   ]
  },
  {
   "cell_type": "code",
   "execution_count": null,
   "id": "313607e9",
   "metadata": {},
   "outputs": [],
   "source": [
    "# index variable\n",
    "'''change name, features'''\n",
    "name = 'STD'\n",
    "\n",
    "# start\n",
    "for i in tqdm(range(10,10+subject_number)):\n",
    "    # read csv files\n",
    "    current_emg = pd.read_csv('data_all_intact/S0' + str(i) + '_emg.csv', header=None)\n",
    "    current_grasp = pd.read_csv('data_all_intact/S0' + str(i) + '_grasp.csv', header=None)\n",
    "    current_grasprepetition = pd.read_csv('data_all_intact/S0' + str(i) + '_grasprepetition.csv', header=None)\n",
    "    \n",
    "    current_static_emg = current_emg.iloc[0:static_end[i-10]]\n",
    "    current_static_grasp = current_grasp.iloc[0:static_end[i-10]]\n",
    "    current_static_grasprepetition = current_grasprepetition.iloc[0:static_end[i-10]]\n",
    "    \n",
    "    # find raw train/test data\n",
    "    train_index = []\n",
    "    test_index = []\n",
    "    for j in tqdm(range(len(current_static_grasprepetition))):\n",
    "        if current_static_grasprepetition.iloc[j,0] in [1,2,3,4,5,6,7,8,9]:\n",
    "            train_index.append(j)\n",
    "        if current_static_grasprepetition.iloc[j,0] in [10,11,12]:\n",
    "            test_index.append(j)\n",
    "    \n",
    "    trainx_raw = current_static_emg.iloc[train_index].reset_index(drop=True)\n",
    "    trainy_raw = current_static_grasp.iloc[train_index].reset_index(drop=True)\n",
    "\n",
    "    testx_raw = current_static_emg.iloc[test_index].reset_index(drop=True)\n",
    "    testy_raw = current_static_grasp.iloc[test_index].reset_index(drop=True)\n",
    "    \n",
    "    # add overlapping window to train/test data\n",
    "    ## 385 means the overlapping window is 200ms\n",
    "    ## train data\n",
    "\n",
    "    trainx = []\n",
    "    trainy = []\n",
    "    \n",
    "    for a in tqdm(range(385,len(trainx_raw), 96)):\n",
    "        current_row = []\n",
    "        for b in range(0,12):\n",
    "            current_row.append(trainx_raw.iloc[a-385:a+1, b].std())\n",
    "        trainx.append(current_row)\n",
    "        trainy.append(trainy_raw.iloc[a, 0])\n",
    "\n",
    "    ## test data\n",
    "    testx = []\n",
    "    testy = []\n",
    "\n",
    "    for a in tqdm(range(385,len(testx_raw),96)):\n",
    "        current_row = []\n",
    "        for b in range(0,12):\n",
    "            current_row.append(testx_raw.iloc[a-385:a+1,b].std())\n",
    "        testx.append(current_row)\n",
    "        testy.append(testy_raw.iloc[a, 0])"
   ]
  },
  {
   "cell_type": "code",
   "execution_count": null,
   "id": "89c626c4",
   "metadata": {},
   "outputs": [],
   "source": [
    "trainx_df = pd.DataFrame(trainx)\n",
    "trainy_df = pd.DataFrame(trainy)\n",
    "testx_df = pd.DataFrame(testx)\n",
    "testy_df = pd.DataFrame(testy)\n",
    "trainx_df.to_csv('featured_data/step=50ms/'+name+'_trainx.csv', header=False, index=False)\n",
    "trainy_df.to_csv('featured_data/step=50ms/'+name+'_trainy.csv', header=False, index=False)\n",
    "testx_df.to_csv('featured_data/step=50ms/'+name+'_testx.csv', header=False, index=False)\n",
    "testy_df.to_csv('featured_data/step=50ms/'+name+'_testy.csv', header=False, index=False)"
   ]
  },
  {
   "cell_type": "code",
   "execution_count": null,
   "id": "09460ef3",
   "metadata": {},
   "outputs": [],
   "source": [
    "# train/test model\n",
    "lightGBM_model = ltb.LGBMClassifier()\n",
    "lightGBM_model.fit(trainx_df,trainy_df)\n",
    "expected1 = testy_df.values.flatten()\n",
    "predicted1 = lightGBM_model.predict(testx_df)\n",
    "counter = 0\n",
    "for i in range(0, len(expected1)):\n",
    "    if expected1[i] == predicted1[i]:\n",
    "        counter += 1\n",
    "\n",
    "accuracy1 = counter/len(expected1)\n",
    "accuracy1"
   ]
  },
  {
   "cell_type": "markdown",
   "id": "3a021aff",
   "metadata": {},
   "source": [
    "## RMS--Root Mean Square"
   ]
  },
  {
   "cell_type": "code",
   "execution_count": null,
   "id": "0b546875",
   "metadata": {},
   "outputs": [],
   "source": [
    "def rms(self):\n",
    "    current =0\n",
    "    square =0\n",
    "    for i in range(0, len(self)):\n",
    "        current = self.iloc[i]\n",
    "        square += current ** 2\n",
    "    mean = square/len(self)\n",
    "    root = math.sqrt(mean)\n",
    "    return root"
   ]
  },
  {
   "cell_type": "code",
   "execution_count": null,
   "id": "34f0bce9",
   "metadata": {},
   "outputs": [],
   "source": [
    "# index variable\n",
    "'''change name, features'''\n",
    "name = 'RMS'\n",
    "\n",
    "# start\n",
    "for i in tqdm(range(10,10+subject_number)):\n",
    "    # read csv files\n",
    "    current_emg = pd.read_csv('data_all_intact/S0' + str(i) + '_emg.csv', header=None)\n",
    "    current_grasp = pd.read_csv('data_all_intact/S0' + str(i) + '_grasp.csv', header=None)\n",
    "    current_grasprepetition = pd.read_csv('data_all_intact/S0' + str(i) + '_grasprepetition.csv', header=None)\n",
    "    \n",
    "    current_static_emg = current_emg.iloc[0:static_end[i-10]]\n",
    "    current_static_grasp = current_grasp.iloc[0:static_end[i-10]]\n",
    "    current_static_grasprepetition = current_grasprepetition.iloc[0:static_end[i-10]]\n",
    "    \n",
    "    # find raw train/test data\n",
    "    train_index = []\n",
    "    test_index = []\n",
    "    for j in tqdm(range(len(current_static_grasprepetition))):\n",
    "        if current_static_grasprepetition.iloc[j,0] in [1,2,3,4,5,6,7,8,9]:\n",
    "            train_index.append(j)\n",
    "        if current_static_grasprepetition.iloc[j,0] in [10,11,12]:\n",
    "            test_index.append(j)\n",
    "    \n",
    "    trainx_raw = current_static_emg.iloc[train_index].reset_index(drop=True)\n",
    "    trainy_raw = current_static_grasp.iloc[train_index].reset_index(drop=True)\n",
    "\n",
    "    testx_raw = current_static_emg.iloc[test_index].reset_index(drop=True)\n",
    "    testy_raw = current_static_grasp.iloc[test_index].reset_index(drop=True)\n",
    "    \n",
    "    # add overlapping window to train/test data\n",
    "    ## 385 means the overlapping window is 200ms\n",
    "    ## train data\n",
    "\n",
    "    trainx = []\n",
    "    trainy = []\n",
    "    \n",
    "    for a in tqdm(range(385,len(trainx_raw), 96)):\n",
    "        current_row = []\n",
    "        for b in range(0,12):\n",
    "            current_row.append(rms(trainx_raw.iloc[a-385:a+1, b]))\n",
    "        trainx.append(current_row)\n",
    "        trainy.append(trainy_raw.iloc[a, 0])\n",
    "\n",
    "    ## test data\n",
    "    testx = []\n",
    "    testy = []\n",
    "\n",
    "    for a in tqdm(range(385,len(testx_raw),96)):\n",
    "        current_row = []\n",
    "        for b in range(0,12):\n",
    "            current_row.append(rms(testx_raw.iloc[a-385:a+1,b]))\n",
    "        testx.append(current_row)\n",
    "        testy.append(trainy_raw.iloc[a, 0])"
   ]
  },
  {
   "cell_type": "code",
   "execution_count": null,
   "id": "2b665bab",
   "metadata": {},
   "outputs": [],
   "source": [
    "trainx_df = pd.DataFrame(trainx)\n",
    "trainy_df = pd.DataFrame(trainy)\n",
    "testx_df = pd.DataFrame(testx)\n",
    "testy_df = pd.DataFrame(testy)\n",
    "trainx_df.to_csv('featured_data/step=50ms/'+name+'_trainx.csv', header=False, index=False)\n",
    "trainy_df.to_csv('featured_data/step=50ms/'+name+'_trainy.csv', header=False, index=False)\n",
    "testx_df.to_csv('featured_data/step=50ms/'+name+'_testx.csv', header=False, index=False)\n",
    "testy_df.to_csv('featured_data/step=50ms/'+name+'_testy.csv', header=False, index=False)"
   ]
  },
  {
   "cell_type": "code",
   "execution_count": null,
   "id": "80b6dda5",
   "metadata": {},
   "outputs": [],
   "source": []
  },
  {
   "cell_type": "code",
   "execution_count": null,
   "id": "69311d10",
   "metadata": {},
   "outputs": [],
   "source": []
  },
  {
   "cell_type": "code",
   "execution_count": null,
   "id": "7542a2c4",
   "metadata": {},
   "outputs": [],
   "source": []
  },
  {
   "cell_type": "code",
   "execution_count": null,
   "id": "a0ed85a5",
   "metadata": {},
   "outputs": [],
   "source": []
  },
  {
   "cell_type": "code",
   "execution_count": null,
   "id": "40888b74",
   "metadata": {},
   "outputs": [],
   "source": []
  },
  {
   "cell_type": "code",
   "execution_count": null,
   "id": "64d19157",
   "metadata": {},
   "outputs": [],
   "source": []
  }
 ],
 "metadata": {
  "kernelspec": {
   "display_name": "Python 3",
   "language": "python",
   "name": "python3"
  },
  "language_info": {
   "codemirror_mode": {
    "name": "ipython",
    "version": 3
   },
   "file_extension": ".py",
   "mimetype": "text/x-python",
   "name": "python",
   "nbconvert_exporter": "python",
   "pygments_lexer": "ipython3",
   "version": "3.8.2"
  }
 },
 "nbformat": 4,
 "nbformat_minor": 5
}
