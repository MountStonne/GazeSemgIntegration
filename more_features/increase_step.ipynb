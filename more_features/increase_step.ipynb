{
 "cells": [
  {
   "cell_type": "code",
   "execution_count": 8,
   "id": "2c12f231",
   "metadata": {},
   "outputs": [],
   "source": [
    "from IPython.core.interactiveshell import InteractiveShell\n",
    "InteractiveShell.ast_node_interactivity = \"all\"\n",
    "import numpy as np\n",
    "import pandas as pd\n",
    "import matplotlib.pyplot as plt\n",
    "from tqdm.notebook import tqdm\n",
    "from sklearn.svm import LinearSVC,SVC\n",
    "from sklearn.neighbors import KNeighborsClassifier\n",
    "import lightgbm as ltb\n",
    "from sklearn.neural_network import MLPClassifier\n",
    "from copy import deepcopy\n",
    "import warnings\n",
    "import math\n",
    "\n",
    "\n",
    "from IPython.core.interactiveshell import InteractiveShell\n",
    "InteractiveShell.ast_node_interactivity = \"all\"\n",
    "\n",
    "warnings.filterwarnings('ignore')"
   ]
  },
  {
   "cell_type": "markdown",
   "id": "192cbe12",
   "metadata": {},
   "source": [
    "# Index variables"
   ]
  },
  {
   "cell_type": "code",
   "execution_count": 9,
   "id": "9c372415",
   "metadata": {},
   "outputs": [],
   "source": [
    "subject_number = 1"
   ]
  },
  {
   "cell_type": "markdown",
   "id": "3d624d03",
   "metadata": {},
   "source": [
    "# Find where the static data end from data file 'SXXX_dynamic.csv'"
   ]
  },
  {
   "cell_type": "code",
   "execution_count": 10,
   "id": "d38c66af",
   "metadata": {},
   "outputs": [
    {
     "data": {
      "application/vnd.jupyter.widget-view+json": {
       "model_id": "c1a2248472224aa987786f17e29c3eab",
       "version_major": 2,
       "version_minor": 0
      },
      "text/plain": [
       "  0%|          | 0/1 [00:00<?, ?it/s]"
      ]
     },
     "metadata": {},
     "output_type": "display_data"
    }
   ],
   "source": [
    "static_end = []\n",
    "\n",
    "for i in tqdm(range(10,10+subject_number)):\n",
    "    current_dynamic = pd.read_csv('data_all_intact/S0' + str(i) + '_dynamic.csv', header=None)\n",
    "\n",
    "    for j in range(len(current_dynamic)-1, -1, -1):\n",
    "        if current_dynamic.iloc[j,0] == 0:\n",
    "            static_end.append(j)\n",
    "            break\n",
    "    "
   ]
  },
  {
   "cell_type": "code",
   "execution_count": 11,
   "id": "e33e493b",
   "metadata": {},
   "outputs": [
    {
     "data": {
      "text/plain": [
       "[5413137]"
      ]
     },
     "execution_count": 11,
     "metadata": {},
     "output_type": "execute_result"
    }
   ],
   "source": [
    "static_end"
   ]
  },
  {
   "cell_type": "markdown",
   "id": "96fb6a8a",
   "metadata": {},
   "source": [
    "# Analysis performance for different features"
   ]
  },
  {
   "cell_type": "code",
   "execution_count": 12,
   "id": "56e11441",
   "metadata": {},
   "outputs": [],
   "source": [
    "# save accuracy in array 'acc_features'\n",
    "# save features name in array 'name_features'\n",
    "acc_features = []\n",
    "name_features = []"
   ]
  },
  {
   "cell_type": "code",
   "execution_count": 13,
   "id": "45137eba",
   "metadata": {},
   "outputs": [],
   "source": [
    "# STD, RMS, IEMG, MAV, WL, LOG, SSI, SKW, KURT, AAC, DASDV"
   ]
  },
  {
   "cell_type": "markdown",
   "id": "b347ba36",
   "metadata": {},
   "source": [
    "## STD--Standard deviation"
   ]
  },
  {
   "cell_type": "code",
   "execution_count": 14,
   "id": "f944ef51",
   "metadata": {},
   "outputs": [
    {
     "data": {
      "text/plain": [
       "'change name, features'"
      ]
     },
     "execution_count": 14,
     "metadata": {},
     "output_type": "execute_result"
    },
    {
     "data": {
      "application/vnd.jupyter.widget-view+json": {
       "model_id": "7eff08840d54425f84306d26ba2331e2",
       "version_major": 2,
       "version_minor": 0
      },
      "text/plain": [
       "  0%|          | 0/1 [00:00<?, ?it/s]"
      ]
     },
     "metadata": {},
     "output_type": "display_data"
    },
    {
     "data": {
      "application/vnd.jupyter.widget-view+json": {
       "model_id": "b04047c0f1e2408596e2a0a271a65bc2",
       "version_major": 2,
       "version_minor": 0
      },
      "text/plain": [
       "  0%|          | 0/5413137 [00:00<?, ?it/s]"
      ]
     },
     "metadata": {},
     "output_type": "display_data"
    },
    {
     "data": {
      "application/vnd.jupyter.widget-view+json": {
       "model_id": "a18fb6bc6d184fddbf76db6615066050",
       "version_major": 2,
       "version_minor": 0
      },
      "text/plain": [
       "  0%|          | 0/16917 [00:00<?, ?it/s]"
      ]
     },
     "metadata": {},
     "output_type": "display_data"
    },
    {
     "data": {
      "application/vnd.jupyter.widget-view+json": {
       "model_id": "de0a6996dff2417990d3326af8891a74",
       "version_major": 2,
       "version_minor": 0
      },
      "text/plain": [
       "  0%|          | 0/5423 [00:00<?, ?it/s]"
      ]
     },
     "metadata": {},
     "output_type": "display_data"
    }
   ],
   "source": [
    "# index variable\n",
    "'''change name, features'''\n",
    "name = 'STD'\n",
    "\n",
    "# start\n",
    "for i in tqdm(range(10,10+subject_number)):\n",
    "    # read csv files\n",
    "    current_emg = pd.read_csv('data_all_intact/S0' + str(i) + '_emg.csv', header=None)\n",
    "    current_grasp = pd.read_csv('data_all_intact/S0' + str(i) + '_grasp.csv', header=None)\n",
    "    current_grasprepetition = pd.read_csv('data_all_intact/S0' + str(i) + '_grasprepetition.csv', header=None)\n",
    "    \n",
    "    current_static_emg = current_emg.iloc[0:static_end[i-10]]\n",
    "    current_static_grasp = current_grasp.iloc[0:static_end[i-10]]\n",
    "    current_static_grasprepetition = current_grasprepetition.iloc[0:static_end[i-10]]\n",
    "    \n",
    "    # find raw train/test data\n",
    "    train_index = []\n",
    "    test_index = []\n",
    "    for j in tqdm(range(len(current_static_grasprepetition))):\n",
    "        if current_static_grasprepetition.iloc[j,0] in [1,2,3,4,5,6,7,8,9]:\n",
    "            train_index.append(j)\n",
    "        if current_static_grasprepetition.iloc[j,0] in [10,11,12]:\n",
    "            test_index.append(j)\n",
    "    \n",
    "    trainx_raw = current_static_emg.iloc[train_index].reset_index(drop=True)\n",
    "    trainy_raw = current_static_grasp.iloc[train_index].reset_index(drop=True)\n",
    "\n",
    "    testx_raw = current_static_emg.iloc[test_index].reset_index(drop=True)\n",
    "    testy_raw = current_static_grasp.iloc[test_index].reset_index(drop=True)\n",
    "    \n",
    "    # add overlapping window to train/test data\n",
    "    ## 385 means the overlapping window is 200ms\n",
    "    ## train data\n",
    "\n",
    "    trainx = []\n",
    "    trainy = []\n",
    "    \n",
    "    for a in tqdm(range(385,len(trainx_raw), 96)):\n",
    "        current_row = []\n",
    "        for b in range(0,12):\n",
    "            current_row.append(trainx_raw.iloc[a-385:a+1, b].std())\n",
    "        trainx.append(current_row)\n",
    "        trainy.append(trainy_raw.iloc[a, 0])\n",
    "\n",
    "    ## test data\n",
    "    testx = []\n",
    "    testy = []\n",
    "\n",
    "    for a in tqdm(range(385,len(testx_raw),96)):\n",
    "        current_row = []\n",
    "        for b in range(0,12):\n",
    "            current_row.append(testx_raw.iloc[a-385:a+1,b].std())\n",
    "        testx.append(current_row)\n",
    "        testy.append(testy_raw.iloc[a, 0])"
   ]
  },
  {
   "cell_type": "code",
   "execution_count": 15,
   "id": "ceb53c2f",
   "metadata": {},
   "outputs": [],
   "source": [
    "trainx_df = pd.DataFrame(trainx)\n",
    "trainy_df = pd.DataFrame(trainy)\n",
    "testx_df = pd.DataFrame(testx)\n",
    "testy_df = pd.DataFrame(testy)\n",
    "trainx_df.to_csv('featured_data/step=50ms/'+name+'_trainx.csv')\n",
    "trainy_df.to_csv('featured_data/step=50ms/'+name+'_trainy.csv')\n",
    "testx_df.to_csv('featured_data/step=50ms/'+name+'_testx.csv')\n",
    "testy_df.to_csv('featured_data/step=50ms/'+name+'_testy.csv')"
   ]
  },
  {
   "cell_type": "code",
   "execution_count": 16,
   "id": "2a976d8d",
   "metadata": {},
   "outputs": [
    {
     "data": {
      "text/plain": [
       "LGBMClassifier()"
      ]
     },
     "execution_count": 16,
     "metadata": {},
     "output_type": "execute_result"
    },
    {
     "data": {
      "text/plain": [
       "0.7929190484971418"
      ]
     },
     "execution_count": 16,
     "metadata": {},
     "output_type": "execute_result"
    }
   ],
   "source": [
    "# train/test model\n",
    "lightGBM_model = ltb.LGBMClassifier()\n",
    "lightGBM_model.fit(trainx_df,trainy_df)\n",
    "expected1 = testy_df.values.flatten()\n",
    "predicted1 = lightGBM_model.predict(testx_df)\n",
    "counter = 0\n",
    "for i in range(0, len(expected1)):\n",
    "    if expected1[i] == predicted1[i]:\n",
    "        counter += 1\n",
    "\n",
    "accuracy1 = counter/len(expected1)\n",
    "accuracy1"
   ]
  },
  {
   "cell_type": "markdown",
   "id": "ac3ce04c",
   "metadata": {},
   "source": [
    "## RMS--Root Mean Square"
   ]
  },
  {
   "cell_type": "code",
   "execution_count": null,
   "id": "e94b94af",
   "metadata": {},
   "outputs": [],
   "source": [
    "def rms(self):\n",
    "    current =0\n",
    "    square =0\n",
    "    for i in range(0, len(self)):\n",
    "        current = self.iloc[i]\n",
    "        square += current ** 2\n",
    "    mean = square/len(self)\n",
    "    root = math.sqrt(mean)\n",
    "    return root"
   ]
  },
  {
   "cell_type": "code",
   "execution_count": null,
   "id": "3e4fd3ac",
   "metadata": {},
   "outputs": [],
   "source": [
    "# index variable\n",
    "'''change name, features'''\n",
    "name = 'RMS'\n",
    "\n",
    "# start\n",
    "for i in tqdm(range(10,10+subject_number)):\n",
    "    # read csv files\n",
    "    current_emg = pd.read_csv('data_all_intact/S0' + str(i) + '_emg.csv', header=None)\n",
    "    current_grasp = pd.read_csv('data_all_intact/S0' + str(i) + '_grasp.csv', header=None)\n",
    "    current_grasprepetition = pd.read_csv('data_all_intact/S0' + str(i) + '_grasprepetition.csv', header=None)\n",
    "    \n",
    "    current_static_emg = current_emg.iloc[0:static_end[i-10]]\n",
    "    current_static_grasp = current_grasp.iloc[0:static_end[i-10]]\n",
    "    current_static_grasprepetition = current_grasprepetition.iloc[0:static_end[i-10]]\n",
    "    \n",
    "    # find raw train/test data\n",
    "    train_index = []\n",
    "    test_index = []\n",
    "    for j in tqdm(range(len(current_static_grasprepetition))):\n",
    "        if current_static_grasprepetition.iloc[j,0] in [1,2,3,4,5,6,7,8,9]:\n",
    "            train_index.append(j)\n",
    "        if current_static_grasprepetition.iloc[j,0] in [10,11,12]:\n",
    "            test_index.append(j)\n",
    "    \n",
    "    trainx_raw = current_static_emg.iloc[train_index].reset_index(drop=True)\n",
    "    trainy_raw = current_static_grasp.iloc[train_index].reset_index(drop=True)\n",
    "\n",
    "    testx_raw = current_static_emg.iloc[test_index].reset_index(drop=True)\n",
    "    testy_raw = current_static_grasp.iloc[test_index].reset_index(drop=True)\n",
    "    \n",
    "    # add overlapping window to train/test data\n",
    "    ## 385 means the overlapping window is 200ms\n",
    "    ## train data\n",
    "\n",
    "    trainx = []\n",
    "    trainy = []\n",
    "    \n",
    "    for a in tqdm(range(385,len(trainx_raw), 96)):\n",
    "        current_row = []\n",
    "        for b in range(0,12):\n",
    "            current_row.append(rms(trainx_raw.iloc[a-385:a+1, b]))\n",
    "        trainx.append(current_row)\n",
    "        trainy.append(trainy_raw.iloc[a, 0])\n",
    "\n",
    "    ## test data\n",
    "    testx = []\n",
    "    testy = []\n",
    "\n",
    "    for a in tqdm(range(385,len(testx_raw),96)):\n",
    "        current_row = []\n",
    "        for b in range(0,12):\n",
    "            current_row.append(rms(testx_raw.iloc[a-385:a+1,b]))\n",
    "        testx.append(current_row)\n",
    "        testy.append(testy_raw.iloc[a, 0])"
   ]
  },
  {
   "cell_type": "code",
   "execution_count": null,
   "id": "6ffc773f",
   "metadata": {},
   "outputs": [],
   "source": [
    "trainx_df = pd.DataFrame(trainx)\n",
    "trainy_df = pd.DataFrame(trainy)\n",
    "testx_df = pd.DataFrame(testx)\n",
    "testy_df = pd.DataFrame(testy)\n",
    "trainx_df.to_csv('featured_data/step=50ms/'+name+'_trainx.csv')\n",
    "trainy_df.to_csv('featured_data/step=50ms/'+name+'_trainy.csv')\n",
    "testx_df.to_csv('featured_data/step=50ms/'+name+'_testx.csv')\n",
    "testy_df.to_csv('featured_data/step=50ms/'+name+'_testy.csv')"
   ]
  },
  {
   "cell_type": "markdown",
   "id": "1a073765",
   "metadata": {},
   "source": [
    "## IEMG--Integrated EMG"
   ]
  },
  {
   "cell_type": "code",
   "execution_count": null,
   "id": "4474fff9",
   "metadata": {},
   "outputs": [],
   "source": [
    "def iemg(self):\n",
    "    current =0\n",
    "    absolute =0\n",
    "    for i in range(0, len(self)):\n",
    "        current = self.iloc[i]\n",
    "        absolute += np.abs(current)\n",
    "    return absolute"
   ]
  },
  {
   "cell_type": "code",
   "execution_count": null,
   "id": "ab694f5e",
   "metadata": {},
   "outputs": [],
   "source": [
    "# index variable\n",
    "'''change name, features'''\n",
    "name = 'IEMG'\n",
    "\n",
    "# start\n",
    "for i in tqdm(range(10,10+subject_number)):\n",
    "    # read csv files\n",
    "    current_emg = pd.read_csv('data_all_intact/S0' + str(i) + '_emg.csv', header=None)\n",
    "    current_grasp = pd.read_csv('data_all_intact/S0' + str(i) + '_grasp.csv', header=None)\n",
    "    current_grasprepetition = pd.read_csv('data_all_intact/S0' + str(i) + '_grasprepetition.csv', header=None)\n",
    "    \n",
    "    current_static_emg = current_emg.iloc[0:static_end[i-10]]\n",
    "    current_static_grasp = current_grasp.iloc[0:static_end[i-10]]\n",
    "    current_static_grasprepetition = current_grasprepetition.iloc[0:static_end[i-10]]\n",
    "    \n",
    "    # find raw train/test data\n",
    "    train_index = []\n",
    "    test_index = []\n",
    "    for j in tqdm(range(len(current_static_grasprepetition))):\n",
    "        if current_static_grasprepetition.iloc[j,0] in [1,2,3,4,5,6,7,8,9]:\n",
    "            train_index.append(j)\n",
    "        if current_static_grasprepetition.iloc[j,0] in [10,11,12]:\n",
    "            test_index.append(j)\n",
    "    \n",
    "    trainx_raw = current_static_emg.iloc[train_index].reset_index(drop=True)\n",
    "    trainy_raw = current_static_grasp.iloc[train_index].reset_index(drop=True)\n",
    "\n",
    "    testx_raw = current_static_emg.iloc[test_index].reset_index(drop=True)\n",
    "    testy_raw = current_static_grasp.iloc[test_index].reset_index(drop=True)\n",
    "    \n",
    "    # add overlapping window to train/test data\n",
    "    ## 385 means the overlapping window is 200ms\n",
    "    ## train data\n",
    "\n",
    "    trainx = []\n",
    "    trainy = []\n",
    "    \n",
    "    for a in tqdm(range(385,len(trainx_raw), 96)):\n",
    "        current_row = []\n",
    "        for b in range(0,12):\n",
    "            current_row.append(iemg(trainx_raw.iloc[a-385:a+1, b]))\n",
    "        trainx.append(current_row)\n",
    "        trainy.append(trainy_raw.iloc[a, 0])\n",
    "\n",
    "    ## test data\n",
    "    testx = []\n",
    "    testy = []\n",
    "\n",
    "    for a in tqdm(range(385,len(testx_raw),96)):\n",
    "        current_row = []\n",
    "        for b in range(0,12):\n",
    "            current_row.append(iemg(testx_raw.iloc[a-385:a+1,b]))\n",
    "        testx.append(current_row)\n",
    "        testy.append(testy_raw.iloc[a, 0])"
   ]
  },
  {
   "cell_type": "code",
   "execution_count": null,
   "id": "ca7e2e6c",
   "metadata": {},
   "outputs": [],
   "source": [
    "trainx_df = pd.DataFrame(trainx)\n",
    "trainy_df = pd.DataFrame(trainy)\n",
    "testx_df = pd.DataFrame(testx)\n",
    "testy_df = pd.DataFrame(testy)\n",
    "trainx_df.to_csv('featured_data/step=50ms/'+name+'_trainx.csv')\n",
    "trainy_df.to_csv('featured_data/step=50ms/'+name+'_trainy.csv')\n",
    "testx_df.to_csv('featured_data/step=50ms/'+name+'_testx.csv')\n",
    "testy_df.to_csv('featured_data/step=50ms/'+name+'_testy.csv')"
   ]
  },
  {
   "cell_type": "markdown",
   "id": "640611e7",
   "metadata": {},
   "source": [
    "## MAV--Mean Absolute Value"
   ]
  },
  {
   "cell_type": "code",
   "execution_count": null,
   "id": "48cae9cc",
   "metadata": {},
   "outputs": [],
   "source": [
    "def mav(self):\n",
    "    current =0\n",
    "    absolute =0\n",
    "    for i in range(0, len(self)):\n",
    "        current = self.iloc[i]\n",
    "        absolute += np.abs(current)\n",
    "    return absolute/len(self)"
   ]
  },
  {
   "cell_type": "code",
   "execution_count": null,
   "id": "a6a7b4f3",
   "metadata": {},
   "outputs": [],
   "source": [
    "# index variable\n",
    "'''change name, features'''\n",
    "name = 'MAV'\n",
    "\n",
    "# start\n",
    "for i in tqdm(range(10,10+subject_number)):\n",
    "    # read csv files\n",
    "    current_emg = pd.read_csv('data_all_intact/S0' + str(i) + '_emg.csv', header=None)\n",
    "    current_grasp = pd.read_csv('data_all_intact/S0' + str(i) + '_grasp.csv', header=None)\n",
    "    current_grasprepetition = pd.read_csv('data_all_intact/S0' + str(i) + '_grasprepetition.csv', header=None)\n",
    "    \n",
    "    current_static_emg = current_emg.iloc[0:static_end[i-10]]\n",
    "    current_static_grasp = current_grasp.iloc[0:static_end[i-10]]\n",
    "    current_static_grasprepetition = current_grasprepetition.iloc[0:static_end[i-10]]\n",
    "    \n",
    "    # find raw train/test data\n",
    "    train_index = []\n",
    "    test_index = []\n",
    "    for j in tqdm(range(len(current_static_grasprepetition))):\n",
    "        if current_static_grasprepetition.iloc[j,0] in [1,2,3,4,5,6,7,8,9]:\n",
    "            train_index.append(j)\n",
    "        if current_static_grasprepetition.iloc[j,0] in [10,11,12]:\n",
    "            test_index.append(j)\n",
    "    \n",
    "    trainx_raw = current_static_emg.iloc[train_index].reset_index(drop=True)\n",
    "    trainy_raw = current_static_grasp.iloc[train_index].reset_index(drop=True)\n",
    "\n",
    "    testx_raw = current_static_emg.iloc[test_index].reset_index(drop=True)\n",
    "    testy_raw = current_static_grasp.iloc[test_index].reset_index(drop=True)\n",
    "    \n",
    "    # add overlapping window to train/test data\n",
    "    ## 385 means the overlapping window is 200ms\n",
    "    ## train data\n",
    "\n",
    "    trainx = []\n",
    "    trainy = []\n",
    "    \n",
    "    for a in tqdm(range(385,len(trainx_raw), 96)):\n",
    "        current_row = []\n",
    "        for b in range(0,12):\n",
    "            current_row.append(mav(trainx_raw.iloc[a-385:a+1, b]))\n",
    "        trainx.append(current_row)\n",
    "        trainy.append(trainy_raw.iloc[a, 0])\n",
    "\n",
    "    ## test data\n",
    "    testx = []\n",
    "    testy = []\n",
    "\n",
    "    for a in tqdm(range(385,len(testx_raw),96)):\n",
    "        current_row = []\n",
    "        for b in range(0,12):\n",
    "            current_row.append(mav(testx_raw.iloc[a-385:a+1,b]))\n",
    "        testx.append(current_row)\n",
    "        testy.append(testy_raw.iloc[a, 0])"
   ]
  },
  {
   "cell_type": "code",
   "execution_count": null,
   "id": "65ea0604",
   "metadata": {},
   "outputs": [],
   "source": [
    "trainx_df = pd.DataFrame(trainx)\n",
    "trainy_df = pd.DataFrame(trainy)\n",
    "testx_df = pd.DataFrame(testx)\n",
    "testy_df = pd.DataFrame(testy)\n",
    "trainx_df.to_csv('featured_data/step=50ms/'+name+'_trainx.csv')\n",
    "trainy_df.to_csv('featured_data/step=50ms/'+name+'_trainy.csv')\n",
    "testx_df.to_csv('featured_data/step=50ms/'+name+'_testx.csv')\n",
    "testy_df.to_csv('featured_data/step=50ms/'+name+'_testy.csv')"
   ]
  },
  {
   "cell_type": "markdown",
   "id": "1fe7fa64",
   "metadata": {},
   "source": [
    "## WL--Waveform Length"
   ]
  },
  {
   "cell_type": "code",
   "execution_count": null,
   "id": "3852e8b1",
   "metadata": {},
   "outputs": [],
   "source": [
    "def wl(self):\n",
    "    current =0\n",
    "    diff =0\n",
    "    for i in range(1, len(self)):\n",
    "        current = self.iloc[i]\n",
    "        diff += np.abs(current - self.iloc[i-1])\n",
    "    return diff"
   ]
  },
  {
   "cell_type": "code",
   "execution_count": null,
   "id": "4c0d255f",
   "metadata": {},
   "outputs": [],
   "source": [
    "# index variable\n",
    "'''change name, features'''\n",
    "name = 'WL'\n",
    "\n",
    "# start\n",
    "for i in tqdm(range(10,10+subject_number)):\n",
    "    # read csv files\n",
    "    current_emg = pd.read_csv('data_all_intact/S0' + str(i) + '_emg.csv', header=None)\n",
    "    current_grasp = pd.read_csv('data_all_intact/S0' + str(i) + '_grasp.csv', header=None)\n",
    "    current_grasprepetition = pd.read_csv('data_all_intact/S0' + str(i) + '_grasprepetition.csv', header=None)\n",
    "    \n",
    "    current_static_emg = current_emg.iloc[0:static_end[i-10]]\n",
    "    current_static_grasp = current_grasp.iloc[0:static_end[i-10]]\n",
    "    current_static_grasprepetition = current_grasprepetition.iloc[0:static_end[i-10]]\n",
    "    \n",
    "    # find raw train/test data\n",
    "    train_index = []\n",
    "    test_index = []\n",
    "    for j in tqdm(range(len(current_static_grasprepetition))):\n",
    "        if current_static_grasprepetition.iloc[j,0] in [1,2,3,4,5,6,7,8,9]:\n",
    "            train_index.append(j)\n",
    "        if current_static_grasprepetition.iloc[j,0] in [10,11,12]:\n",
    "            test_index.append(j)\n",
    "    \n",
    "    trainx_raw = current_static_emg.iloc[train_index].reset_index(drop=True)\n",
    "    trainy_raw = current_static_grasp.iloc[train_index].reset_index(drop=True)\n",
    "\n",
    "    testx_raw = current_static_emg.iloc[test_index].reset_index(drop=True)\n",
    "    testy_raw = current_static_grasp.iloc[test_index].reset_index(drop=True)\n",
    "    \n",
    "    # add overlapping window to train/test data\n",
    "    ## 385 means the overlapping window is 200ms\n",
    "    ## train data\n",
    "\n",
    "    trainx = []\n",
    "    trainy = []\n",
    "    \n",
    "    for a in tqdm(range(385,len(trainx_raw), 96)):\n",
    "        current_row = []\n",
    "        for b in range(0,12):\n",
    "            current_row.append(wl(trainx_raw.iloc[a-385:a+1, b]))\n",
    "        trainx.append(current_row)\n",
    "        trainy.append(trainy_raw.iloc[a, 0])\n",
    "\n",
    "    ## test data\n",
    "    testx = []\n",
    "    testy = []\n",
    "\n",
    "    for a in tqdm(range(385,len(testx_raw),96)):\n",
    "        current_row = []\n",
    "        for b in range(0,12):\n",
    "            current_row.append(wl(testx_raw.iloc[a-385:a+1,b]))\n",
    "        testx.append(current_row)\n",
    "        testy.append(testy_raw.iloc[a, 0])"
   ]
  },
  {
   "cell_type": "code",
   "execution_count": null,
   "id": "2442abbd",
   "metadata": {},
   "outputs": [],
   "source": [
    "trainx_df = pd.DataFrame(trainx)\n",
    "trainy_df = pd.DataFrame(trainy)\n",
    "testx_df = pd.DataFrame(testx)\n",
    "testy_df = pd.DataFrame(testy)\n",
    "trainx_df.to_csv('featured_data/step=50ms/'+name+'_trainx.csv')\n",
    "trainy_df.to_csv('featured_data/step=50ms/'+name+'_trainy.csv')\n",
    "testx_df.to_csv('featured_data/step=50ms/'+name+'_testx.csv')\n",
    "testy_df.to_csv('featured_data/step=50ms/'+name+'_testy.csv')"
   ]
  },
  {
   "cell_type": "markdown",
   "id": "17f9d5fd",
   "metadata": {},
   "source": [
    "## LOG--Log Detector"
   ]
  },
  {
   "cell_type": "code",
   "execution_count": null,
   "id": "11f53de8",
   "metadata": {},
   "outputs": [],
   "source": [
    "def log(self):\n",
    "    current =0\n",
    "    ln = 0\n",
    "    for i in range(0, len(self)):\n",
    "        current = self.iloc[i]\n",
    "        ln += np.log(np.abs(current))\n",
    "    return np.exp(ln/len(self))"
   ]
  },
  {
   "cell_type": "code",
   "execution_count": null,
   "id": "ec9e99d3",
   "metadata": {},
   "outputs": [],
   "source": [
    "# index variable\n",
    "'''change name, features'''\n",
    "name = 'LOG'\n",
    "\n",
    "# start\n",
    "for i in tqdm(range(10,10+subject_number)):\n",
    "    # read csv files\n",
    "    current_emg = pd.read_csv('data_all_intact/S0' + str(i) + '_emg.csv', header=None)\n",
    "    current_grasp = pd.read_csv('data_all_intact/S0' + str(i) + '_grasp.csv', header=None)\n",
    "    current_grasprepetition = pd.read_csv('data_all_intact/S0' + str(i) + '_grasprepetition.csv', header=None)\n",
    "    \n",
    "    current_static_emg = current_emg.iloc[0:static_end[i-10]]\n",
    "    current_static_grasp = current_grasp.iloc[0:static_end[i-10]]\n",
    "    current_static_grasprepetition = current_grasprepetition.iloc[0:static_end[i-10]]\n",
    "    \n",
    "    # find raw train/test data\n",
    "    train_index = []\n",
    "    test_index = []\n",
    "    for j in tqdm(range(len(current_static_grasprepetition))):\n",
    "        if current_static_grasprepetition.iloc[j,0] in [1,2,3,4,5,6,7,8,9]:\n",
    "            train_index.append(j)\n",
    "        if current_static_grasprepetition.iloc[j,0] in [10,11,12]:\n",
    "            test_index.append(j)\n",
    "    \n",
    "    trainx_raw = current_static_emg.iloc[train_index].reset_index(drop=True)\n",
    "    trainy_raw = current_static_grasp.iloc[train_index].reset_index(drop=True)\n",
    "\n",
    "    testx_raw = current_static_emg.iloc[test_index].reset_index(drop=True)\n",
    "    testy_raw = current_static_grasp.iloc[test_index].reset_index(drop=True)\n",
    "    \n",
    "    # add overlapping window to train/test data\n",
    "    ## 385 means the overlapping window is 200ms\n",
    "    ## train data\n",
    "\n",
    "    trainx = []\n",
    "    trainy = []\n",
    "    \n",
    "    for a in tqdm(range(385,len(trainx_raw), 96)):\n",
    "        current_row = []\n",
    "        for b in range(0,12):\n",
    "            current_row.append(log(trainx_raw.iloc[a-385:a+1, b]))\n",
    "        trainx.append(current_row)\n",
    "        trainy.append(trainy_raw.iloc[a, 0])\n",
    "\n",
    "    ## test data\n",
    "    testx = []\n",
    "    testy = []\n",
    "\n",
    "    for a in tqdm(range(385,len(testx_raw),96)):\n",
    "        current_row = []\n",
    "        for b in range(0,12):\n",
    "            current_row.append(log(testx_raw.iloc[a-385:a+1,b]))\n",
    "        testx.append(current_row)\n",
    "        testy.append(testy_raw.iloc[a, 0])"
   ]
  },
  {
   "cell_type": "code",
   "execution_count": null,
   "id": "60ee343d",
   "metadata": {},
   "outputs": [],
   "source": [
    "trainx_df = pd.DataFrame(trainx)\n",
    "trainy_df = pd.DataFrame(trainy)\n",
    "testx_df = pd.DataFrame(testx)\n",
    "testy_df = pd.DataFrame(testy)\n",
    "trainx_df.to_csv('featured_data/step=50ms/'+name+'_trainx.csv')\n",
    "trainy_df.to_csv('featured_data/step=50ms/'+name+'_trainy.csv')\n",
    "testx_df.to_csv('featured_data/step=50ms/'+name+'_testx.csv')\n",
    "testy_df.to_csv('featured_data/step=50ms/'+name+'_testy.csv')"
   ]
  },
  {
   "cell_type": "markdown",
   "id": "2facbeaf",
   "metadata": {},
   "source": [
    "## SSI--Simple Square Integral"
   ]
  },
  {
   "cell_type": "code",
   "execution_count": null,
   "id": "4fcb0b51",
   "metadata": {},
   "outputs": [],
   "source": [
    "def ssi(self):\n",
    "    current =0\n",
    "    square = 0\n",
    "    for i in range(0, len(self)):\n",
    "        current = self.iloc[i]\n",
    "        square += current ** 2\n",
    "    return square"
   ]
  },
  {
   "cell_type": "code",
   "execution_count": null,
   "id": "80eb6629",
   "metadata": {},
   "outputs": [],
   "source": [
    "# index variable\n",
    "'''change name, features'''\n",
    "name = 'SSI'\n",
    "\n",
    "# start\n",
    "for i in tqdm(range(10,10+subject_number)):\n",
    "    # read csv files\n",
    "    current_emg = pd.read_csv('data_all_intact/S0' + str(i) + '_emg.csv', header=None)\n",
    "    current_grasp = pd.read_csv('data_all_intact/S0' + str(i) + '_grasp.csv', header=None)\n",
    "    current_grasprepetition = pd.read_csv('data_all_intact/S0' + str(i) + '_grasprepetition.csv', header=None)\n",
    "    \n",
    "    current_static_emg = current_emg.iloc[0:static_end[i-10]]\n",
    "    current_static_grasp = current_grasp.iloc[0:static_end[i-10]]\n",
    "    current_static_grasprepetition = current_grasprepetition.iloc[0:static_end[i-10]]\n",
    "    \n",
    "    # find raw train/test data\n",
    "    train_index = []\n",
    "    test_index = []\n",
    "    for j in tqdm(range(len(current_static_grasprepetition))):\n",
    "        if current_static_grasprepetition.iloc[j,0] in [1,2,3,4,5,6,7,8,9]:\n",
    "            train_index.append(j)\n",
    "        if current_static_grasprepetition.iloc[j,0] in [10,11,12]:\n",
    "            test_index.append(j)\n",
    "    \n",
    "    trainx_raw = current_static_emg.iloc[train_index].reset_index(drop=True)\n",
    "    trainy_raw = current_static_grasp.iloc[train_index].reset_index(drop=True)\n",
    "\n",
    "    testx_raw = current_static_emg.iloc[test_index].reset_index(drop=True)\n",
    "    testy_raw = current_static_grasp.iloc[test_index].reset_index(drop=True)\n",
    "    \n",
    "    # add overlapping window to train/test data\n",
    "    ## 385 means the overlapping window is 200ms\n",
    "    ## train data\n",
    "\n",
    "    trainx = []\n",
    "    trainy = []\n",
    "    \n",
    "    for a in tqdm(range(385,len(trainx_raw), 96)):\n",
    "        current_row = []\n",
    "        for b in range(0,12):\n",
    "            current_row.append(ssi(trainx_raw.iloc[a-385:a+1, b]))\n",
    "        trainx.append(current_row)\n",
    "        trainy.append(trainy_raw.iloc[a, 0])\n",
    "\n",
    "    ## test data\n",
    "    testx = []\n",
    "    testy = []\n",
    "\n",
    "    for a in tqdm(range(385,len(testx_raw),96)):\n",
    "        current_row = []\n",
    "        for b in range(0,12):\n",
    "            current_row.append(ssi(testx_raw.iloc[a-385:a+1,b]))\n",
    "        testx.append(current_row)\n",
    "        testy.append(testy_raw.iloc[a, 0])"
   ]
  },
  {
   "cell_type": "code",
   "execution_count": null,
   "id": "94403ef2",
   "metadata": {},
   "outputs": [],
   "source": [
    "trainx_df = pd.DataFrame(trainx)\n",
    "trainy_df = pd.DataFrame(trainy)\n",
    "testx_df = pd.DataFrame(testx)\n",
    "testy_df = pd.DataFrame(testy)\n",
    "trainx_df.to_csv('featured_data/step=50ms/'+name+'_trainx.csv')\n",
    "trainy_df.to_csv('featured_data/step=50ms/'+name+'_trainy.csv')\n",
    "testx_df.to_csv('featured_data/step=50ms/'+name+'_testx.csv')\n",
    "testy_df.to_csv('featured_data/step=50ms/'+name+'_testy.csv')"
   ]
  },
  {
   "cell_type": "markdown",
   "id": "f6b740ca",
   "metadata": {},
   "source": [
    "## SKW--Skewness"
   ]
  },
  {
   "cell_type": "code",
   "execution_count": null,
   "id": "f6ae7ed6",
   "metadata": {},
   "outputs": [],
   "source": [
    "def skw(self):\n",
    "    current =0\n",
    "    result_sum = 0\n",
    "    for i in range(0, len(self)):\n",
    "        current = self.iloc[i]\n",
    "        result_sum += (current-self.mean())**3/len(self)/self.std()**3\n",
    "    return result_sum"
   ]
  },
  {
   "cell_type": "code",
   "execution_count": null,
   "id": "bd1724a5",
   "metadata": {},
   "outputs": [],
   "source": [
    "# index variable\n",
    "'''change name, features'''\n",
    "name = 'SKW'\n",
    "\n",
    "# start\n",
    "for i in tqdm(range(10,10+subject_number)):\n",
    "    # read csv files\n",
    "    current_emg = pd.read_csv('data_all_intact/S0' + str(i) + '_emg.csv', header=None)\n",
    "    current_grasp = pd.read_csv('data_all_intact/S0' + str(i) + '_grasp.csv', header=None)\n",
    "    current_grasprepetition = pd.read_csv('data_all_intact/S0' + str(i) + '_grasprepetition.csv', header=None)\n",
    "    \n",
    "    current_static_emg = current_emg.iloc[0:static_end[i-10]]\n",
    "    current_static_grasp = current_grasp.iloc[0:static_end[i-10]]\n",
    "    current_static_grasprepetition = current_grasprepetition.iloc[0:static_end[i-10]]\n",
    "    \n",
    "    # find raw train/test data\n",
    "    train_index = []\n",
    "    test_index = []\n",
    "    for j in tqdm(range(len(current_static_grasprepetition))):\n",
    "        if current_static_grasprepetition.iloc[j,0] in [1,2,3,4,5,6,7,8,9]:\n",
    "            train_index.append(j)\n",
    "        if current_static_grasprepetition.iloc[j,0] in [10,11,12]:\n",
    "            test_index.append(j)\n",
    "    \n",
    "    trainx_raw = current_static_emg.iloc[train_index].reset_index(drop=True)\n",
    "    trainy_raw = current_static_grasp.iloc[train_index].reset_index(drop=True)\n",
    "\n",
    "    testx_raw = current_static_emg.iloc[test_index].reset_index(drop=True)\n",
    "    testy_raw = current_static_grasp.iloc[test_index].reset_index(drop=True)\n",
    "    \n",
    "    # add overlapping window to train/test data\n",
    "    ## 385 means the overlapping window is 200ms\n",
    "    ## train data\n",
    "\n",
    "    trainx = []\n",
    "    trainy = []\n",
    "    \n",
    "    for a in tqdm(range(385,len(trainx_raw), 96)):\n",
    "        current_row = []\n",
    "        for b in range(0,12):\n",
    "            current_row.append(skw(trainx_raw.iloc[a-385:a+1, b]))\n",
    "        trainx.append(current_row)\n",
    "        trainy.append(trainy_raw.iloc[a, 0])\n",
    "\n",
    "    ## test data\n",
    "    testx = []\n",
    "    testy = []\n",
    "\n",
    "    for a in tqdm(range(385,len(testx_raw),96)):\n",
    "        current_row = []\n",
    "        for b in range(0,12):\n",
    "            current_row.append(skw(testx_raw.iloc[a-385:a+1,b]))\n",
    "        testx.append(current_row)\n",
    "        testy.append(testy_raw.iloc[a, 0])"
   ]
  },
  {
   "cell_type": "code",
   "execution_count": null,
   "id": "d50fe3ae",
   "metadata": {},
   "outputs": [],
   "source": [
    "trainx_df = pd.DataFrame(trainx)\n",
    "trainy_df = pd.DataFrame(trainy)\n",
    "testx_df = pd.DataFrame(testx)\n",
    "testy_df = pd.DataFrame(testy)\n",
    "trainx_df.to_csv('featured_data/step=50ms/'+name+'_trainx.csv')\n",
    "trainy_df.to_csv('featured_data/step=50ms/'+name+'_trainy.csv')\n",
    "testx_df.to_csv('featured_data/step=50ms/'+name+'_testx.csv')\n",
    "testy_df.to_csv('featured_data/step=50ms/'+name+'_testy.csv')"
   ]
  },
  {
   "cell_type": "markdown",
   "id": "ed1076d3",
   "metadata": {},
   "source": [
    "## KURT--Kurtosis"
   ]
  },
  {
   "cell_type": "code",
   "execution_count": null,
   "id": "3d97326a",
   "metadata": {},
   "outputs": [],
   "source": [
    "def kurt(self):\n",
    "    current =0\n",
    "    result_sum = 0\n",
    "    for i in range(0, len(self)):\n",
    "        current = self.iloc[i]\n",
    "        result_sum += (current-self.mean())**4/len(self)/self.std()**4\n",
    "    return result_sum"
   ]
  },
  {
   "cell_type": "code",
   "execution_count": null,
   "id": "993338e7",
   "metadata": {},
   "outputs": [],
   "source": [
    "# index variable\n",
    "'''change name, features'''\n",
    "name = 'KURT'\n",
    "\n",
    "# start\n",
    "for i in tqdm(range(10,10+subject_number)):\n",
    "    # read csv files\n",
    "    current_emg = pd.read_csv('data_all_intact/S0' + str(i) + '_emg.csv', header=None)\n",
    "    current_grasp = pd.read_csv('data_all_intact/S0' + str(i) + '_grasp.csv', header=None)\n",
    "    current_grasprepetition = pd.read_csv('data_all_intact/S0' + str(i) + '_grasprepetition.csv', header=None)\n",
    "    \n",
    "    current_static_emg = current_emg.iloc[0:static_end[i-10]]\n",
    "    current_static_grasp = current_grasp.iloc[0:static_end[i-10]]\n",
    "    current_static_grasprepetition = current_grasprepetition.iloc[0:static_end[i-10]]\n",
    "    \n",
    "    # find raw train/test data\n",
    "    train_index = []\n",
    "    test_index = []\n",
    "    for j in tqdm(range(len(current_static_grasprepetition))):\n",
    "        if current_static_grasprepetition.iloc[j,0] in [1,2,3,4,5,6,7,8,9]:\n",
    "            train_index.append(j)\n",
    "        if current_static_grasprepetition.iloc[j,0] in [10,11,12]:\n",
    "            test_index.append(j)\n",
    "    \n",
    "    trainx_raw = current_static_emg.iloc[train_index].reset_index(drop=True)\n",
    "    trainy_raw = current_static_grasp.iloc[train_index].reset_index(drop=True)\n",
    "\n",
    "    testx_raw = current_static_emg.iloc[test_index].reset_index(drop=True)\n",
    "    testy_raw = current_static_grasp.iloc[test_index].reset_index(drop=True)\n",
    "    \n",
    "    # add overlapping window to train/test data\n",
    "    ## 385 means the overlapping window is 200ms\n",
    "    ## train data\n",
    "\n",
    "    trainx = []\n",
    "    trainy = []\n",
    "    \n",
    "    for a in tqdm(range(385,len(trainx_raw), 96)):\n",
    "        current_row = []\n",
    "        for b in range(0,12):\n",
    "            current_row.append(kurt(trainx_raw.iloc[a-385:a+1, b]))\n",
    "        trainx.append(current_row)\n",
    "        trainy.append(trainy_raw.iloc[a, 0])\n",
    "\n",
    "    ## test data\n",
    "    testx = []\n",
    "    testy = []\n",
    "\n",
    "    for a in tqdm(range(385,len(testx_raw),96)):\n",
    "        current_row = []\n",
    "        for b in range(0,12):\n",
    "            current_row.append(kurt(testx_raw.iloc[a-385:a+1,b]))\n",
    "        testx.append(current_row)\n",
    "        testy.append(testy_raw.iloc[a, 0])"
   ]
  },
  {
   "cell_type": "code",
   "execution_count": null,
   "id": "d3002578",
   "metadata": {},
   "outputs": [],
   "source": [
    "trainx_df = pd.DataFrame(trainx)\n",
    "trainy_df = pd.DataFrame(trainy)\n",
    "testx_df = pd.DataFrame(testx)\n",
    "testy_df = pd.DataFrame(testy)\n",
    "trainx_df.to_csv('featured_data/step=50ms/'+name+'_trainx.csv')\n",
    "trainy_df.to_csv('featured_data/step=50ms/'+name+'_trainy.csv')\n",
    "testx_df.to_csv('featured_data/step=50ms/'+name+'_testx.csv')\n",
    "testy_df.to_csv('featured_data/step=50ms/'+name+'_testy.csv')"
   ]
  },
  {
   "cell_type": "markdown",
   "id": "7d8d0461",
   "metadata": {},
   "source": [
    "## AAC--Average Amplitude Change"
   ]
  },
  {
   "cell_type": "code",
   "execution_count": null,
   "id": "2db6e554",
   "metadata": {},
   "outputs": [],
   "source": [
    "def aac(self):\n",
    "    current =0\n",
    "    diff =0\n",
    "    for i in range(1, len(self)):\n",
    "        current = self.iloc[i]\n",
    "        diff += np.abs(current - self.iloc[i-1])\n",
    "    return diff/len(self)"
   ]
  },
  {
   "cell_type": "code",
   "execution_count": null,
   "id": "29fb8710",
   "metadata": {},
   "outputs": [],
   "source": [
    "# index variable\n",
    "'''change name, features'''\n",
    "name = 'AAC'\n",
    "\n",
    "# start\n",
    "for i in tqdm(range(10,10+subject_number)):\n",
    "    # read csv files\n",
    "    current_emg = pd.read_csv('data_all_intact/S0' + str(i) + '_emg.csv', header=None)\n",
    "    current_grasp = pd.read_csv('data_all_intact/S0' + str(i) + '_grasp.csv', header=None)\n",
    "    current_grasprepetition = pd.read_csv('data_all_intact/S0' + str(i) + '_grasprepetition.csv', header=None)\n",
    "    \n",
    "    current_static_emg = current_emg.iloc[0:static_end[i-10]]\n",
    "    current_static_grasp = current_grasp.iloc[0:static_end[i-10]]\n",
    "    current_static_grasprepetition = current_grasprepetition.iloc[0:static_end[i-10]]\n",
    "    \n",
    "    # find raw train/test data\n",
    "    train_index = []\n",
    "    test_index = []\n",
    "    for j in tqdm(range(len(current_static_grasprepetition))):\n",
    "        if current_static_grasprepetition.iloc[j,0] in [1,2,3,4,5,6,7,8,9]:\n",
    "            train_index.append(j)\n",
    "        if current_static_grasprepetition.iloc[j,0] in [10,11,12]:\n",
    "            test_index.append(j)\n",
    "    \n",
    "    trainx_raw = current_static_emg.iloc[train_index].reset_index(drop=True)\n",
    "    trainy_raw = current_static_grasp.iloc[train_index].reset_index(drop=True)\n",
    "\n",
    "    testx_raw = current_static_emg.iloc[test_index].reset_index(drop=True)\n",
    "    testy_raw = current_static_grasp.iloc[test_index].reset_index(drop=True)\n",
    "    \n",
    "    # add overlapping window to train/test data\n",
    "    ## 385 means the overlapping window is 200ms\n",
    "    ## train data\n",
    "\n",
    "    trainx = []\n",
    "    trainy = []\n",
    "    \n",
    "    for a in tqdm(range(385,len(trainx_raw), 96)):\n",
    "        current_row = []\n",
    "        for b in range(0,12):\n",
    "            current_row.append(aac(trainx_raw.iloc[a-385:a+1, b]))\n",
    "        trainx.append(current_row)\n",
    "        trainy.append(trainy_raw.iloc[a, 0])\n",
    "\n",
    "    ## test data\n",
    "    testx = []\n",
    "    testy = []\n",
    "\n",
    "    for a in tqdm(range(385,len(testx_raw),96)):\n",
    "        current_row = []\n",
    "        for b in range(0,12):\n",
    "            current_row.append(aac(testx_raw.iloc[a-385:a+1,b]))\n",
    "        testx.append(current_row)\n",
    "        testy.append(testy_raw.iloc[a, 0])"
   ]
  },
  {
   "cell_type": "code",
   "execution_count": null,
   "id": "c930c9fb",
   "metadata": {},
   "outputs": [],
   "source": [
    "trainx_df = pd.DataFrame(trainx)\n",
    "trainy_df = pd.DataFrame(trainy)\n",
    "testx_df = pd.DataFrame(testx)\n",
    "testy_df = pd.DataFrame(testy)\n",
    "trainx_df.to_csv('featured_data/step=50ms/'+name+'_trainx.csv')\n",
    "trainy_df.to_csv('featured_data/step=50ms/'+name+'_trainy.csv')\n",
    "testx_df.to_csv('featured_data/step=50ms/'+name+'_testx.csv')\n",
    "testy_df.to_csv('featured_data/step=50ms/'+name+'_testy.csv')"
   ]
  },
  {
   "cell_type": "markdown",
   "id": "23075de9",
   "metadata": {},
   "source": [
    "## DASDV--Difference Absolute Standard Deviation Value"
   ]
  },
  {
   "cell_type": "code",
   "execution_count": null,
   "id": "13b5142e",
   "metadata": {},
   "outputs": [],
   "source": [
    "def dasdv(self):\n",
    "    current =0\n",
    "    square =0\n",
    "    for i in range(1, len(self)):\n",
    "        current = self.iloc[i]\n",
    "        square += (current - self.iloc[i-1])**2\n",
    "    return square/(len(self)-1)"
   ]
  },
  {
   "cell_type": "code",
   "execution_count": null,
   "id": "801d74f8",
   "metadata": {},
   "outputs": [],
   "source": [
    "# index variable\n",
    "'''change name, features'''\n",
    "name = 'DASDV'\n",
    "\n",
    "# start\n",
    "for i in tqdm(range(10,10+subject_number)):\n",
    "    # read csv files\n",
    "    current_emg = pd.read_csv('data_all_intact/S0' + str(i) + '_emg.csv', header=None)\n",
    "    current_grasp = pd.read_csv('data_all_intact/S0' + str(i) + '_grasp.csv', header=None)\n",
    "    current_grasprepetition = pd.read_csv('data_all_intact/S0' + str(i) + '_grasprepetition.csv', header=None)\n",
    "    \n",
    "    current_static_emg = current_emg.iloc[0:static_end[i-10]]\n",
    "    current_static_grasp = current_grasp.iloc[0:static_end[i-10]]\n",
    "    current_static_grasprepetition = current_grasprepetition.iloc[0:static_end[i-10]]\n",
    "    \n",
    "    # find raw train/test data\n",
    "    train_index = []\n",
    "    test_index = []\n",
    "    for j in tqdm(range(len(current_static_grasprepetition))):\n",
    "        if current_static_grasprepetition.iloc[j,0] in [1,2,3,4,5,6,7,8,9]:\n",
    "            train_index.append(j)\n",
    "        if current_static_grasprepetition.iloc[j,0] in [10,11,12]:\n",
    "            test_index.append(j)\n",
    "    \n",
    "    trainx_raw = current_static_emg.iloc[train_index].reset_index(drop=True)\n",
    "    trainy_raw = current_static_grasp.iloc[train_index].reset_index(drop=True)\n",
    "\n",
    "    testx_raw = current_static_emg.iloc[test_index].reset_index(drop=True)\n",
    "    testy_raw = current_static_grasp.iloc[test_index].reset_index(drop=True)\n",
    "    \n",
    "    # add overlapping window to train/test data\n",
    "    ## 385 means the overlapping window is 200ms\n",
    "    ## train data\n",
    "\n",
    "    trainx = []\n",
    "    trainy = []\n",
    "    \n",
    "    for a in tqdm(range(385,len(trainx_raw), 96)):\n",
    "        current_row = []\n",
    "        for b in range(0,12):\n",
    "            current_row.append(dasdv(trainx_raw.iloc[a-385:a+1, b]))\n",
    "        trainx.append(current_row)\n",
    "        trainy.append(trainy_raw.iloc[a, 0])\n",
    "\n",
    "    ## test data\n",
    "    testx = []\n",
    "    testy = []\n",
    "\n",
    "    for a in tqdm(range(385,len(testx_raw),96)):\n",
    "        current_row = []\n",
    "        for b in range(0,12):\n",
    "            current_row.append(dasdv(testx_raw.iloc[a-385:a+1,b]))\n",
    "        testx.append(current_row)\n",
    "        testy.append(testy_raw.iloc[a, 0])"
   ]
  },
  {
   "cell_type": "code",
   "execution_count": null,
   "id": "12c5ebae",
   "metadata": {},
   "outputs": [],
   "source": [
    "trainx_df = pd.DataFrame(trainx)\n",
    "trainy_df = pd.DataFrame(trainy)\n",
    "testx_df = pd.DataFrame(testx)\n",
    "testy_df = pd.DataFrame(testy)\n",
    "trainx_df.to_csv('featured_data/step=50ms/'+name+'_trainx.csv')\n",
    "trainy_df.to_csv('featured_data/step=50ms/'+name+'_trainy.csv')\n",
    "testx_df.to_csv('featured_data/step=50ms/'+name+'_testx.csv')\n",
    "testy_df.to_csv('featured_data/step=50ms/'+name+'_testy.csv')"
   ]
  },
  {
   "cell_type": "code",
   "execution_count": null,
   "id": "d1ac59bc",
   "metadata": {},
   "outputs": [],
   "source": []
  },
  {
   "cell_type": "code",
   "execution_count": null,
   "id": "456feff6",
   "metadata": {},
   "outputs": [],
   "source": []
  },
  {
   "cell_type": "code",
   "execution_count": null,
   "id": "f0144bcb",
   "metadata": {},
   "outputs": [],
   "source": []
  }
 ],
 "metadata": {
  "kernelspec": {
   "display_name": "Python 3",
   "language": "python",
   "name": "python3"
  },
  "language_info": {
   "codemirror_mode": {
    "name": "ipython",
    "version": 3
   },
   "file_extension": ".py",
   "mimetype": "text/x-python",
   "name": "python",
   "nbconvert_exporter": "python",
   "pygments_lexer": "ipython3",
   "version": "3.8.2"
  }
 },
 "nbformat": 4,
 "nbformat_minor": 5
}
