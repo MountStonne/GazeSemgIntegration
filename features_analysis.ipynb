{
  "nbformat": 4,
  "nbformat_minor": 0,
  "metadata": {
    "kernelspec": {
      "display_name": "Python 3",
      "language": "python",
      "name": "python3"
    },
    "language_info": {
      "codemirror_mode": {
        "name": "ipython",
        "version": 3
      },
      "file_extension": ".py",
      "mimetype": "text/x-python",
      "name": "python",
      "nbconvert_exporter": "python",
      "pygments_lexer": "ipython3",
      "version": "3.8.3"
    },
    "colab": {
      "name": "features_analysis.ipynb",
      "provenance": [],
      "include_colab_link": true
    }
  },
  "cells": [
    {
      "cell_type": "markdown",
      "metadata": {
        "id": "view-in-github",
        "colab_type": "text"
      },
      "source": [
        "<a href=\"https://colab.research.google.com/github/MountStonne/GazeSemgIntegration/blob/main/features_analysis.ipynb\" target=\"_parent\"><img src=\"https://colab.research.google.com/assets/colab-badge.svg\" alt=\"Open In Colab\"/></a>"
      ]
    },
    {
      "cell_type": "code",
      "metadata": {
        "id": "evCjyE98j19N"
      },
      "source": [
        "from IPython.core.interactiveshell import InteractiveShell\n",
        "InteractiveShell.ast_node_interactivity = \"all\"\n",
        "import numpy as np\n",
        "import pandas as pd\n",
        "import matplotlib.pyplot as plt\n",
        "from tqdm.notebook import tqdm\n",
        "from sklearn.svm import LinearSVC,SVC\n",
        "from sklearn.neighbors import KNeighborsClassifier\n",
        "import lightgbm as ltb\n",
        "from sklearn.neural_network import MLPClassifier\n",
        "from copy import deepcopy\n",
        "import warnings\n",
        "import math\n",
        "\n",
        "\n",
        "from IPython.core.interactiveshell import InteractiveShell\n",
        "InteractiveShell.ast_node_interactivity = \"all\"\n",
        "\n",
        "warnings.filterwarnings('ignore')"
      ],
      "execution_count": null,
      "outputs": []
    },
    {
      "cell_type": "markdown",
      "metadata": {
        "id": "WVxWK-npj19V"
      },
      "source": [
        "# Index variables"
      ]
    },
    {
      "cell_type": "code",
      "metadata": {
        "id": "ZzIvfiBFj19V"
      },
      "source": [
        "subject_number = 1"
      ],
      "execution_count": null,
      "outputs": []
    },
    {
      "cell_type": "markdown",
      "metadata": {
        "id": "PGT4hpiFj19W"
      },
      "source": [
        "# Find where the static data end from data file 'SXXX_dynamic.csv'"
      ]
    },
    {
      "cell_type": "code",
      "metadata": {
        "id": "xNCRoSuHj19W",
        "colab": {
          "referenced_widgets": [
            "d8a71c0f2b8e44e09ad003eaccbd265e"
          ]
        },
        "outputId": "c97a0a2a-aa60-4933-d475-26ab11f83180"
      },
      "source": [
        "static_end = []\n",
        "\n",
        "for i in tqdm(range(10,10+subject_number)):\n",
        "    current_dynamic = pd.read_csv('data_all_intact/S0' + str(i) + '_dynamic.csv', header=None)\n",
        "\n",
        "    for j in range(len(current_dynamic)-1, -1, -1):\n",
        "        if current_dynamic.iloc[j,0] == 0:\n",
        "            static_end.append(j)\n",
        "            break\n",
        "    "
      ],
      "execution_count": null,
      "outputs": [
        {
          "output_type": "display_data",
          "data": {
            "application/vnd.jupyter.widget-view+json": {
              "model_id": "d8a71c0f2b8e44e09ad003eaccbd265e",
              "version_major": 2,
              "version_minor": 0
            },
            "text/plain": [
              "HBox(children=(FloatProgress(value=0.0, max=1.0), HTML(value='')))"
            ]
          },
          "metadata": {
            "tags": []
          }
        },
        {
          "output_type": "stream",
          "text": [
            "\n"
          ],
          "name": "stdout"
        }
      ]
    },
    {
      "cell_type": "code",
      "metadata": {
        "id": "V__nY3vrj19X",
        "outputId": "20943b01-b40b-4ec7-ebab-7719c4557aa9"
      },
      "source": [
        "static_end"
      ],
      "execution_count": null,
      "outputs": [
        {
          "output_type": "execute_result",
          "data": {
            "text/plain": [
              "[5413137]"
            ]
          },
          "metadata": {
            "tags": []
          },
          "execution_count": 32
        }
      ]
    },
    {
      "cell_type": "markdown",
      "metadata": {
        "id": "Te2vbdg6j19Y"
      },
      "source": [
        "# Analysis performance for different features"
      ]
    },
    {
      "cell_type": "code",
      "metadata": {
        "id": "xm5udPVfj19Y"
      },
      "source": [
        "# save accuracy in array 'acc_features'\n",
        "# save features name in array 'name_features'\n",
        "acc_features = []\n",
        "name_features = []"
      ],
      "execution_count": null,
      "outputs": []
    },
    {
      "cell_type": "markdown",
      "metadata": {
        "id": "uyY6akgCj19Z"
      },
      "source": [
        "### STD--Standard deviation"
      ]
    },
    {
      "cell_type": "code",
      "metadata": {
        "id": "_BaP9a_Bj19Z",
        "colab": {
          "referenced_widgets": [
            "be807a54de104be383ac994586b5e943",
            "c8659bf1eb8442dabc99855ec8b975b8",
            "1bd5e846393045dab8c87d657aee22fa"
          ]
        },
        "outputId": "07bc9b70-3b3f-4e5f-d8ea-a9b07fd70d9a"
      },
      "source": [
        "# index variable\n",
        "'''change name, features'''\n",
        "name = 'STD'\n",
        "\n",
        "# start\n",
        "for i in tqdm(range(10,10+subject_number)):\n",
        "    # read csv files\n",
        "    current_emg = pd.read_csv('data_all_intact/S0' + str(i) + '_emg.csv', header=None)\n",
        "    current_grasp = pd.read_csv('data_all_intact/S0' + str(i) + '_grasp.csv', header=None)\n",
        "    current_grasprepetition = pd.read_csv('data_all_intact/S0' + str(i) + '_grasprepetition.csv', header=None)\n",
        "    \n",
        "    current_static_emg = current_emg.iloc[0:static_end[i-10]]\n",
        "    current_static_grasp = current_grasp.iloc[0:static_end[i-10]]\n",
        "    current_static_grasprepetition = current_grasprepetition.iloc[0:static_end[i-10]]\n",
        "    \n",
        "    # find raw train/test data\n",
        "    train_index = []\n",
        "    test_index = []\n",
        "    for j in range(len(current_static_grasprepetition)):\n",
        "        if current_static_grasprepetition.iloc[j,0] in [1,2,3,4,5,6,7,8,9]:\n",
        "            train_index.append(j)\n",
        "        if current_static_grasprepetition.iloc[j,0] in [10,11,12]:\n",
        "            test_index.append(j)\n",
        "    \n",
        "    trainx_raw = current_static_emg.iloc[train_index].reset_index(drop=True)\n",
        "    trainy_raw = current_static_grasp.iloc[train_index].reset_index(drop=True)\n",
        "\n",
        "    testx_raw = current_static_emg.iloc[test_index].reset_index(drop=True)\n",
        "    testy_raw = current_static_grasp.iloc[test_index].reset_index(drop=True)\n",
        "    \n",
        "    # add overlapping window to train/test data\n",
        "    ## 385 means the overlapping window is 200ms\n",
        "    ## train data\n",
        "    trainx = deepcopy(trainx_raw)\n",
        "    trainy = deepcopy(trainy_raw)\n",
        "    \n",
        "    for a in tqdm(range(385,len(trainx_raw))):\n",
        "        for b in range(0,12):\n",
        "            trainx.iloc[a,b] = trainx_raw.iloc[a-385:a+1,b].std()\n",
        "\n",
        "    trainx = trainx.iloc[385:len(trainx),:]\n",
        "    trainy = trainy.iloc[385:len(trainy),:]\n",
        "    \n",
        "    ## test data\n",
        "    testx = deepcopy(testx_raw)\n",
        "    testy = deepcopy(testy_raw)\n",
        "\n",
        "    for a in tqdm(range(385,len(testx_raw))):\n",
        "        for b in range(0,12):\n",
        "            testx.iloc[a,b] = testx_raw.iloc[a-385:a+1,b].std()\n",
        "\n",
        "    testx = testx.iloc[385:len(testx),:]\n",
        "    testy = testy.iloc[385:len(testy),:]\n",
        "    \n",
        "    # train/test model\n",
        "    lightGBM_model = ltb.LGBMClassifier()\n",
        "    lightGBM_model.fit(trainx,trainy)\n",
        "    expected1 = testy.values.flatten()\n",
        "    predicted1 = lightGBM_model.predict(testx)\n",
        "    counter = 0\n",
        "    for i in range(0, len(expected1)):\n",
        "        if expected1[i] == predicted1[i]:\n",
        "            counter += 1\n",
        "\n",
        "    accuracy1 = counter/len(expected1)\n",
        "\n",
        "acc_features.append(accuracy1)\n",
        "name_features.append(name)"
      ],
      "execution_count": null,
      "outputs": [
        {
          "output_type": "display_data",
          "data": {
            "application/vnd.jupyter.widget-view+json": {
              "model_id": "be807a54de104be383ac994586b5e943",
              "version_major": 2,
              "version_minor": 0
            },
            "text/plain": [
              "HBox(children=(FloatProgress(value=0.0, max=1.0), HTML(value='')))"
            ]
          },
          "metadata": {
            "tags": []
          }
        },
        {
          "output_type": "display_data",
          "data": {
            "application/vnd.jupyter.widget-view+json": {
              "model_id": "c8659bf1eb8442dabc99855ec8b975b8",
              "version_major": 2,
              "version_minor": 0
            },
            "text/plain": [
              "HBox(children=(FloatProgress(value=0.0, max=1623939.0), HTML(value='')))"
            ]
          },
          "metadata": {
            "tags": []
          }
        },
        {
          "output_type": "stream",
          "text": [
            "\n"
          ],
          "name": "stdout"
        },
        {
          "output_type": "display_data",
          "data": {
            "application/vnd.jupyter.widget-view+json": {
              "model_id": "1bd5e846393045dab8c87d657aee22fa",
              "version_major": 2,
              "version_minor": 0
            },
            "text/plain": [
              "HBox(children=(FloatProgress(value=0.0, max=520592.0), HTML(value='')))"
            ]
          },
          "metadata": {
            "tags": []
          }
        },
        {
          "output_type": "stream",
          "text": [
            "\n"
          ],
          "name": "stdout"
        },
        {
          "output_type": "execute_result",
          "data": {
            "text/plain": [
              "LGBMClassifier()"
            ]
          },
          "metadata": {
            "tags": []
          },
          "execution_count": 34
        },
        {
          "output_type": "stream",
          "text": [
            "\n"
          ],
          "name": "stdout"
        }
      ]
    },
    {
      "cell_type": "markdown",
      "metadata": {
        "id": "zZrSfg_-j19a"
      },
      "source": [
        "### RMS--Root Mean Square"
      ]
    },
    {
      "cell_type": "code",
      "metadata": {
        "id": "j6rsQrXmj19b"
      },
      "source": [
        "def rms(self):\n",
        "    current =0\n",
        "    square =0\n",
        "    for i in range(0, len(self)):\n",
        "        current = self.iloc[i]\n",
        "        square += current ** 2\n",
        "    mean = square/len(self)\n",
        "    root = math.sqrt(mean)\n",
        "    return root"
      ],
      "execution_count": null,
      "outputs": []
    },
    {
      "cell_type": "code",
      "metadata": {
        "id": "CHJYEsX0j19b",
        "colab": {
          "referenced_widgets": [
            "2d69e76ff69d4d80883bc81d62785bad",
            "e1713df30d7e4fc6b6570e840d339362",
            "8d9382109fc844d9a0b6e475328a4916"
          ]
        },
        "outputId": "ac468863-7a0e-4969-f266-cd21bee3b63d"
      },
      "source": [
        "# index variable\n",
        "'''change name, features'''\n",
        "\n",
        "name = 'RMS'\n",
        "\n",
        "# start\n",
        "for i in tqdm(range(10,10+subject_number)):\n",
        "    # read csv files\n",
        "    current_emg = pd.read_csv('data_all_intact/S0' + str(i) + '_emg.csv', header=None)\n",
        "    current_grasp = pd.read_csv('data_all_intact/S0' + str(i) + '_grasp.csv', header=None)\n",
        "    current_grasprepetition = pd.read_csv('data_all_intact/S0' + str(i) + '_grasprepetition.csv', header=None)\n",
        "    \n",
        "    current_static_emg = current_emg.iloc[0:static_end[i-10]]\n",
        "    current_static_grasp = current_grasp.iloc[0:static_end[i-10]]\n",
        "    current_static_grasprepetition = current_grasprepetition.iloc[0:static_end[i-10]]\n",
        "    \n",
        "    # find raw train/test data\n",
        "    train_index = []\n",
        "    test_index = []\n",
        "    for j in range(len(current_static_grasprepetition)):\n",
        "        if current_static_grasprepetition.iloc[j,0] in [1,2,3,4,5,6,7,8,9]:\n",
        "            train_index.append(j)\n",
        "        if current_static_grasprepetition.iloc[j,0] in [10,11,12]:\n",
        "            test_index.append(j)\n",
        "    \n",
        "    trainx_raw = current_static_emg.iloc[train_index].reset_index(drop=True)\n",
        "    trainy_raw = current_static_grasp.iloc[train_index].reset_index(drop=True)\n",
        "\n",
        "    testx_raw = current_static_emg.iloc[test_index].reset_index(drop=True)\n",
        "    testy_raw = current_static_grasp.iloc[test_index].reset_index(drop=True)\n",
        "    \n",
        "    # add overlapping window to train/test data\n",
        "    ## 385 means the overlapping window is 200ms\n",
        "    ## train data\n",
        "    trainx = deepcopy(trainx_raw)\n",
        "    trainy = deepcopy(trainy_raw)\n",
        "    \n",
        "    for a in tqdm(range(385,len(trainx_raw))):\n",
        "        for b in range(0,12):\n",
        "            trainx.iloc[a,b] = rms(trainx_raw.iloc[a-385:a+1,b])\n",
        "\n",
        "    trainx = trainx.iloc[385:len(trainx),:]\n",
        "    trainy = trainy.iloc[385:len(trainy),:]\n",
        "    \n",
        "    ## test data\n",
        "    testx = deepcopy(testx_raw)\n",
        "    testy = deepcopy(testy_raw)\n",
        "\n",
        "    for a in tqdm(range(385,len(testx_raw))):\n",
        "        for b in range(0,12):\n",
        "            testx.iloc[a,b] = rms(testx_raw.iloc[a-385:a+1,b])\n",
        "\n",
        "    testx = testx.iloc[385:len(testx),:]\n",
        "    testy = testy.iloc[385:len(testy),:]\n",
        "    \n",
        "    # train/test model\n",
        "    lightGBM_model = ltb.LGBMClassifier()\n",
        "    lightGBM_model.fit(trainx,trainy)\n",
        "    expected1 = testy.values.flatten()\n",
        "    predicted1 = lightGBM_model.predict(testx)\n",
        "    counter = 0\n",
        "    for i in range(0, len(expected1)):\n",
        "        if expected1[i] == predicted1[i]:\n",
        "            counter += 1\n",
        "\n",
        "    accuracy1 = counter/len(expected1)\n",
        "\n",
        "acc_features.append(accuracy1)\n",
        "name_features.append(name)"
      ],
      "execution_count": null,
      "outputs": [
        {
          "output_type": "display_data",
          "data": {
            "application/vnd.jupyter.widget-view+json": {
              "model_id": "2d69e76ff69d4d80883bc81d62785bad",
              "version_major": 2,
              "version_minor": 0
            },
            "text/plain": [
              "HBox(children=(FloatProgress(value=0.0, max=1.0), HTML(value='')))"
            ]
          },
          "metadata": {
            "tags": []
          }
        },
        {
          "output_type": "display_data",
          "data": {
            "application/vnd.jupyter.widget-view+json": {
              "model_id": "e1713df30d7e4fc6b6570e840d339362",
              "version_major": 2,
              "version_minor": 0
            },
            "text/plain": [
              "HBox(children=(FloatProgress(value=0.0, max=1623939.0), HTML(value='')))"
            ]
          },
          "metadata": {
            "tags": []
          }
        },
        {
          "output_type": "stream",
          "text": [
            "\n"
          ],
          "name": "stdout"
        },
        {
          "output_type": "display_data",
          "data": {
            "application/vnd.jupyter.widget-view+json": {
              "model_id": "8d9382109fc844d9a0b6e475328a4916",
              "version_major": 2,
              "version_minor": 0
            },
            "text/plain": [
              "HBox(children=(FloatProgress(value=0.0, max=520592.0), HTML(value='')))"
            ]
          },
          "metadata": {
            "tags": []
          }
        },
        {
          "output_type": "stream",
          "text": [
            "\n"
          ],
          "name": "stdout"
        },
        {
          "output_type": "execute_result",
          "data": {
            "text/plain": [
              "LGBMClassifier()"
            ]
          },
          "metadata": {
            "tags": []
          },
          "execution_count": 37
        },
        {
          "output_type": "stream",
          "text": [
            "\n"
          ],
          "name": "stdout"
        }
      ]
    },
    {
      "cell_type": "code",
      "metadata": {
        "id": "JWa40hQLj19c"
      },
      "source": [
        "trainx.to_csv('featured_data/'+name+'/trainx.csv')\n",
        "trainy.to_csv('featured_data/'+name+'/trainy.csv')\n",
        "testx.to_csv('featured_data/'+name+'/testx.csv')\n",
        "testy.to_csv('featured_data/'+name+'/testy.csv')"
      ],
      "execution_count": null,
      "outputs": []
    },
    {
      "cell_type": "markdown",
      "metadata": {
        "id": "L8xZ_hPpj19d"
      },
      "source": [
        "### IEMG--Integrated EMG"
      ]
    },
    {
      "cell_type": "code",
      "metadata": {
        "id": "1fXKpBz0j19d"
      },
      "source": [
        "def iemg(self):\n",
        "    current =0\n",
        "    absolute =0\n",
        "    for i in range(0, len(self)):\n",
        "        current = self.iloc[i]\n",
        "        absolute += np.abs(current)\n",
        "    return absolute"
      ],
      "execution_count": null,
      "outputs": []
    },
    {
      "cell_type": "code",
      "metadata": {
        "id": "vGbuOrCVj19d",
        "colab": {
          "referenced_widgets": [
            "99cdc0cec8ad48eeb6fdb9aad7304544",
            "45944f054b3143be8b4f961f2e7d1ada"
          ]
        },
        "outputId": "fa747fac-f187-411a-c0b1-0af8b93d32b6"
      },
      "source": [
        "# index variable\n",
        "'''change name, features'''\n",
        "\n",
        "name = 'IEMG'\n",
        "\n",
        "# start\n",
        "for i in tqdm(range(10,10+subject_number)):\n",
        "    # read csv files\n",
        "    current_emg = pd.read_csv('data_all_intact/S0' + str(i) + '_emg.csv', header=None)\n",
        "    current_grasp = pd.read_csv('data_all_intact/S0' + str(i) + '_grasp.csv', header=None)\n",
        "    current_grasprepetition = pd.read_csv('data_all_intact/S0' + str(i) + '_grasprepetition.csv', header=None)\n",
        "    \n",
        "    current_static_emg = current_emg.iloc[0:static_end[i-10]]\n",
        "    current_static_grasp = current_grasp.iloc[0:static_end[i-10]]\n",
        "    current_static_grasprepetition = current_grasprepetition.iloc[0:static_end[i-10]]\n",
        "    \n",
        "    # find raw train/test data\n",
        "    train_index = []\n",
        "    test_index = []\n",
        "    for j in range(len(current_static_grasprepetition)):\n",
        "        if current_static_grasprepetition.iloc[j,0] in [1,2,3,4,5,6,7,8,9]:\n",
        "            train_index.append(j)\n",
        "        if current_static_grasprepetition.iloc[j,0] in [10,11,12]:\n",
        "            test_index.append(j)\n",
        "    \n",
        "    trainx_raw = current_static_emg.iloc[train_index].reset_index(drop=True)\n",
        "    trainy_raw = current_static_grasp.iloc[train_index].reset_index(drop=True)\n",
        "\n",
        "    testx_raw = current_static_emg.iloc[test_index].reset_index(drop=True)\n",
        "    testy_raw = current_static_grasp.iloc[test_index].reset_index(drop=True)\n",
        "    \n",
        "    # add overlapping window to train/test data\n",
        "    ## 385 means the overlapping window is 200ms\n",
        "    ## train data\n",
        "    trainx = deepcopy(trainx_raw)\n",
        "    trainy = deepcopy(trainy_raw)\n",
        "    \n",
        "    for a in tqdm(range(385,len(trainx_raw))):\n",
        "        for b in range(0,12):\n",
        "            trainx.iloc[a,b] = iemg(trainx_raw.iloc[a-385:a+1,b])\n",
        "\n",
        "    trainx = trainx.iloc[385:len(trainx),:]\n",
        "    trainy = trainy.iloc[385:len(trainy),:]\n",
        "    \n",
        "    ## test data\n",
        "    testx = deepcopy(testx_raw)\n",
        "    testy = deepcopy(testy_raw)\n",
        "\n",
        "    for a in tqdm(range(385,len(testx_raw))):\n",
        "        for b in range(0,12):\n",
        "            testx.iloc[a,b] = iemg(testx_raw.iloc[a-385:a+1,b])\n",
        "\n",
        "    testx = testx.iloc[385:len(testx),:]\n",
        "    testy = testy.iloc[385:len(testy),:]\n",
        "    \n",
        "    # train/test model\n",
        "    lightGBM_model = ltb.LGBMClassifier()\n",
        "    lightGBM_model.fit(trainx,trainy)\n",
        "    expected1 = testy.values.flatten()\n",
        "    predicted1 = lightGBM_model.predict(testx)\n",
        "    counter = 0\n",
        "    for i in range(0, len(expected1)):\n",
        "        if expected1[i] == predicted1[i]:\n",
        "            counter += 1\n",
        "\n",
        "    accuracy1 = counter/len(expected1)\n",
        "\n",
        "acc_features.append(accuracy1)\n",
        "name_features.append(name)\n"
      ],
      "execution_count": null,
      "outputs": [
        {
          "output_type": "execute_result",
          "data": {
            "text/plain": [
              "'change name, features'"
            ]
          },
          "metadata": {
            "tags": []
          },
          "execution_count": 50
        },
        {
          "output_type": "display_data",
          "data": {
            "application/vnd.jupyter.widget-view+json": {
              "model_id": "99cdc0cec8ad48eeb6fdb9aad7304544",
              "version_major": 2,
              "version_minor": 0
            },
            "text/plain": [
              "HBox(children=(FloatProgress(value=0.0, max=1.0), HTML(value='')))"
            ]
          },
          "metadata": {
            "tags": []
          }
        },
        {
          "output_type": "display_data",
          "data": {
            "application/vnd.jupyter.widget-view+json": {
              "model_id": "45944f054b3143be8b4f961f2e7d1ada",
              "version_major": 2,
              "version_minor": 0
            },
            "text/plain": [
              "HBox(children=(FloatProgress(value=0.0, max=1623939.0), HTML(value='')))"
            ]
          },
          "metadata": {
            "tags": []
          }
        }
      ]
    },
    {
      "cell_type": "code",
      "metadata": {
        "id": "CDOCHBmYj19e"
      },
      "source": [
        "trainx.to_csv('featured_data/'+name+'/trainx.csv')\n",
        "trainy.to_csv('featured_data/'+name+'/trainy.csv')\n",
        "testx.to_csv('featured_data/'+name+'/testx.csv')\n",
        "testy.to_csv('featured_data/'+name+'/testy.csv')"
      ],
      "execution_count": null,
      "outputs": []
    },
    {
      "cell_type": "code",
      "metadata": {
        "id": "hwcpTX4tj19f"
      },
      "source": [
        ""
      ],
      "execution_count": null,
      "outputs": []
    },
    {
      "cell_type": "code",
      "metadata": {
        "id": "M3CNyo21j19f"
      },
      "source": [
        ""
      ],
      "execution_count": null,
      "outputs": []
    },
    {
      "cell_type": "code",
      "metadata": {
        "id": "U2-ScdVWj19f"
      },
      "source": [
        ""
      ],
      "execution_count": null,
      "outputs": []
    },
    {
      "cell_type": "code",
      "metadata": {
        "id": "Mvsw3BMpj19f"
      },
      "source": [
        "acc_features\n",
        "name_features"
      ],
      "execution_count": null,
      "outputs": []
    },
    {
      "cell_type": "code",
      "metadata": {
        "id": "sc9_-sqfj19f"
      },
      "source": [
        ""
      ],
      "execution_count": null,
      "outputs": []
    },
    {
      "cell_type": "code",
      "metadata": {
        "id": "mbh7EsGXrqV4"
      },
      "source": [
        ""
      ],
      "execution_count": null,
      "outputs": []
    },
    {
      "cell_type": "code",
      "metadata": {
        "id": "B2lq6ZhnrqYl"
      },
      "source": [
        ""
      ],
      "execution_count": null,
      "outputs": []
    },
    {
      "cell_type": "code",
      "metadata": {
        "id": "UOVOr_pBrqbD"
      },
      "source": [
        ""
      ],
      "execution_count": null,
      "outputs": []
    },
    {
      "cell_type": "code",
      "metadata": {
        "id": "awX4xijarqeC"
      },
      "source": [
        ""
      ],
      "execution_count": null,
      "outputs": []
    },
    {
      "cell_type": "code",
      "metadata": {
        "id": "-gm5xV2hrqga"
      },
      "source": [
        ""
      ],
      "execution_count": null,
      "outputs": []
    },
    {
      "cell_type": "code",
      "metadata": {
        "id": "UOfZ5UZQrqjG"
      },
      "source": [
        ""
      ],
      "execution_count": null,
      "outputs": []
    },
    {
      "cell_type": "code",
      "metadata": {
        "id": "_qyOE4acrqmR"
      },
      "source": [
        ""
      ],
      "execution_count": null,
      "outputs": []
    },
    {
      "cell_type": "code",
      "metadata": {
        "id": "qh-rPW9urqoN"
      },
      "source": [
        ""
      ],
      "execution_count": null,
      "outputs": []
    },
    {
      "cell_type": "code",
      "metadata": {
        "id": "fXmFWH59j19g"
      },
      "source": [
        ""
      ],
      "execution_count": null,
      "outputs": []
    },
    {
      "cell_type": "code",
      "metadata": {
        "id": "NO5tLMncj19g",
        "colab": {
          "base_uri": "https://localhost:8080/"
        },
        "outputId": "bd85cb30-4cc1-4c08-84cd-ef5cf3c6a14b"
      },
      "source": [
        "!git status"
      ],
      "execution_count": null,
      "outputs": [
        {
          "output_type": "stream",
          "text": [
            "fatal: not a git repository (or any of the parent directories): .git\n"
          ],
          "name": "stdout"
        }
      ]
    },
    {
      "cell_type": "code",
      "metadata": {
        "id": "DwenNuPlj19g"
      },
      "source": [
        ""
      ],
      "execution_count": null,
      "outputs": []
    },
    {
      "cell_type": "code",
      "metadata": {
        "id": "gJSYpAaoj19g"
      },
      "source": [
        ""
      ],
      "execution_count": null,
      "outputs": []
    },
    {
      "cell_type": "code",
      "metadata": {
        "id": "xRpV2YG2j19g"
      },
      "source": [
        ""
      ],
      "execution_count": null,
      "outputs": []
    },
    {
      "cell_type": "code",
      "metadata": {
        "id": "wIxIBAtpj19g"
      },
      "source": [
        ""
      ],
      "execution_count": null,
      "outputs": []
    },
    {
      "cell_type": "code",
      "metadata": {
        "id": "nvtdR86rj19h"
      },
      "source": [
        ""
      ],
      "execution_count": null,
      "outputs": []
    },
    {
      "cell_type": "code",
      "metadata": {
        "id": "5AgeaeaUj19h"
      },
      "source": [
        ""
      ],
      "execution_count": null,
      "outputs": []
    },
    {
      "cell_type": "code",
      "metadata": {
        "id": "r_td1tdBj19h"
      },
      "source": [
        ""
      ],
      "execution_count": null,
      "outputs": []
    },
    {
      "cell_type": "code",
      "metadata": {
        "id": "PEF_oS9Kj19h"
      },
      "source": [
        ""
      ],
      "execution_count": null,
      "outputs": []
    },
    {
      "cell_type": "code",
      "metadata": {
        "id": "Gy4jSKm2j19h"
      },
      "source": [
        ""
      ],
      "execution_count": null,
      "outputs": []
    },
    {
      "cell_type": "code",
      "metadata": {
        "id": "TOznPIrMj19h"
      },
      "source": [
        ""
      ],
      "execution_count": null,
      "outputs": []
    },
    {
      "cell_type": "code",
      "metadata": {
        "id": "TFkWBphij19i"
      },
      "source": [
        ""
      ],
      "execution_count": null,
      "outputs": []
    },
    {
      "cell_type": "code",
      "metadata": {
        "id": "WNuk-kY-j19i"
      },
      "source": [
        ""
      ],
      "execution_count": null,
      "outputs": []
    },
    {
      "cell_type": "code",
      "metadata": {
        "id": "v9avqH3Fj19i"
      },
      "source": [
        ""
      ],
      "execution_count": null,
      "outputs": []
    },
    {
      "cell_type": "code",
      "metadata": {
        "id": "2s0Ds16kj19i",
        "colab": {
          "base_uri": "https://localhost:8080/"
        },
        "outputId": "f7b132cf-dda7-4cca-f8cb-3417daf4a7fb"
      },
      "source": [
        "from google.colab import drive\n",
        "drive.mount('/content/gdrive')\n",
        "%cd /content/gdrive/My Drive/Colab Notebooks/Research/dataMatteo/more_features\n",
        "!git config --global user.email \"shuow@mun.ca\"\n",
        "!git config --global user.name \"Shuo Wang\""
      ],
      "execution_count": 6,
      "outputs": [
        {
          "output_type": "stream",
          "text": [
            "Drive already mounted at /content/gdrive; to attempt to forcibly remount, call drive.mount(\"/content/gdrive\", force_remount=True).\n",
            "/content/gdrive/My Drive/Colab Notebooks/Research/dataMatteo/more_features\n"
          ],
          "name": "stdout"
        }
      ]
    },
    {
      "cell_type": "code",
      "metadata": {
        "colab": {
          "base_uri": "https://localhost:8080/"
        },
        "id": "_y3zKXLgrweJ",
        "outputId": "14848e4a-a57b-4954-9616-4c977d188fb1"
      },
      "source": [
        "!git status"
      ],
      "execution_count": 16,
      "outputs": [
        {
          "output_type": "stream",
          "text": [
            "On branch main\n",
            "Your branch is ahead of 'origin/main' by 2 commits.\n",
            "  (use \"git push\" to publish your local commits)\n",
            "\n",
            "Changes not staged for commit:\n",
            "  (use \"git add <file>...\" to update what will be committed)\n",
            "  (use \"git checkout -- <file>...\" to discard changes in working directory)\n",
            "\n",
            "\t\u001b[31mmodified:   ../plot.ipynb\u001b[m\n",
            "\n",
            "no changes added to commit (use \"git add\" and/or \"git commit -a\")\n"
          ],
          "name": "stdout"
        }
      ]
    },
    {
      "cell_type": "code",
      "metadata": {
        "id": "gDL31TT8r3Zq"
      },
      "source": [
        "!git add ."
      ],
      "execution_count": 13,
      "outputs": []
    },
    {
      "cell_type": "code",
      "metadata": {
        "colab": {
          "base_uri": "https://localhost:8080/"
        },
        "id": "EkEatffTr_4M",
        "outputId": "c5770287-084b-4164-dfde-b3fd3edca4af"
      },
      "source": [
        "!git commit -m 'add git function on google colab'"
      ],
      "execution_count": 15,
      "outputs": [
        {
          "output_type": "stream",
          "text": [
            "[main da5ff88] add git function on google colab\n",
            " 1 file changed, 1 insertion(+), 1 deletion(-)\n"
          ],
          "name": "stdout"
        }
      ]
    },
    {
      "cell_type": "code",
      "metadata": {
        "colab": {
          "base_uri": "https://localhost:8080/"
        },
        "id": "5vOCdtyBsG5u",
        "outputId": "d21a06a9-939a-443b-b3ae-b1fd72ed56d0"
      },
      "source": [
        "!git push"
      ],
      "execution_count": 17,
      "outputs": [
        {
          "output_type": "stream",
          "text": [
            "Host key verification failed.\r\n",
            "fatal: Could not read from remote repository.\n",
            "\n",
            "Please make sure you have the correct access rights\n",
            "and the repository exists.\n"
          ],
          "name": "stdout"
        }
      ]
    },
    {
      "cell_type": "code",
      "metadata": {
        "id": "e20BmKR7sibO"
      },
      "source": [
        ""
      ],
      "execution_count": null,
      "outputs": []
    }
  ]
}